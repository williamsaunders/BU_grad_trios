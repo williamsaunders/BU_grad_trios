{
 "cells": [
  {
   "cell_type": "code",
   "execution_count": 1,
   "id": "acb68648",
   "metadata": {
    "scrolled": true
   },
   "outputs": [],
   "source": [
    "from functions import *"
   ]
  },
  {
   "cell_type": "code",
   "execution_count": 2,
   "id": "894e0fac",
   "metadata": {},
   "outputs": [
    {
     "data": {
      "application/vnd.jupyter.widget-view+json": {
       "model_id": "e8c53b1236864c878087c43609e94f75",
       "version_major": 2,
       "version_minor": 0
      },
      "text/plain": [
       "Text(value='example1.xlsx', description='Participants file:', style=DescriptionStyle(description_width='initia…"
      ]
     },
     "metadata": {},
     "output_type": "display_data"
    },
    {
     "data": {
      "application/vnd.jupyter.widget-view+json": {
       "model_id": "45f7b3e239794452beeb66dc77302481",
       "version_major": 2,
       "version_minor": 0
      },
      "text/plain": [
       "Button(description='Import', style=ButtonStyle())"
      ]
     },
     "metadata": {},
     "output_type": "display_data"
    },
    {
     "data": {
      "application/vnd.jupyter.widget-view+json": {
       "model_id": "2402a0433673437a83a2d3534ffddb86",
       "version_major": 2,
       "version_minor": 0
      },
      "text/plain": [
       "Dropdown(description='Matching round:', options=(1, 2, 3, 4, 5, 6, 7, 8, 9), style=DescriptionStyle(descriptio…"
      ]
     },
     "metadata": {},
     "output_type": "display_data"
    },
    {
     "data": {
      "application/vnd.jupyter.widget-view+json": {
       "model_id": "7f6ec66d81304cafb6a7c020d367bdbb",
       "version_major": 2,
       "version_minor": 0
      },
      "text/plain": [
       "Button(description='Create Match', style=ButtonStyle())"
      ]
     },
     "metadata": {},
     "output_type": "display_data"
    },
    {
     "data": {
      "application/vnd.jupyter.widget-view+json": {
       "model_id": "37f30d6d93594191930b5e78d96c7788",
       "version_major": 2,
       "version_minor": 0
      },
      "text/plain": [
       "Button(description='Download Match', style=ButtonStyle())"
      ]
     },
     "metadata": {},
     "output_type": "display_data"
    },
    {
     "data": {
      "application/vnd.jupyter.widget-view+json": {
       "model_id": "c749e15326ff4f92bd61d5c1a13af725",
       "version_major": 2,
       "version_minor": 0
      },
      "text/plain": [
       "Button(description='Complete Match', style=ButtonStyle())"
      ]
     },
     "metadata": {},
     "output_type": "display_data"
    },
    {
     "data": {
      "application/vnd.jupyter.widget-view+json": {
       "model_id": "02b6bfaeee234bb0bb7920ad78bd4c55",
       "version_major": 2,
       "version_minor": 0
      },
      "text/plain": [
       "Button(description='Download Data', style=ButtonStyle())"
      ]
     },
     "metadata": {},
     "output_type": "display_data"
    },
    {
     "data": {
      "text/html": [
       "<a download=\"round_1_match.csv\" href=\"data:text/csv;base64,LGZpcnN0X25hbWUsbGFzdF9uYW1lLGVtYWlsLEJVSUQsZGVwYXJ0bWVudCxjdXJyZW50X2dyb3VwCjAsQW5uZSxBZGFtcyxhZGFtc0BidS5lZHUsVTIzNDExODkyLEFzdHJvbm9teSwzCjEsQm9iLEJha2VyLGJha2VyQGJ1LmVkdSxVMzY5OTY2MTUsQmlvbG9neSw2CjIsQ2FsdmluLENsYXJrLGNsYXJrQGJ1LmVkdSxVMjcyMjIwMDEsQ2hlbWlzdHJ5LDMKMyxEYXZlLERhdmlzLGRhdmlzQGJ1LmVkdSxVNzM1ODk3MTIsRGV2ZWxvcG1lbnQsMgo0LEV2ZW4sRXZhbnMsZXZhbnNAYnUuZWR1LFU5MjI1NDMyNCxFbnZpcm9ubWVudGFsIFNjaWVuY2UsMwo1LEZyYW5jaWUsRnJhbmssZnJhbmtAYnUuZWR1LFU2MDIxNjk2OCxGb3JlbnNpY3MsMQo2LEdyYWhhbSxHaG9zaCxnaG9zaEBidS5lZHUsVTgyMzQ3OTg2LEdyZWF0IFN0b3JpZXMsNQo3LEhvbGx5LEhpbGxzLGhpbGxzQGJ1LmVkdSxVMjI0NTQyMDEsSGlzdG9yeSw0CjgsSWtlLElyd2luLGlyd2luQGJ1LmVkdSxVNTA3MzkxNjQsSW5mb3JtYXRpY3MsNwo5LEphbWVzLEpvbmVzLGpvbmVzQGJ1LmVkdSxVNDMxMDgyOTIsSm91cm5hbGlzbSBhbmQgV3JpdGluZywxCjEwLEthaWRlbixLbGVpbixrbGVpbkBidS5lZHUsVTI3ODgxMjUxLEtpbGxlciBXaGFsZXMsMgoxMSxMaWx5LExvcGV6LGxvcGV6QGJ1LmVkdSxVMTExNjc3NzksTGluZ3Vpc3RpY3MsMQoxMixNYXh3ZWxsLE1hc29uLG1hc29uQGJ1LmVkdSxVOTA4OTU4MjQsTWF0aGVtYXRpY3MgYW5kIFN0YXRpc3RpY3MsNQoxMyxOaWNrLE5hbHR5LG5hbHR5QGJ1LmVkdSxVNjM2Njc2NzEsTmV1cm9zY2llbmNlLDIKMTQsT3ByYWgsT2Nob2Esb2Nob2FAYnUuZWR1LFU5NTcyNzY0MCxPcGVyYXRpb25zLDUKMTUsUGF0cmljayxQYXRlbCxwYXRlbEBidS5lZHUsVTkzNzM4NzUxLFBoaWxvc29waHksMQoxNixRdWludG9uLFF1aW5uLHF1aW5uQGJ1LmVkdSxVOTU2NDk4NTQsUXVpY2sgRHJ5aW5nIENlbWVudCwzCjE3LFJvYmVydGEsUmVpbHkscmVpbHlAYnUuZWR1LFU1OTE2ODUyNCxSZWxpZ2lvdXMgU3R1ZGllcyw2CjE4LFNhbGx5LFNtaXRoLHNtaXRoQGJ1LmVkdSxVNDQ1NjQyMDEsU29jaW9sb2d5LDcKMTksVHJhbixUcm90dCx0cm90dEBidS5lZHUsVTcxODUwOTYwLFRvdXJpc20sNAoyMCxVcmllbCxVc21hbix1c21hbkBidS5lZHUsVTE5MDM4MDIzLFVyb2xvZ2ljYWwgU3R1ZGllcyw0CjIxLFZpb2xldCxWYWxkbyx2YWxkb0BidS5lZHUsVTIzNjgzNTM5LFZveWVyaXNtICw1CjIyLFdlc2xleSxXaGl0ZSx3aGl0ZUBidS5lZHUsVTc4MDY3NDUyLFdlc3QgQ29hc3QgTWFjaGluZXMsNAoyMyxYYXZpZXIsWGlhbmcseGlhbmdAYnUuZWR1LFUzNDY3MjAzMyxYYW1pbmF0aW9ucyw3CjI0LFlhYWwsWWFrdWIseWFrdWJAYnUuZWR1LFUyMTM5NDQyNixZT0xPLDIKMjUsWmlvbixaYWZhcix6YWZhckBidS5lZHUsVTkxODc3NzExLFplYnJhIEluZm9ybWF0aWNzLDYK\" target=\"_blank\">download round 1 match</a>"
      ],
      "text/plain": [
       "<IPython.core.display.HTML object>"
      ]
     },
     "metadata": {},
     "output_type": "display_data"
    }
   ],
   "source": [
    "clear_output()\n",
    "display_widget()"
   ]
  },
  {
   "cell_type": "raw",
   "id": "1bcc8ca5",
   "metadata": {
    "scrolled": false
   },
   "source": [
    "data.sort_values(['size_prev_match', 'num_possible_matches', 'randint'])"
   ]
  },
  {
   "cell_type": "markdown",
   "id": "49bb3191",
   "metadata": {},
   "source": [
    "Things to improve:\n",
    "    - Test what happens when I add someone or remove something\n",
    "    - Handle it if there's a failure in the matching --> create a flag column for failed pairings or perhaps just throw them into a large group\n",
    "    - Integrate with and send emails\n",
    "    - Handle storing the data between pairing rounds"
   ]
  },
  {
   "cell_type": "raw",
   "id": "dc1f18a3",
   "metadata": {},
   "source": [
    "#FILE\n",
    "filename = \"round_%i_match.csv\"%round_widget.value\n",
    "csv = match_file.to_csv()\n",
    "b64 = base64.b64encode(csv.encode())\n",
    "payload = b64.decode()\n",
    "\n",
    "#BUTTONS\n",
    "html_buttons = '''<html>\n",
    "<head>\n",
    "<meta name=\"viewport\" content=\"width=device-width, initial-scale=1\">\n",
    "</head>\n",
    "<body>\n",
    "<a download=\"{filename}\" href=\"data:text/csv;base64,{payload}\" download>\n",
    "<button class=\"p-Widget jupyter-widgets jupyter-button widget-button mod-warning\">Download File</button>\n",
    "</a>\n",
    "</body>\n",
    "</html>\n",
    "'''\n",
    "\n",
    "html_button = html_buttons.format(payload=payload, filename=filename)\n",
    "display(HTML(html_button))"
   ]
  }
 ],
 "metadata": {
  "kernelspec": {
   "display_name": "Python 3 (ipykernel)",
   "language": "python",
   "name": "python3"
  },
  "language_info": {
   "codemirror_mode": {
    "name": "ipython",
    "version": 3
   },
   "file_extension": ".py",
   "mimetype": "text/x-python",
   "name": "python",
   "nbconvert_exporter": "python",
   "pygments_lexer": "ipython3",
   "version": "3.7.11"
  }
 },
 "nbformat": 4,
 "nbformat_minor": 5
}
