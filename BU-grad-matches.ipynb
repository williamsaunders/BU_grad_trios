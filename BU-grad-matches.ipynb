{
 "cells": [
  {
   "cell_type": "raw",
   "id": "b8dc77e9",
   "metadata": {
    "scrolled": true
   },
   "source": [
    "from functions import *"
   ]
  },
  {
   "cell_type": "code",
   "execution_count": 1,
   "id": "a8f86f60",
   "metadata": {},
   "outputs": [
    {
     "data": {
      "text/html": [
       "<style>.container { width:95% !important; }</style>"
      ],
      "text/plain": [
       "<IPython.core.display.HTML object>"
      ]
     },
     "metadata": {},
     "output_type": "display_data"
    }
   ],
   "source": [
    "from IPython.core.display import display, HTML\n",
    "display(HTML(\"<style>.container { width:95% !important; }</style>\"))\n",
    "\n",
    "from matplotlib_inline import backend_inline\n",
    "backend_inline.set_matplotlib_formats('retina')\n",
    "\n",
    "import numpy as np\n",
    "import matplotlib\n",
    "import matplotlib.pyplot as plt\n",
    "import pandas as pd\n",
    "from openpyxl import load_workbook\n",
    "\n",
    "import ipywidgets as widgets\n",
    "from IPython.display import display, clear_output\n",
    "from ipywidgets import HBox, VBox\n",
    "from IPython.display import HTML\n",
    "import base64\n",
    "\n",
    "#import os\n",
    "from email.message import EmailMessage\n",
    "import ssl\n",
    "import smtplib\n",
    "\n",
    "pd.set_option('display.max_rows', None)\n",
    "\n",
    "def find_nearest(array, value):\n",
    "    array = np.asarray(array)\n",
    "    idx = (np.abs(array - value)).argmin()\n",
    "    return idx\n",
    "\n",
    "def init(df):\n",
    "    df['prior_matches'] = [ [] for _ in range(len(df)) ]\n",
    "    df['current_match'] = [ [] for _ in range(len(df)) ]\n",
    "    df['current_group'] = -1\n",
    "    df['num_prior_matches'] = 0\n",
    "    df['size_prev_match'] = 0 # whether were in a 3 or 4 group previously, or 0 if new\n",
    "\n",
    "def complete_match():\n",
    "    # move the current match to the end of the list of prior matches\n",
    "    for index, row in data.iterrows():\n",
    "        data.loc[index, 'prior_matches'].extend(row['current_match'])\n",
    "        data.loc[index, 'num_prior_matches'] = len(row['prior_matches'])\n",
    "    data['size_prev_match'] = [len(a) for a in data['current_match'].tolist()]\n",
    "    data['current_match'] = [ [] for _ in range(len(data)) ]\n",
    "    data['current_group'] = -1\n",
    "\n",
    "def possible_matches():\n",
    "    # after each match, run this to determine future possible matches\n",
    "    data['possible_matches'] = [ [] for _ in range(len(data)) ]\n",
    "    data['num_possible_matches'] = -1\n",
    "    for index, row in data.iterrows():\n",
    "        non_previous_matches = data.index.to_numpy()[~np.in1d(data.index.to_numpy(), row['prior_matches'])]\n",
    "        non_same_department = data.index.to_numpy()[~(row['department'] == data['department'])]\n",
    "        data.loc[index, 'possible_matches'].extend(np.intersect1d(non_previous_matches, non_same_department))\n",
    "        data.loc[index, 'num_possible_matches'] = len(data.loc[index, 'possible_matches'])\n",
    "\n",
    "def perform_random_loop(df):\n",
    "    # variable to determine when we've succeeded\n",
    "    out = 0\n",
    "    # clear any attemps to match that failed\n",
    "    df['current_match'] = [ [] for _ in range(len(df)) ]\n",
    "    df['current_group'] = -1\n",
    "    # create a random column \n",
    "    df.loc[:, 'randint'] = np.random.choice(np.arange(0, len(df)), size=len(df), replace=False)\n",
    "    \n",
    "    groupnum = 1 # a counter for the group number\n",
    "    # iterate through, starting with the most number of possible matches \n",
    "    for i, (index, row) in enumerate(df.sort_values(['size_prev_match', \\\n",
    "                                                     'num_possible_matches', \\\n",
    "                                                     'randint']).iterrows()):\n",
    "        # select possible matches for person1\n",
    "        if i == 0:\n",
    "            p1_possible = df.loc[index, 'possible_matches']\n",
    "        elif i > 0 :\n",
    "            if len(remaining) == 0:\n",
    "                out = 1\n",
    "                return out\n",
    "                break\n",
    "            elif index not in remaining.index.tolist(): \n",
    "                continue\n",
    "            else:\n",
    "                p1_possible = np.intersect1d(remaining.loc[index, 'possible_matches'], \\\n",
    "                                             remaining.index.tolist())\n",
    "        if len(p1_possible) <= 1:\n",
    "            return out\n",
    "            break\n",
    "        # pick a random person2\n",
    "        p2 = df.loc[p1_possible].sample(1)\n",
    "        p2_possible = p2['possible_matches'].tolist()\n",
    "        # take person1 possible matches and remove person2 and all of person2's not possible matches\n",
    "        p1p2_possible_step1 = np.array(p1_possible)[~np.isin(p1_possible, p2.index.tolist())] # remove p2\n",
    "        p1p2_possible = p1p2_possible_step1[np.isin(p1p2_possible_step1, p2_possible)]\n",
    "\n",
    "        if len(p1p2_possible) == 0:\n",
    "            return out\n",
    "            break\n",
    "        # pick a random person3\n",
    "        p3 = df.loc[p1p2_possible].sample(1)\n",
    "        p3_possible = p3['possible_matches'].tolist()\n",
    "\n",
    "        if i < number4groups*4:\n",
    "            # take person3 out oc p1p2_possible\n",
    "            p1p2p3_possible_step1 = np.array(p1p2_possible)[~np.isin(p1p2_possible, p3.index.tolist())] \n",
    "            # keep only person3's possible matches \n",
    "            p1p2p3_possible = p1p2p3_possible_step1[np.isin(p1p2p3_possible_step1, p3_possible)]\n",
    "            \n",
    "            if len(p1p2p3_possible) == 0:\n",
    "                return out\n",
    "                break\n",
    "            # pick a random person4\n",
    "            p4 = df.loc[p1p2p3_possible].sample(1)\n",
    "\n",
    "            # write the current match for all *4* group members\n",
    "            df.loc[index, 'current_match'].extend([index, p2.index[0], p3.index[0], p4.index[0]])\n",
    "            df.loc[p2.index[0], 'current_match'].extend([p2.index[0], index, p3.index[0], p4.index[0]])\n",
    "            df.loc[p3.index[0], 'current_match'].extend([p3.index[0], index, p2.index[0], p4.index[0]])\n",
    "            df.loc[p4.index[0], 'current_match'].extend([p4.index[0], index, p2.index[0], p3.index[0]])\n",
    "            \n",
    "            df.loc[index, 'current_group'] = groupnum\n",
    "            df.loc[p2.index[0], 'current_group'] = groupnum\n",
    "            df.loc[p3.index[0], 'current_group'] = groupnum\n",
    "            df.loc[p4.index[0], 'current_group'] = groupnum\n",
    "            \n",
    "        else:\n",
    "            # write the current match for all *3* group members\n",
    "            df.loc[index, 'current_match'].extend([index, p2.index[0], p3.index[0]])\n",
    "            df.loc[p2.index[0], 'current_match'].extend([p2.index[0], index, p3.index[0]])\n",
    "            df.loc[p3.index[0], 'current_match'].extend([p3.index[0], index, p2.index[0]])\n",
    "            \n",
    "            df.loc[index, 'current_group'] = groupnum\n",
    "            df.loc[p2.index[0], 'current_group'] = groupnum\n",
    "            df.loc[p3.index[0], 'current_group'] = groupnum\n",
    "\n",
    "        # create a new version of the overall df with the matches rows removed\n",
    "        if i == 0:\n",
    "            if i < number4groups*4:\n",
    "                remaining = df.loc[df.index.difference((index, p2.index[0], p3.index[0], p4.index[0]))]\n",
    "            else:\n",
    "                remaining = df.loc[df.index.difference((index, p2.index[0], p3.index[0]))]\n",
    "        if i > 0:\n",
    "            if i < number4groups*4:\n",
    "                remaining = remaining.loc[remaining.index.difference((index, p2.index[0], \\\n",
    "                                                                      p3.index[0], p4.index[0]))]\n",
    "            else:\n",
    "                remaining = remaining.loc[remaining.index.difference((index, p2.index[0], p3.index[0]))]\n",
    "\n",
    "        if i == len(df) - 1:\n",
    "            out = 1\n",
    "            return out\n",
    "\n",
    "        groupnum+=1\n",
    "\n",
    "def create_match():\n",
    "    # for all matches after the first\n",
    "    global out, hr_full_data, hr_data, full_data, data\n",
    "    counter = 0\n",
    "    out = 0\n",
    "    while out == 0:\n",
    "        counter += 1\n",
    "        out = perform_random_loop(data)  \n",
    "        print(counter, '\\r', end='')\n",
    "        if counter >= 1000:\n",
    "            print('match failed, not possible')\n",
    "            break\n",
    "            \n",
    "    # use data to populate hr_data, full_data, and hr_full_data\n",
    "    hr_data['group' + str(round_widget.value)] = data['current_group']\n",
    "    hr_full_data = pd.merge(hr_full_data, hr_data, how='left')\n",
    "    full_data.loc[data.index, :] = data[:]\n",
    "    \n",
    "    \n",
    "#def create_match_download_file(data, pairing_round):\n",
    "#    global match_file\n",
    "#    match_file =  data[['first_name', 'last_name', 'email', 'BUID', 'department', 'current_group']]\n",
    "#    match_file.rename(columns={'current_group':'round_%s_group'%pairing_round}, inplace=True)\n",
    "#    return match_file\n",
    "\n",
    "def create_download_link(df, title=\"Download CSV file\", filename=\"data.csv\"):  \n",
    "    csv = df.to_csv(index=False)\n",
    "    b64 = base64.b64encode(csv.encode())\n",
    "    payload = b64.decode()\n",
    "    html = '<a download=\"{filename}\" href=\"data:text/csv;base64,{payload}\" target=\"_blank\">{title}</a>'\n",
    "    html = html.format(payload=payload,title=title,filename=filename)\n",
    "    display(HTML(html))\n",
    "    \n",
    "    \n",
    "def send_emails(df, round_number):\n",
    "    print('sending emails...', end='\\r')\n",
    "    for group_num in np.arange(1, df['current_group'].max()+1):\n",
    "        group = df.loc[df['current_group'] == group_num]\n",
    "        #group['email'].tolist()\n",
    "\n",
    "        email_sender = 'bumeetup@bu.edu'\n",
    "        email_password = 'SWsocial2022'\n",
    "\n",
    "        email_recipients = group['email'].tolist()\n",
    "\n",
    "        greeting = ', ' . join(group['first_name'].tolist()[:-1] + \\\n",
    "                               ['and ' + group['first_name'].tolist()[-1]])\n",
    "\n",
    "        subject = 'BU Meetup Round %s'%str(round_number)\n",
    "        body = \\\n",
    "'''Hello %s,\n",
    "\n",
    "The %s of you have been successfully matched for Round %s of the BU Meetup! \\\n",
    "Reach out to each other and schedule a time to get coffee, go for a walk, have a meal, \\\n",
    "or anything else you’d like to do. \n",
    "\n",
    "Please be courteous to your group members: respond to each other and make every effort to meet in person. \\\n",
    "If you absolutely cannot find a time to meet in person, you may meet over Zoom. \n",
    "\n",
    "Feel free to reach out if you have any questions or concerns and we’ll do our best to get back to you. \n",
    "\n",
    "And most of all…have fun! \n",
    "\n",
    "~BU Meetup''' %(greeting, str(len(email_recipients)), str(round_number))\n",
    "\n",
    "        em = EmailMessage()\n",
    "        em['From'] = email_sender\n",
    "        em['To'] = email_recipients\n",
    "        em['Subject'] = subject\n",
    "        em.set_content(body)\n",
    "\n",
    "        context = ssl.create_default_context()\n",
    "\n",
    "        with smtplib.SMTP_SSL('smtp.gmail.com', 465, context=context) as smtp:\n",
    "            smtp.login(email_sender, email_password)\n",
    "            smtp.sendmail(email_sender, email_recipients, em.as_string())\n",
    "\n",
    "    print('emails sent       ', '\\r', end='')\n",
    "\n",
    "\n",
    "style = {'description_width': 'initial'}\n",
    "\n",
    "file_widget = widgets.Text(\n",
    "    description='Participants file:', \n",
    "    disabled=False, \n",
    "    style=style)\n",
    "\n",
    "datafile_widget = widgets.Text(\n",
    "    description='Data file:', \n",
    "    disabled=False, \n",
    "    style=style)\n",
    "\n",
    "round_widget = widgets.Dropdown(\n",
    "    options=np.arange(1, 10),\n",
    "    description='Matching round:', \n",
    "    disabled=False, \n",
    "    style=style)\n",
    "import_button = widgets.Button(description='Import', style=style)\n",
    "#possible_matches_botton = widgets.Button(description='Possible Matches', style=style)\n",
    "create_match_button = widgets.Button(description='Create Match', style=style)\n",
    "#write_match_button = widgets.Button(description='Write Match', style=style)\n",
    "#complete_match_button = widgets.Button(description='Complete Match', style=style)\n",
    "download_match_button = widgets.Button(description='Download Match', style=style)\n",
    "download_data_button = widgets.Button(description='Download Data', style=style)\n",
    "send_emails_button = widgets.Button(description='Send Emails', style=style)\n",
    "\n",
    "def display_widget():\n",
    "    display(round_widget), \\\n",
    "    display(file_widget), \\\n",
    "    display(datafile_widget), \\\n",
    "    display(import_button), \\\n",
    "#    display(possible_matches_botton), \\\n",
    "    display(create_match_button), \\\n",
    "#    display(write_match_button), \\\n",
    "    display(download_match_button), \\\n",
    "#    display(complete_match_button), \\\n",
    "    display(send_emails_button), \\\n",
    "    display(download_data_button)\n",
    "\n",
    "data = None\n",
    "number3groups = None\n",
    "number4groups = None\n",
    "\n",
    "def event_import(button):\n",
    "    global hr_full_data, hr_data, full_data, data, number3groups, number4groups\n",
    "    clear_output()\n",
    "    display_widget()\n",
    "    \n",
    "    def convert_cell(cell):\n",
    "        if cell != '[]':\n",
    "            a = cell.strip('][').split(', ')\n",
    "            b = [int(i) for i in a]\n",
    "            return b\n",
    "        else:\n",
    "            return []\n",
    "\n",
    "    # have to parse the inputs differently if it's the first round or subsequent rounds \n",
    "    if round_widget.value == 1:\n",
    "        # hr_full_data is human-readable data with everyone who filled out the intake form\n",
    "        hr_full_data = pd.read_excel(file_widget.value) \n",
    "        # hr_data is hr_full_data with only people opted into the current round  \n",
    "        hr_data = hr_full_data[hr_full_data[hr_full_data.columns[-1]]=='Yes'].copy() \n",
    "        # full_data is [kind of] non-human-readable data for everyone \n",
    "        full_data = hr_full_data[['full_name', 'first_name', 'BUID', 'email', 'school', \\\n",
    "                                  'department']].copy()\n",
    "        # data is [kind of] non-human-readable data for people opted into the round. \n",
    "        #     data is what I use to do all of the actual processing\n",
    "        data = hr_data[['full_name','first_name','BUID','email','school','department']].copy()\n",
    "       \n",
    "        init(full_data)\n",
    "        init(data)\n",
    "\n",
    "    elif round_widget.value > 1:\n",
    "        # hr_full_data is human-readable data with everyone who filled out the intake form\n",
    "        hr_full_data = pd.read_excel(file_widget.value)\n",
    "        # hr_data is hr_full_data with only people opted into the current round  \n",
    "        hr_data = hr_full_data[hr_full_data[hr_full_data.columns[-1]]=='Yes'].copy() \n",
    "        # full_data is [kind of] non-human-readable data for everyone \n",
    "        full_data = pd.read_excel(datafile_widget.value, dtype=object)\n",
    "        for index, row in full_data.iterrows():\n",
    "            full_data.loc[index, 'prior_matches'] = convert_cell(row['prior_matches'])\n",
    "    \n",
    "        # data is [kind of] non-human-readable data for people opted into the round. \n",
    "        #     data is what I use to do all of the actual processing\n",
    "        data = full_data[hr_full_data[hr_full_data.columns[-1]]=='Yes'].copy() \n",
    "    \n",
    "    n = len(data)\n",
    "    number3groups = n // 3\n",
    "    number4groups = n - (number3groups * 3)\n",
    "\n",
    "    print('imported participants')\n",
    "\n",
    "def event_create_match(button):\n",
    "    global hr_full_data, hr_data, full_data, data\n",
    "    clear_output()\n",
    "    display_widget()\n",
    "    possible_matches()\n",
    "    #print('round %i possible matches complete'%round_widget.value)\n",
    "    create_match()\n",
    "    if out == 1:\n",
    "        print('round %i match created'%round_widget.value)\n",
    "    if out == 0:\n",
    "        print('round %i match failed'%round_widget.value)\n",
    "\n",
    "def event_download_match(button):\n",
    "    global hr_full_data, hr_data, full_data, data\n",
    "    clear_output()\n",
    "    display_widget()\n",
    "    # the file to download is the human-readable full data\n",
    "    return create_download_link(hr_full_data, title=\"download round %i match\"%round_widget.value, \\\n",
    "                         filename=\"round_%i_match.csv\"%round_widget.value)\n",
    "\n",
    "def event_download_data(button):\n",
    "    global hr_full_data, hr_data, full_data, data\n",
    "    clear_output()\n",
    "    display_widget()\n",
    "    complete_match()\n",
    "    full_data.loc[data.index, :] = data[:]\n",
    "    return create_download_link(full_data, title=\"download round %i data\"%round_widget.value, \\\n",
    "                         filename=\"round_%i_data.csv\"%round_widget.value)\n",
    "\n",
    "def event_send_emails(button):\n",
    "    clear_output()\n",
    "    display_widget()\n",
    "    send_emails(data, round_widget.value)\n",
    "\n",
    "import_button.on_click(event_import)\n",
    "create_match_button.on_click(event_create_match)\n",
    "#complete_match_button.on_click(event_complete_match)\n",
    "download_match_button.on_click(event_download_match)\n",
    "download_data_button.on_click(event_download_data)\n",
    "send_emails_button.on_click(event_send_emails)"
   ]
  },
  {
   "cell_type": "raw",
   "id": "018f38e9",
   "metadata": {},
   "source": [
    "Fall2022_program/stress_test/Match1_intake_example1.xlsx\n",
    "Fall2022_program/stress_test/Match2_intake_example1.xlsx\n",
    "Fall2022_program/stress_test/round_1_data.xlsx\n",
    "Fall2022_program/stress_test/Match3_intake_example1.xlsx\n",
    "Fall2022_program/stress_test/round_2_data.xlsx\n",
    "Fall2022_program/stress_test/Match4_intake_example1.xlsx\n",
    "Fall2022_program/stress_test/round_3_data.xlsx"
   ]
  },
  {
   "cell_type": "code",
   "execution_count": 2,
   "id": "1a55dfe7",
   "metadata": {
    "scrolled": false
   },
   "outputs": [
    {
     "data": {
      "application/vnd.jupyter.widget-view+json": {
       "model_id": "96ec4e9ad8c542a2b2ab3983abcd0b84",
       "version_major": 2,
       "version_minor": 0
      },
      "text/plain": [
       "Dropdown(description='Matching round:', options=(1, 2, 3, 4, 5, 6, 7, 8, 9), style=DescriptionStyle(descriptio…"
      ]
     },
     "metadata": {},
     "output_type": "display_data"
    },
    {
     "data": {
      "application/vnd.jupyter.widget-view+json": {
       "model_id": "ad3fc0204fde4ab08e74d0d93d5f7fde",
       "version_major": 2,
       "version_minor": 0
      },
      "text/plain": [
       "Text(value='Fall2022_program/stress_test/Match1_intake_example1.xlsx', description='Participants file:', style…"
      ]
     },
     "metadata": {},
     "output_type": "display_data"
    },
    {
     "data": {
      "application/vnd.jupyter.widget-view+json": {
       "model_id": "a7d1b82b760f481fadf9d7ac9130939f",
       "version_major": 2,
       "version_minor": 0
      },
      "text/plain": [
       "Text(value='', description='Data file:', style=DescriptionStyle(description_width='initial'))"
      ]
     },
     "metadata": {},
     "output_type": "display_data"
    },
    {
     "data": {
      "application/vnd.jupyter.widget-view+json": {
       "model_id": "f0c38bcbec9046dcb4e454fa95611a04",
       "version_major": 2,
       "version_minor": 0
      },
      "text/plain": [
       "Button(description='Import', style=ButtonStyle())"
      ]
     },
     "metadata": {},
     "output_type": "display_data"
    },
    {
     "data": {
      "application/vnd.jupyter.widget-view+json": {
       "model_id": "feb3effdcc58409bb010a4deb6a2470e",
       "version_major": 2,
       "version_minor": 0
      },
      "text/plain": [
       "Button(description='Create Match', style=ButtonStyle())"
      ]
     },
     "metadata": {},
     "output_type": "display_data"
    },
    {
     "data": {
      "application/vnd.jupyter.widget-view+json": {
       "model_id": "9244e248fb204679b8abd5b8dba28572",
       "version_major": 2,
       "version_minor": 0
      },
      "text/plain": [
       "Button(description='Download Match', style=ButtonStyle())"
      ]
     },
     "metadata": {},
     "output_type": "display_data"
    },
    {
     "data": {
      "application/vnd.jupyter.widget-view+json": {
       "model_id": "86b2e0af30e143ea99193366290d14d3",
       "version_major": 2,
       "version_minor": 0
      },
      "text/plain": [
       "Button(description='Send Emails', style=ButtonStyle())"
      ]
     },
     "metadata": {},
     "output_type": "display_data"
    },
    {
     "data": {
      "application/vnd.jupyter.widget-view+json": {
       "model_id": "3bfd944aa24f47f58d3a56738250beb0",
       "version_major": 2,
       "version_minor": 0
      },
      "text/plain": [
       "Button(description='Download Data', style=ButtonStyle())"
      ]
     },
     "metadata": {},
     "output_type": "display_data"
    },
    {
     "data": {
      "text/html": [
       "<a download=\"round_1_data.csv\" href=\"data:text/csv;base64,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\" target=\"_blank\">download round 1 data</a>"
      ],
      "text/plain": [
       "<IPython.core.display.HTML object>"
      ]
     },
     "metadata": {},
     "output_type": "display_data"
    }
   ],
   "source": [
    "clear_output()\n",
    "display_widget()"
   ]
  },
  {
   "cell_type": "code",
   "execution_count": null,
   "id": "f7b63dc7",
   "metadata": {},
   "outputs": [],
   "source": []
  }
 ],
 "metadata": {
  "kernelspec": {
   "display_name": "Python 3 (ipykernel)",
   "language": "python",
   "name": "python3"
  },
  "language_info": {
   "codemirror_mode": {
    "name": "ipython",
    "version": 3
   },
   "file_extension": ".py",
   "mimetype": "text/x-python",
   "name": "python",
   "nbconvert_exporter": "python",
   "pygments_lexer": "ipython3",
   "version": "3.7.11"
  }
 },
 "nbformat": 4,
 "nbformat_minor": 5
}
