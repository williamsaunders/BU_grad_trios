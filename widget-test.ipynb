{
 "cells": [
  {
   "cell_type": "code",
   "execution_count": 1,
   "id": "9a45ec6c",
   "metadata": {},
   "outputs": [],
   "source": [
    "import ipywidgets as widgets\n",
    "from IPython.display import display, clear_output\n",
    "from ipywidgets import HBox, VBox"
   ]
  },
  {
   "cell_type": "code",
   "execution_count": 2,
   "id": "29f44b8a",
   "metadata": {},
   "outputs": [],
   "source": [
    "number1_widget = widgets.Text(\n",
    "    description='number', \n",
    "    disabled=False)\n",
    "\n",
    "number2_widget = widgets.Text(\n",
    "    description='number', \n",
    "    disabled=False)"
   ]
  },
  {
   "cell_type": "code",
   "execution_count": 3,
   "id": "80ac5873",
   "metadata": {},
   "outputs": [],
   "source": [
    "add_button = widgets.Button(description='add')"
   ]
  },
  {
   "cell_type": "code",
   "execution_count": 4,
   "id": "2f868def",
   "metadata": {},
   "outputs": [],
   "source": [
    "def display_widget():\n",
    "    display(number1_widget), display(number2_widget), display(add_button)"
   ]
  },
  {
   "cell_type": "code",
   "execution_count": 12,
   "id": "881162b7",
   "metadata": {},
   "outputs": [],
   "source": [
    "def event_add(button):\n",
    "    clear_output()\n",
    "    display_widget()\n",
    "    add = float(number1_widget.value) + float(number2_widget.value)\n",
    "    print(add)"
   ]
  },
  {
   "cell_type": "code",
   "execution_count": 13,
   "id": "974144ff",
   "metadata": {},
   "outputs": [],
   "source": [
    "add_button.on_click(event_add)"
   ]
  },
  {
   "cell_type": "code",
   "execution_count": 15,
   "id": "2343813a",
   "metadata": {},
   "outputs": [
    {
     "data": {
      "application/vnd.jupyter.widget-view+json": {
       "model_id": "eafd1d3b9e494e6ab0e50d43a0a8d040",
       "version_major": 2,
       "version_minor": 0
      },
      "text/plain": [
       "Text(value='1', description='number')"
      ]
     },
     "metadata": {},
     "output_type": "display_data"
    },
    {
     "data": {
      "application/vnd.jupyter.widget-view+json": {
       "model_id": "d2282f6cb48b4b7c896834c5ec3e6197",
       "version_major": 2,
       "version_minor": 0
      },
      "text/plain": [
       "Text(value='1', description='number')"
      ]
     },
     "metadata": {},
     "output_type": "display_data"
    },
    {
     "data": {
      "application/vnd.jupyter.widget-view+json": {
       "model_id": "ce3c7b2205384024874c0a5aefdc3494",
       "version_major": 2,
       "version_minor": 0
      },
      "text/plain": [
       "Button(description='add', style=ButtonStyle())"
      ]
     },
     "metadata": {},
     "output_type": "display_data"
    },
    {
     "name": "stdout",
     "output_type": "stream",
     "text": [
      "2.0\n"
     ]
    }
   ],
   "source": [
    "clear_output()\n",
    "display_widget()"
   ]
  }
 ],
 "metadata": {
  "kernelspec": {
   "display_name": "Python 3 (ipykernel)",
   "language": "python",
   "name": "python3"
  },
  "language_info": {
   "codemirror_mode": {
    "name": "ipython",
    "version": 3
   },
   "file_extension": ".py",
   "mimetype": "text/x-python",
   "name": "python",
   "nbconvert_exporter": "python",
   "pygments_lexer": "ipython3",
   "version": "3.7.11"
  }
 },
 "nbformat": 4,
 "nbformat_minor": 5
}
