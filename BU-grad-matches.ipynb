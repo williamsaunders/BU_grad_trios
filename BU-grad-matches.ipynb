{
 "cells": [
  {
   "cell_type": "raw",
   "id": "63871547",
   "metadata": {
    "scrolled": true
   },
   "source": [
    "from functions import *"
   ]
  },
  {
   "cell_type": "code",
   "execution_count": 1,
   "id": "af9b94cd",
   "metadata": {},
   "outputs": [
    {
     "data": {
      "text/html": [
       "<style>.container { width:95% !important; }</style>"
      ],
      "text/plain": [
       "<IPython.core.display.HTML object>"
      ]
     },
     "metadata": {},
     "output_type": "display_data"
    }
   ],
   "source": [
    "from IPython.core.display import display, HTML\n",
    "display(HTML(\"<style>.container { width:95% !important; }</style>\"))\n",
    "\n",
    "from matplotlib_inline import backend_inline\n",
    "backend_inline.set_matplotlib_formats('retina')\n",
    "\n",
    "import numpy as np\n",
    "import matplotlib\n",
    "import matplotlib.pyplot as plt\n",
    "import pandas as pd\n",
    "from openpyxl import load_workbook\n",
    "\n",
    "import ipywidgets as widgets\n",
    "from IPython.display import display, clear_output\n",
    "from ipywidgets import HBox, VBox\n",
    "from IPython.display import HTML\n",
    "import base64\n",
    "\n",
    "#import os\n",
    "from email.message import EmailMessage\n",
    "import ssl\n",
    "import smtplib\n",
    "\n",
    "pd.set_option('display.max_rows', None)\n",
    "\n",
    "def find_nearest(array, value):\n",
    "    array = np.asarray(array)\n",
    "    idx = (np.abs(array - value)).argmin()\n",
    "    return idx\n",
    "\n",
    "def init(df):\n",
    "    df['prior_matches'] = [ [] for _ in range(len(df)) ]\n",
    "    df['current_match'] = [ [] for _ in range(len(df)) ]\n",
    "    df['current_group'] = -1\n",
    "    df['num_prior_matches'] = 0\n",
    "    df['size_prev_match'] = 0 # whether were in a 3 or 4 group previously, or 0 if new\n",
    "\n",
    "def complete_match(df):\n",
    "    # move the current match to the end of the list of prior matches\n",
    "    for index, row in df.iterrows():\n",
    "        df.loc[index, 'prior_matches'].extend(row['current_match'])\n",
    "        df.loc[index, 'num_prior_matches'] = len(row['prior_matches'])\n",
    "    df['size_prev_match'] = [len(a) for a in df['current_match'].tolist()]\n",
    "    df['current_match'] = [ [] for _ in range(len(df)) ]\n",
    "    df['current_group'] = -1\n",
    "\n",
    "def possible_matches(df):\n",
    "    # after each match, run this to determine future possible matches\n",
    "    df['possible_matches'] = [ [] for _ in range(len(df)) ]\n",
    "    df['num_possible_matches'] = -1\n",
    "    for index, row in df.iterrows():\n",
    "        non_previous_matches = df.index.to_numpy()[~np.in1d(df.index.to_numpy(), row['prior_matches'])]\n",
    "        non_same_department = df.index.to_numpy()[~(row['department'] == df['department'])]\n",
    "        df.loc[index, 'possible_matches'].extend(np.intersect1d(non_previous_matches, non_same_department))\n",
    "        df.loc[index, 'num_possible_matches'] = len(df.loc[index, 'possible_matches'])\n",
    "\n",
    "def perform_random_loop(df):\n",
    "    # variable to determine when we've succeeded\n",
    "    out = 0\n",
    "    # clear any attemps to match that failed\n",
    "    df['current_match'] = [ [] for _ in range(len(df)) ]\n",
    "    df['current_group'] = -1\n",
    "    # create a random column \n",
    "    df.loc[:, 'randint'] = np.random.choice(np.arange(0, len(df)), size=len(df), replace=False)\n",
    "    \n",
    "    groupnum = 1 # a counter for the group number\n",
    "    # iterate through, starting with the most number of possible matches \n",
    "    for i, (index, row) in enumerate(df.sort_values(['size_prev_match',                                                      'num_possible_matches',                                                      'randint']).iterrows()):\n",
    "        # select possible matches for person1\n",
    "        if i == 0:\n",
    "            p1_possible = df.loc[index, 'possible_matches']\n",
    "        elif i > 0 :\n",
    "            if len(remaining) == 0:\n",
    "                out = 1\n",
    "                return out\n",
    "                break\n",
    "            elif index not in remaining.index.tolist(): \n",
    "                continue\n",
    "            else:\n",
    "                p1_possible = np.intersect1d(remaining.loc[index, 'possible_matches'],                                              remaining.index.tolist())\n",
    "        if len(p1_possible) <= 1:\n",
    "            return out\n",
    "            break\n",
    "        # pick a random person2\n",
    "        p2 = df.loc[p1_possible].sample(1)\n",
    "        p2_possible = p2['possible_matches'].tolist()\n",
    "        # take person1 possible matches and remove person2 and all of person2's not possible matches\n",
    "        p1p2_possible_step1 = np.array(p1_possible)[~np.isin(p1_possible, p2.index.tolist())] # remove p2\n",
    "        p1p2_possible = p1p2_possible_step1[np.isin(p1p2_possible_step1, p2_possible)]\n",
    "\n",
    "        if len(p1p2_possible) == 0:\n",
    "            return out\n",
    "            break\n",
    "        # pick a random person3\n",
    "        p3 = df.loc[p1p2_possible].sample(1)\n",
    "        p3_possible = p3['possible_matches'].tolist()\n",
    "\n",
    "        if i < number4groups*4:\n",
    "            # take person3 out oc p1p2_possible\n",
    "            p1p2p3_possible_step1 = np.array(p1p2_possible)[~np.isin(p1p2_possible, p3.index.tolist())] \n",
    "            # keep only person3's possible matches \n",
    "            p1p2p3_possible = p1p2p3_possible_step1[np.isin(p1p2p3_possible_step1, p3_possible)]\n",
    "            \n",
    "            if len(p1p2p3_possible) == 0:\n",
    "                return out\n",
    "                break\n",
    "            # pick a random person4\n",
    "            p4 = df.loc[p1p2p3_possible].sample(1)\n",
    "\n",
    "            # write the current match for all *4* group members\n",
    "            df.loc[index, 'current_match'].extend([index, p2.index[0], p3.index[0], p4.index[0]])\n",
    "            df.loc[p2.index[0], 'current_match'].extend([p2.index[0], index, p3.index[0], p4.index[0]])\n",
    "            df.loc[p3.index[0], 'current_match'].extend([p3.index[0], index, p2.index[0], p4.index[0]])\n",
    "            df.loc[p4.index[0], 'current_match'].extend([p4.index[0], index, p2.index[0], p3.index[0]])\n",
    "            \n",
    "            df.loc[index, 'current_group'] = groupnum\n",
    "            df.loc[p2.index[0], 'current_group'] = groupnum\n",
    "            df.loc[p3.index[0], 'current_group'] = groupnum\n",
    "            df.loc[p4.index[0], 'current_group'] = groupnum\n",
    "            \n",
    "        else:\n",
    "            # write the current match for all *3* group members\n",
    "            df.loc[index, 'current_match'].extend([index, p2.index[0], p3.index[0]])\n",
    "            df.loc[p2.index[0], 'current_match'].extend([p2.index[0], index, p3.index[0]])\n",
    "            df.loc[p3.index[0], 'current_match'].extend([p3.index[0], index, p2.index[0]])\n",
    "            \n",
    "            df.loc[index, 'current_group'] = groupnum\n",
    "            df.loc[p2.index[0], 'current_group'] = groupnum\n",
    "            df.loc[p3.index[0], 'current_group'] = groupnum\n",
    "\n",
    "        # create a new version of the overall df with the matches rows removed\n",
    "        if i == 0:\n",
    "            if i < number4groups*4:\n",
    "                remaining = df.loc[df.index.difference((index, p2.index[0], p3.index[0], p4.index[0]))]\n",
    "            else:\n",
    "                remaining = df.loc[df.index.difference((index, p2.index[0], p3.index[0]))]\n",
    "        if i > 0:\n",
    "            if i < number4groups*4:\n",
    "                remaining = remaining.loc[remaining.index.difference((index, p2.index[0],                                                                       p3.index[0], p4.index[0]))]\n",
    "            else:\n",
    "                remaining = remaining.loc[remaining.index.difference((index, p2.index[0], p3.index[0]))]\n",
    "\n",
    "        if i == len(df) - 1:\n",
    "            out = 1\n",
    "            return out\n",
    "\n",
    "        groupnum+=1\n",
    "\n",
    "def create_match(df):\n",
    "    # for all matches after the first\n",
    "    global out\n",
    "    counter = 0\n",
    "    out = 0\n",
    "    while out == 0:\n",
    "        counter += 1\n",
    "        out = perform_random_loop(df)  \n",
    "        print(counter, '\\r', end='')\n",
    "        if counter >= 1000:\n",
    "            print('match failed, not possible')\n",
    "            break\n",
    "    #if counter < 1000:\n",
    "    #    print('took ',counter, ' tries')\n",
    "    #    print('match succeeded')\n",
    "    return df\n",
    "\n",
    "def create_match_download_file(data, pairing_round):\n",
    "    global match_file\n",
    "    match_file =  data[['first_name', 'last_name', 'email', 'BUID', 'department', 'current_group']]\n",
    "    match_file.rename(columns={'current_group':'round_%s_group'%pairing_round}, inplace=True)\n",
    "    return match_file\n",
    "\n",
    "def create_download_link(df, title=\"Download CSV file\", filename=\"data.csv\"):  \n",
    "    csv = df.to_csv()\n",
    "    b64 = base64.b64encode(csv.encode())\n",
    "    payload = b64.decode()\n",
    "    html = '<a download=\"{filename}\" href=\"data:text/csv;base64,{payload}\" target=\"_blank\">{title}</a>'\n",
    "    html = html.format(payload=payload,title=title,filename=filename)\n",
    "    display(HTML(html))\n",
    "    \n",
    "    \n",
    "def send_emails(df, round_number):\n",
    "    print('sending emails...', end='\\r')\n",
    "    for group_num in np.arange(1, df['current_group'].max()+1):\n",
    "        group = df.loc[df['current_group'] == group_num]\n",
    "        #group['email'].tolist()\n",
    "\n",
    "        email_sender = 'bumeetup@bu.edu'\n",
    "        email_password = 'SWsocial2022'\n",
    "\n",
    "        email_recipients = group['email'].tolist()\n",
    "\n",
    "        greeting = ', ' . join(group['first_name'].tolist()[:-1] + ['and ' + group['first_name'].tolist()[-1]])\n",
    "\n",
    "        subject = 'BU Meetup Round %s'%str(round_number)\n",
    "        body = '''\n",
    "Hello %s,\n",
    "\n",
    "The %s of you have been successfully matched for round %s of the BU Meetup! Reach out to each other and schedule a time to get coffee, go for a walk, have a meal, or anything else you’d like to do. \n",
    "\n",
    "Please be courteous to your group members: respond to each other and make every effort to meet in person. If you absolutely cannot find a time to meet in person, you may meet over Zoom. \n",
    "\n",
    "Feel free to reach out if you have any questions or concerns and we’ll do our best to get back to you. \n",
    "\n",
    "And most of all…have fun! \n",
    "\n",
    "Our best,\n",
    "The BU Meetup Team\n",
    "        ''' %(greeting, str(len(email_recipients)), str(round_number))\n",
    "\n",
    "        em = EmailMessage()\n",
    "        em['From'] = email_sender\n",
    "        em['To'] = email_recipients\n",
    "        em['Subject'] = subject\n",
    "        em.set_content(body)\n",
    "\n",
    "        context = ssl.create_default_context()\n",
    "\n",
    "        with smtplib.SMTP_SSL('smtp.gmail.com', 465, context=context) as smtp:\n",
    "            smtp.login(email_sender, email_password)\n",
    "            smtp.sendmail(email_sender, email_recipients, em.as_string())\n",
    "\n",
    "        break\n",
    "    print('emails sent       ', '\\r', end='')\n",
    "\n",
    "\n",
    "style = {'description_width': 'initial'}\n",
    "\n",
    "file_widget = widgets.Text(\n",
    "    description='Participants file:', \n",
    "    disabled=False, \n",
    "    style=style)\n",
    "\n",
    "round_widget = widgets.Dropdown(\n",
    "    options=np.arange(1, 10),\n",
    "    description='Matching round:', \n",
    "    disabled=False, \n",
    "    style=style)\n",
    "import_button = widgets.Button(description='Import', style=style)\n",
    "#possible_matches_botton = widgets.Button(description='Possible Matches', style=style)\n",
    "create_match_button = widgets.Button(description='Create Match', style=style)\n",
    "#write_match_button = widgets.Button(description='Write Match', style=style)\n",
    "#complete_match_button = widgets.Button(description='Complete Match', style=style)\n",
    "download_match_button = widgets.Button(description='Download Match', style=style)\n",
    "download_data_button = widgets.Button(description='Download Data', style=style)\n",
    "send_emails_button = widgets.Button(description='Send Emails', style=style)\n",
    "\n",
    "def display_widget():\n",
    "    display(file_widget), \\\n",
    "    display(import_button), \\\n",
    "    display(round_widget), \\\n",
    "#    display(possible_matches_botton), \\\n",
    "    display(create_match_button), \\\n",
    "#    display(write_match_button), \\\n",
    "    display(download_match_button), \\\n",
    "#    display(complete_match_button), \\\n",
    "    display(send_emails_button), \\\n",
    "    display(download_data_button)\n",
    "\n",
    "data = None\n",
    "number3groups = None\n",
    "number4groups = None\n",
    "\n",
    "def event_import(button):\n",
    "    global data, number3groups, number4groups\n",
    "    clear_output()\n",
    "    display_widget()\n",
    "    data = pd.read_excel(file_widget.value)\n",
    "    init(data)\n",
    "    \n",
    "    n = len(data)\n",
    "    number3groups = n // 3\n",
    "    number4groups = n - (number3groups * 3)\n",
    "\n",
    "    print('imported participants')\n",
    "\n",
    "def event_create_match(button):\n",
    "    global data\n",
    "    clear_output()\n",
    "    display_widget()\n",
    "    possible_matches(data)\n",
    "    #print('round %i possible matches complete'%round_widget.value)\n",
    "\n",
    "    data = create_match(data)\n",
    "    if out == 1:\n",
    "        print('round %i match created'%round_widget.value)\n",
    "    if out == 0:\n",
    "        print('round %i match failed'%round_widget.value)\n",
    "\n",
    "def event_download_match(button):\n",
    "    clear_output()\n",
    "    display_widget()\n",
    "    match_file = create_match_download_file(data, round_widget.value)\n",
    "    return create_download_link(match_file, title=\"download round %i match\"%round_widget.value, \\\n",
    "                         filename=\"round_%i_match.csv\"%round_widget.value)\n",
    "\n",
    "def event_download_data(button):\n",
    "    clear_output()\n",
    "    display_widget()\n",
    "    complete_match(data)\n",
    "    return create_download_link(data, title=\"download round %i data\"%round_widget.value, \\\n",
    "                         filename=\"round_%i_data.csv\"%round_widget.value)\n",
    "\n",
    "def event_send_emails(button):\n",
    "    clear_output()\n",
    "    display_widget()\n",
    "    send_emails(data, round_widget.value)\n",
    "\n",
    "import_button.on_click(event_import)\n",
    "create_match_button.on_click(event_create_match)\n",
    "#complete_match_button.on_click(event_complete_match)\n",
    "download_match_button.on_click(event_download_match)\n",
    "download_data_button.on_click(event_download_data)\n",
    "send_emails_button.on_click(event_send_emails)"
   ]
  },
  {
   "cell_type": "code",
   "execution_count": 2,
   "id": "78b4643e",
   "metadata": {
    "scrolled": true
   },
   "outputs": [
    {
     "data": {
      "application/vnd.jupyter.widget-view+json": {
       "model_id": "a483329058bc40d7bd45dece349531cf",
       "version_major": 2,
       "version_minor": 0
      },
      "text/plain": [
       "Text(value='example6.xlsx', description='Participants file:', style=DescriptionStyle(description_width='initia…"
      ]
     },
     "metadata": {},
     "output_type": "display_data"
    },
    {
     "data": {
      "application/vnd.jupyter.widget-view+json": {
       "model_id": "7fbe9b296c054e98b3a782227f3e54bd",
       "version_major": 2,
       "version_minor": 0
      },
      "text/plain": [
       "Button(description='Import', style=ButtonStyle())"
      ]
     },
     "metadata": {},
     "output_type": "display_data"
    },
    {
     "data": {
      "application/vnd.jupyter.widget-view+json": {
       "model_id": "51e02facfbc34da18632ac9e4dc1a119",
       "version_major": 2,
       "version_minor": 0
      },
      "text/plain": [
       "Dropdown(description='Matching round:', options=(1, 2, 3, 4, 5, 6, 7, 8, 9), style=DescriptionStyle(descriptio…"
      ]
     },
     "metadata": {},
     "output_type": "display_data"
    },
    {
     "data": {
      "application/vnd.jupyter.widget-view+json": {
       "model_id": "b479246d13a94738ab94f2450c915be0",
       "version_major": 2,
       "version_minor": 0
      },
      "text/plain": [
       "Button(description='Create Match', style=ButtonStyle())"
      ]
     },
     "metadata": {},
     "output_type": "display_data"
    },
    {
     "data": {
      "application/vnd.jupyter.widget-view+json": {
       "model_id": "5ff4235f423c495488d58cd397aa2116",
       "version_major": 2,
       "version_minor": 0
      },
      "text/plain": [
       "Button(description='Download Match', style=ButtonStyle())"
      ]
     },
     "metadata": {},
     "output_type": "display_data"
    },
    {
     "data": {
      "application/vnd.jupyter.widget-view+json": {
       "model_id": "e65b67299e5c4fbc846168ebd9cf95da",
       "version_major": 2,
       "version_minor": 0
      },
      "text/plain": [
       "Button(description='Send Emails', style=ButtonStyle())"
      ]
     },
     "metadata": {},
     "output_type": "display_data"
    },
    {
     "data": {
      "application/vnd.jupyter.widget-view+json": {
       "model_id": "15fea9c825b4483da733ff03d0719a03",
       "version_major": 2,
       "version_minor": 0
      },
      "text/plain": [
       "Button(description='Download Data', style=ButtonStyle())"
      ]
     },
     "metadata": {},
     "output_type": "display_data"
    },
    {
     "name": "stdout",
     "output_type": "stream",
     "text": [
      "emails sent        \r"
     ]
    }
   ],
   "source": [
    "clear_output()\n",
    "display_widget()"
   ]
  },
  {
   "cell_type": "code",
   "execution_count": null,
   "id": "b9af23ff",
   "metadata": {},
   "outputs": [],
   "source": []
  },
  {
   "cell_type": "markdown",
   "id": "0351facd",
   "metadata": {},
   "source": [
    "Things to improve:\n",
    "    - Test what happens when I add someone or remove something\n",
    "    - Handle it if there's a failure in the matching --> create a flag column for failed pairings or perhaps just throw them into a large group"
   ]
  }
 ],
 "metadata": {
  "kernelspec": {
   "display_name": "Python 3 (ipykernel)",
   "language": "python",
   "name": "python3"
  },
  "language_info": {
   "codemirror_mode": {
    "name": "ipython",
    "version": 3
   },
   "file_extension": ".py",
   "mimetype": "text/x-python",
   "name": "python",
   "nbconvert_exporter": "python",
   "pygments_lexer": "ipython3",
   "version": "3.7.11"
  }
 },
 "nbformat": 4,
 "nbformat_minor": 5
}
