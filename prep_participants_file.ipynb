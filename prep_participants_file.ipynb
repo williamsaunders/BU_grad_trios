{
 "cells": [
  {
   "cell_type": "markdown",
   "id": "26fa5064",
   "metadata": {},
   "source": [
    "This program takes in: \n",
    "1) a list of opted-in emails  \n",
    "2) the participants file from the previous round  \n",
    "3) the master list of participants\n",
    "\n",
    "and returns \n",
    "1) the participants file for the upcoming round  "
   ]
  },
  {
   "cell_type": "code",
   "execution_count": 1,
   "id": "c5ff3cc8",
   "metadata": {},
   "outputs": [
    {
     "data": {
      "text/html": [
       "<style>.container { width:95% !important; }</style>"
      ],
      "text/plain": [
       "<IPython.core.display.HTML object>"
      ]
     },
     "metadata": {},
     "output_type": "display_data"
    }
   ],
   "source": [
    "from IPython.display import display, HTML\n",
    "display(HTML(\"<style>.container { width:95% !important; }</style>\"))\n",
    "\n",
    "from matplotlib_inline import backend_inline\n",
    "backend_inline.set_matplotlib_formats('retina')"
   ]
  },
  {
   "cell_type": "code",
   "execution_count": 2,
   "id": "dee59fba",
   "metadata": {},
   "outputs": [],
   "source": [
    "import numpy as np\n",
    "import pandas as pd\n",
    "pd.set_option('display.max_rows', None)\n",
    "import ipywidgets as widgets\n",
    "from IPython.display import display, clear_output\n",
    "from ipywidgets import HBox, VBox\n",
    "from IPython.display import HTML\n",
    "import base64\n",
    "import time"
   ]
  },
  {
   "cell_type": "code",
   "execution_count": 3,
   "id": "73675222",
   "metadata": {},
   "outputs": [],
   "source": [
    "style = {'description_width': 'auto'}\n",
    "\n",
    "master_widget = widgets.Text(\n",
    "    description='Master file:', \n",
    "    disabled=False, \n",
    "    style=style)\n",
    "\n",
    "file_widget = widgets.Text(\n",
    "    description='Participants file:', \n",
    "    disabled=False, \n",
    "    style=style)\n",
    "\n",
    "optin_widget = widgets.Text(\n",
    "    description='Opt-in file:', \n",
    "    disabled=False, \n",
    "    style=style)\n",
    "\n",
    "datafile_widget = widgets.Text(\n",
    "    description='Data file:', \n",
    "    disabled=False, \n",
    "    style=style)\n",
    "\n",
    "round_widget = widgets.Dropdown(\n",
    "    options=np.arange(1, 10),\n",
    "    description='Matching round:', \n",
    "    disabled=False, \n",
    "    style=style)\n",
    "\n",
    "import_button = widgets.Button(description='Import', style=style)\n",
    "sync_button = widgets.Button(description='Sync', style=style)\n",
    "download_data_button = widgets.Button(description='Download Data', style=style)\n",
    "\n",
    "def display_widget():\n",
    "    display(round_widget), \\\n",
    "    display(master_widget), \\\n",
    "    display(file_widget), \\\n",
    "    display(optin_widget), \\\n",
    "    display(import_button), \\\n",
    "    display(sync_button), \\\n",
    "    display(download_data_button)"
   ]
  },
  {
   "cell_type": "code",
   "execution_count": 4,
   "id": "0b48cafc",
   "metadata": {},
   "outputs": [],
   "source": [
    "def event_import(button):\n",
    "    global master_data, participants_data, optin\n",
    "    # imports the participants data and opt-in email list\n",
    "    clear_output()\n",
    "    display_widget()\n",
    "        \n",
    "    master_data = pd.read_excel(master_widget.value, index_col=0)\n",
    "    participants_data = pd.read_excel(file_widget.value, index_col=0)\n",
    "    optin = pd.read_excel(optin_widget.value, names=['email'])\n",
    "    \n",
    "    # make lowercase and remove spaces\n",
    "    master_data['email'] = master_data['email'].str.lower()\n",
    "    master_data['email'] = master_data['email'].str.strip()\n",
    "    participants_data['email'] = participants_data['email'].str.lower()\n",
    "    participants_data['email'] = participants_data['email'].str.strip()\n",
    "    optin['email'] = optin['email'].str.lower()\n",
    "    optin['email'] = optin['email'].str.strip()\n",
    "    \n",
    "    print('Imported')"
   ]
  },
  {
   "cell_type": "code",
   "execution_count": 5,
   "id": "29cbf587",
   "metadata": {},
   "outputs": [],
   "source": [
    "def event_sync(button):\n",
    "    # match up the two datasets \n",
    "    global master_data, participants_data, optin\n",
    "    clear_output()\n",
    "    display_widget()\n",
    "    \n",
    "    # populate the participants list with recent additions to the master list\n",
    "    participants_data = pd.merge(master_data, participants_data, how='outer')\n",
    "    \n",
    "    # check if the length of the intersection between the two lists is the same as the length of optin\n",
    "    # if it isn't, then that means there is an error\n",
    "    if np.count_nonzero(np.in1d(participants_data['email'].to_numpy(), optin['email'].to_numpy())) != \\\n",
    "                len(optin):\n",
    "        if np.count_nonzero(np.in1d(participants_data['email'].to_numpy(), optin['email'].to_numpy())) < \\\n",
    "            len(optin):\n",
    "            print('Lengths don\\'t match, likely an opt-in participant didn\\'t fill out the intake form')\n",
    "            print('Fix the participants / opt-in lists and start again')\n",
    "    \n",
    "        elif np.count_nonzero(np.in1d(participants_data['email'].to_numpy(), optin['email'].to_numpy())) > \\\n",
    "            len(optin):\n",
    "            print('Lengths don\\'t match, likely there is a duplicate in the intake form')\n",
    "            print('Fix the participants / opt-in lists and start again')\n",
    "    \n",
    "    else:\n",
    "        print('Lengths match, good, proceeding')\n",
    "        time.sleep(2)\n",
    "        # populate the current round opt-in column from the opt-in list\n",
    "        participants_data['round'+str(round_widget.value)] = np.zeros(len(participants_data))\n",
    "        for i, answer in enumerate(np.in1d(participants_data['email'].to_numpy(), \\\n",
    "                                           optin['email'].to_numpy())):\n",
    "            if answer:\n",
    "                participants_data.loc[i, 'round'+str(round_widget.value)] = 'Yes'\n",
    "            else:\n",
    "                participants_data.loc[i, 'round'+str(round_widget.value)] = 'No'\n",
    "        \n",
    "        # replace field that's entirely space (or empty) with 'No'\n",
    "        participants_data.replace(r'^\\s*$', 'No', regex=True)\n",
    "                    \n",
    "        if np.any(participants_data['round'+str(round_widget.value)]) == 0:\n",
    "            # make sure they were each given 'Yes' or 'No'\n",
    "            print('ERROR')\n",
    "        else:\n",
    "            print('All done')"
   ]
  },
  {
   "cell_type": "code",
   "execution_count": 6,
   "id": "886b5a0d",
   "metadata": {},
   "outputs": [],
   "source": [
    "def create_download_link(df, title=\"Download CSV file\", filename=\"data.csv\"): \n",
    "    # turns the pandas DataFrame into a csv to download\n",
    "    csv = df.to_csv(index=True)\n",
    "    b64 = base64.b64encode(csv.encode())\n",
    "    payload = b64.decode()\n",
    "    html = '<a download=\"{filename}\" href=\"data:text/csv;base64,{payload}\" target=\"_blank\">{title}</a>'\n",
    "    html = html.format(payload=payload,title=title,filename=filename)\n",
    "    display(HTML(html))\n",
    "    \n",
    "def event_download_data(button):\n",
    "    # button to download the participants data\n",
    "    global master_data, participants_data, optin\n",
    "    clear_output()\n",
    "    display_widget()\n",
    "    return create_download_link(participants_data, \\\n",
    "                                title=\"download round %i participants\"%round_widget.value, \\\n",
    "                                filename=\"round_%i_participants.csv\"%round_widget.value)"
   ]
  },
  {
   "cell_type": "code",
   "execution_count": 7,
   "id": "3c9fb8e1",
   "metadata": {},
   "outputs": [],
   "source": [
    "# connecting the jupyter buttons to the actions for each button \n",
    "import_button.on_click(event_import)\n",
    "sync_button.on_click(event_sync)\n",
    "download_data_button.on_click(event_download_data)"
   ]
  },
  {
   "cell_type": "raw",
   "id": "89995162",
   "metadata": {},
   "source": [
    "Participants: Spring2023_program/round_1_master.xlsx\n",
    "Master: Spring2023_program/round_1_master.xlsx\n",
    "optin: Spring2023_program/round_1_optin.xlsx"
   ]
  },
  {
   "cell_type": "code",
   "execution_count": 8,
   "id": "eae16b48",
   "metadata": {},
   "outputs": [
    {
     "data": {
      "application/vnd.jupyter.widget-view+json": {
       "model_id": "5cfb0c9d18d6481cbbfab359ba841535",
       "version_major": 2,
       "version_minor": 0
      },
      "text/plain": [
       "Dropdown(description='Matching round:', options=(1, 2, 3, 4, 5, 6, 7, 8, 9), style=DescriptionStyle(descriptio…"
      ]
     },
     "metadata": {},
     "output_type": "display_data"
    },
    {
     "data": {
      "application/vnd.jupyter.widget-view+json": {
       "model_id": "358a8703b98a4499abc7f0b5de69c10a",
       "version_major": 2,
       "version_minor": 0
      },
      "text/plain": [
       "Text(value='Spring2023_program/round_1_master.xlsx', description='Master file:', style=TextStyle(description_w…"
      ]
     },
     "metadata": {},
     "output_type": "display_data"
    },
    {
     "data": {
      "application/vnd.jupyter.widget-view+json": {
       "model_id": "6f0d419a0c93433d9450b017d7ec1ebf",
       "version_major": 2,
       "version_minor": 0
      },
      "text/plain": [
       "Text(value='Spring2023_program/round_1_master.xlsx', description='Participants file:', style=TextStyle(descrip…"
      ]
     },
     "metadata": {},
     "output_type": "display_data"
    },
    {
     "data": {
      "application/vnd.jupyter.widget-view+json": {
       "model_id": "3025e2aab544456f9c1dad4d4a6409c0",
       "version_major": 2,
       "version_minor": 0
      },
      "text/plain": [
       "Text(value='Spring2023_program/round_1_optin.xlsx', description='Opt-in file:', style=TextStyle(description_wi…"
      ]
     },
     "metadata": {},
     "output_type": "display_data"
    },
    {
     "data": {
      "application/vnd.jupyter.widget-view+json": {
       "model_id": "2316216777bd41a19a4ffecd35d076d5",
       "version_major": 2,
       "version_minor": 0
      },
      "text/plain": [
       "Button(description='Import', style=ButtonStyle())"
      ]
     },
     "metadata": {},
     "output_type": "display_data"
    },
    {
     "data": {
      "application/vnd.jupyter.widget-view+json": {
       "model_id": "97c6a9b36b1b44f48962bf6cd9645979",
       "version_major": 2,
       "version_minor": 0
      },
      "text/plain": [
       "Button(description='Sync', style=ButtonStyle())"
      ]
     },
     "metadata": {},
     "output_type": "display_data"
    },
    {
     "data": {
      "application/vnd.jupyter.widget-view+json": {
       "model_id": "596395ed340b4784a7135b0c5354235f",
       "version_major": 2,
       "version_minor": 0
      },
      "text/plain": [
       "Button(description='Download Data', style=ButtonStyle())"
      ]
     },
     "metadata": {},
     "output_type": "display_data"
    },
    {
     "data": {
      "text/html": [
       "<a download=\"round_1_participants.csv\" href=\"data:text/csv;base64,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\" target=\"_blank\">download round 1 participants</a>"
      ],
      "text/plain": [
       "<IPython.core.display.HTML object>"
      ]
     },
     "metadata": {},
     "output_type": "display_data"
    }
   ],
   "source": [
    "clear_output()\n",
    "display_widget()"
   ]
  }
 ],
 "metadata": {
  "kernelspec": {
   "display_name": "Python 3 (ipykernel)",
   "language": "python",
   "name": "python3"
  },
  "language_info": {
   "codemirror_mode": {
    "name": "ipython",
    "version": 3
   },
   "file_extension": ".py",
   "mimetype": "text/x-python",
   "name": "python",
   "nbconvert_exporter": "python",
   "pygments_lexer": "ipython3",
   "version": "3.9.13"
  }
 },
 "nbformat": 4,
 "nbformat_minor": 5
}
