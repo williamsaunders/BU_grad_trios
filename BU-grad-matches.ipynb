{
 "cells": [
  {
   "cell_type": "code",
   "execution_count": 1,
   "id": "53ce743d",
   "metadata": {
    "scrolled": true
   },
   "outputs": [
    {
     "data": {
      "text/html": [
       "<style>.container { width:95% !important; }</style>"
      ],
      "text/plain": [
       "<IPython.core.display.HTML object>"
      ]
     },
     "metadata": {},
     "output_type": "display_data"
    }
   ],
   "source": [
    "from functions import *"
   ]
  },
  {
   "cell_type": "code",
   "execution_count": 2,
   "id": "e6ad7f98",
   "metadata": {},
   "outputs": [
    {
     "data": {
      "application/vnd.jupyter.widget-view+json": {
       "model_id": "0a0b4efd3c684ff3812a6fa2df4488db",
       "version_major": 2,
       "version_minor": 0
      },
      "text/plain": [
       "Text(value='example5.xlsx', description='Participants file:', style=DescriptionStyle(description_width='initia…"
      ]
     },
     "metadata": {},
     "output_type": "display_data"
    },
    {
     "data": {
      "application/vnd.jupyter.widget-view+json": {
       "model_id": "8a3e89750e074821b325856f4a1df8d1",
       "version_major": 2,
       "version_minor": 0
      },
      "text/plain": [
       "Button(description='Import', style=ButtonStyle())"
      ]
     },
     "metadata": {},
     "output_type": "display_data"
    },
    {
     "data": {
      "application/vnd.jupyter.widget-view+json": {
       "model_id": "94bbf5a04c3144bcb644c0ba58c4a6ba",
       "version_major": 2,
       "version_minor": 0
      },
      "text/plain": [
       "Dropdown(description='Matching round:', options=(1, 2, 3, 4, 5, 6, 7, 8, 9), style=DescriptionStyle(descriptio…"
      ]
     },
     "metadata": {},
     "output_type": "display_data"
    },
    {
     "data": {
      "application/vnd.jupyter.widget-view+json": {
       "model_id": "92d45e359a774318b181baa784889abc",
       "version_major": 2,
       "version_minor": 0
      },
      "text/plain": [
       "Button(description='Create Match', style=ButtonStyle())"
      ]
     },
     "metadata": {},
     "output_type": "display_data"
    },
    {
     "data": {
      "application/vnd.jupyter.widget-view+json": {
       "model_id": "3e5880f5351d4a238352bbf09c23b845",
       "version_major": 2,
       "version_minor": 0
      },
      "text/plain": [
       "Button(description='Download Match', style=ButtonStyle())"
      ]
     },
     "metadata": {},
     "output_type": "display_data"
    },
    {
     "data": {
      "application/vnd.jupyter.widget-view+json": {
       "model_id": "6dadd73a2bad4d7e8d873d698b81224a",
       "version_major": 2,
       "version_minor": 0
      },
      "text/plain": [
       "Button(description='Complete Match', style=ButtonStyle())"
      ]
     },
     "metadata": {},
     "output_type": "display_data"
    },
    {
     "data": {
      "application/vnd.jupyter.widget-view+json": {
       "model_id": "873a9c607464441d801a9cf59d307485",
       "version_major": 2,
       "version_minor": 0
      },
      "text/plain": [
       "Button(description='Download Data', style=ButtonStyle())"
      ]
     },
     "metadata": {},
     "output_type": "display_data"
    },
    {
     "ename": "NameError",
     "evalue": "name 'pairing_round' is not defined",
     "output_type": "error",
     "traceback": [
      "\u001b[0;31m---------------------------------------------------------------------------\u001b[0m",
      "\u001b[0;31mNameError\u001b[0m                                 Traceback (most recent call last)",
      "\u001b[0;32m~/Documents/BU_grad_trios/functions.py\u001b[0m in \u001b[0;36mevent_download_match\u001b[0;34m(button)\u001b[0m\n\u001b[1;32m    286\u001b[0m     \u001b[0mclear_output\u001b[0m\u001b[0;34m(\u001b[0m\u001b[0;34m)\u001b[0m\u001b[0;34m\u001b[0m\u001b[0;34m\u001b[0m\u001b[0m\n\u001b[1;32m    287\u001b[0m     \u001b[0mdisplay_widget\u001b[0m\u001b[0;34m(\u001b[0m\u001b[0;34m)\u001b[0m\u001b[0;34m\u001b[0m\u001b[0;34m\u001b[0m\u001b[0m\n\u001b[0;32m--> 288\u001b[0;31m     \u001b[0mmatch_file\u001b[0m \u001b[0;34m=\u001b[0m \u001b[0mcreate_match_download_file\u001b[0m\u001b[0;34m(\u001b[0m\u001b[0mdata\u001b[0m\u001b[0;34m,\u001b[0m \u001b[0mpairing_round\u001b[0m\u001b[0;34m)\u001b[0m\u001b[0;34m\u001b[0m\u001b[0;34m\u001b[0m\u001b[0m\n\u001b[0m\u001b[1;32m    289\u001b[0m     return create_download_link(match_file, title=\"download round %i match\"%round_widget.value, \\\n\u001b[1;32m    290\u001b[0m                          filename=\"round_%i_match.csv\"%round_widget.value)\n",
      "\u001b[0;31mNameError\u001b[0m: name 'pairing_round' is not defined"
     ]
    }
   ],
   "source": [
    "clear_output()\n",
    "display_widget()"
   ]
  },
  {
   "cell_type": "raw",
   "id": "0b0719da",
   "metadata": {
    "scrolled": false
   },
   "source": [
    "data.sort_values(['size_prev_match', 'num_possible_matches', 'randint'])"
   ]
  },
  {
   "cell_type": "markdown",
   "id": "08f15cec",
   "metadata": {},
   "source": [
    "Things to improve:\n",
    "    - Test what happens when I add someone or remove something\n",
    "    - Handle it if there's a failure in the matching --> create a flag column for failed pairings or perhaps just throw them into a large group\n",
    "    - Integrate with and send emails\n",
    "    - Handle storing the data between pairing rounds"
   ]
  },
  {
   "cell_type": "raw",
   "id": "60e6d60a",
   "metadata": {},
   "source": [
    "#FILE\n",
    "filename = \"round_%i_match.csv\"%round_widget.value\n",
    "csv = match_file.to_csv()\n",
    "b64 = base64.b64encode(csv.encode())\n",
    "payload = b64.decode()\n",
    "\n",
    "#BUTTONS\n",
    "html_buttons = '''<html>\n",
    "<head>\n",
    "<meta name=\"viewport\" content=\"width=device-width, initial-scale=1\">\n",
    "</head>\n",
    "<body>\n",
    "<a download=\"{filename}\" href=\"data:text/csv;base64,{payload}\" download>\n",
    "<button class=\"p-Widget jupyter-widgets jupyter-button widget-button mod-warning\">Download File</button>\n",
    "</a>\n",
    "</body>\n",
    "</html>\n",
    "'''\n",
    "\n",
    "html_button = html_buttons.format(payload=payload, filename=filename)\n",
    "display(HTML(html_button))"
   ]
  }
 ],
 "metadata": {
  "kernelspec": {
   "display_name": "Python 3 (ipykernel)",
   "language": "python",
   "name": "python3"
  },
  "language_info": {
   "codemirror_mode": {
    "name": "ipython",
    "version": 3
   },
   "file_extension": ".py",
   "mimetype": "text/x-python",
   "name": "python",
   "nbconvert_exporter": "python",
   "pygments_lexer": "ipython3",
   "version": "3.7.11"
  }
 },
 "nbformat": 4,
 "nbformat_minor": 5
}
