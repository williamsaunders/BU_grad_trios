{
 "cells": [
  {
   "cell_type": "code",
   "execution_count": 1,
   "id": "31034b37",
   "metadata": {
    "scrolled": true
   },
   "outputs": [
    {
     "data": {
      "text/html": [
       "<style>.container { width:95% !important; }</style>"
      ],
      "text/plain": [
       "<IPython.core.display.HTML object>"
      ]
     },
     "metadata": {},
     "output_type": "display_data"
    }
   ],
   "source": [
    "from IPython.core.display import display, HTML\n",
    "display(HTML(\"<style>.container { width:95% !important; }</style>\"))\n",
    "\n",
    "from matplotlib_inline import backend_inline\n",
    "backend_inline.set_matplotlib_formats('retina')"
   ]
  },
  {
   "cell_type": "code",
   "execution_count": 2,
   "id": "d65746dd",
   "metadata": {},
   "outputs": [],
   "source": [
    "import numpy as np\n",
    "import matplotlib\n",
    "import matplotlib.pyplot as plt\n",
    "import pandas as pd\n",
    "from openpyxl import load_workbook\n",
    "#plt.style.use('~/Desktop/saunders.mplstyle')"
   ]
  },
  {
   "cell_type": "code",
   "execution_count": 73,
   "id": "305d94fe",
   "metadata": {},
   "outputs": [],
   "source": [
    "import ipywidgets as widgets\n",
    "from IPython.display import display, clear_output\n",
    "from ipywidgets import HBox, VBox\n",
    "from IPython.display import HTML\n",
    "import base64"
   ]
  },
  {
   "cell_type": "code",
   "execution_count": 3,
   "id": "3c583505",
   "metadata": {},
   "outputs": [],
   "source": [
    "def find_nearest(array, value):\n",
    "    array = np.asarray(array)\n",
    "    idx = (np.abs(array - value)).argmin()\n",
    "    return idx"
   ]
  },
  {
   "cell_type": "code",
   "execution_count": 4,
   "id": "0a751654",
   "metadata": {},
   "outputs": [],
   "source": [
    "def init(df):\n",
    "    df['prior_matches'] = [ [] for _ in range(len(df)) ]\n",
    "    df['current_match'] = [ [] for _ in range(len(df)) ]\n",
    "    df['current_group'] = -1\n",
    "    df['num_prior_matches'] = 0\n",
    "    df['size_prev_match'] = 0 # whether were in a 3 or 4 group previously, or 0 if new"
   ]
  },
  {
   "cell_type": "code",
   "execution_count": 5,
   "id": "8eb93c8f",
   "metadata": {},
   "outputs": [],
   "source": [
    "def complete_match(df):\n",
    "    # move the current match to the end of the list of prior matches\n",
    "    for index, row in df.iterrows():\n",
    "        df.loc[index, 'prior_matches'].extend(row['current_match'])\n",
    "        df.loc[index, 'num_prior_matches'] = len(row['prior_matches'])\n",
    "    df['size_prev_match'] = [len(a) for a in df['current_match'].tolist()]\n",
    "    df['current_match'] = [ [] for _ in range(len(df)) ]\n",
    "    df['current_group'] = -1"
   ]
  },
  {
   "cell_type": "code",
   "execution_count": 6,
   "id": "ba082e85",
   "metadata": {},
   "outputs": [],
   "source": [
    "def possible_matches(df):\n",
    "    # after each match, run this to determine future possible matches\n",
    "    df['possible_matches'] = [ [] for _ in range(len(df)) ]\n",
    "    df['num_possible_matches'] = -1\n",
    "    for index, row in df.iterrows():\n",
    "        non_previous_matches = df.index.to_numpy()[~np.in1d(df.index.to_numpy(), row['prior_matches'])]\n",
    "        non_same_department = df.index.to_numpy()[~(row['department'] == df['department'])]\n",
    "        df.loc[index, 'possible_matches'].extend(np.intersect1d(non_previous_matches, non_same_department))\n",
    "        df.loc[index, 'num_possible_matches'] = len(df.loc[index, 'possible_matches'])\n"
   ]
  },
  {
   "cell_type": "code",
   "execution_count": 60,
   "id": "09e0d2b4",
   "metadata": {},
   "outputs": [],
   "source": [
    "def perform_random_loop(df):\n",
    "    # variable to determine when we've succeeded\n",
    "    out = 0\n",
    "    # clear any attemps to match that failed\n",
    "    df['current_match'] = [ [] for _ in range(len(df)) ]\n",
    "    df['current_group'] = -1\n",
    "    # create a random column \n",
    "    df.loc[:, 'randint'] = np.random.choice(np.arange(0, len(df)), size=len(df), replace=False)\n",
    "    \n",
    "    groupnum = 1 # a counter for the group number\n",
    "    # iterate through, starting with the most number of possible matches \n",
    "    for i, (index, row) in enumerate(df.sort_values(['size_prev_match', \\\n",
    "                                                     'num_possible_matches', \\\n",
    "                                                     'randint']).iterrows()):\n",
    "        # select possible matches for person1\n",
    "        if i == 0:\n",
    "            p1_possible = df.loc[index, 'possible_matches']\n",
    "        elif i > 0 :\n",
    "            if len(remaining) == 0:\n",
    "                out = 1\n",
    "                return out\n",
    "                break\n",
    "            elif index not in remaining.index.tolist(): \n",
    "                continue\n",
    "            else:\n",
    "                p1_possible = np.intersect1d(remaining.loc[index, 'possible_matches'], \\\n",
    "                                             remaining.index.tolist())\n",
    "        if len(p1_possible) <= 1:\n",
    "            return out\n",
    "            break\n",
    "        # pick a random person2\n",
    "        p2 = df.loc[p1_possible].sample(1)\n",
    "        p2_possible = p2['possible_matches'].tolist()\n",
    "        # take person1 possible matches and remove person2 and all of person2's not possible matches\n",
    "        p1p2_possible_step1 = np.array(p1_possible)[~np.isin(p1_possible, p2.index.tolist())] # remove p2\n",
    "        p1p2_possible = p1p2_possible_step1[np.isin(p1p2_possible_step1, p2_possible)]\n",
    "\n",
    "        if len(p1p2_possible) == 0:\n",
    "            return out\n",
    "            break\n",
    "        # pick a random person3\n",
    "        p3 = df.loc[p1p2_possible].sample(1)\n",
    "        p3_possible = p3['possible_matches'].tolist()\n",
    "\n",
    "        if i < number4groups*4:\n",
    "            # take person3 out oc p1p2_possible\n",
    "            p1p2p3_possible_step1 = np.array(p1p2_possible)[~np.isin(p1p2_possible, p3.index.tolist())] \n",
    "            # keep only person3's possible matches \n",
    "            p1p2p3_possible = p1p2p3_possible_step1[np.isin(p1p2p3_possible_step1, p3_possible)]\n",
    "            \n",
    "            if len(p1p2p3_possible) == 0:\n",
    "                return out\n",
    "                break\n",
    "            # pick a random person4\n",
    "            p4 = df.loc[p1p2p3_possible].sample(1)\n",
    "\n",
    "            # write the current match for all *4* group members\n",
    "            df.loc[index, 'current_match'].extend([index, p2.index[0], p3.index[0], p4.index[0]])\n",
    "            df.loc[p2.index[0], 'current_match'].extend([p2.index[0], index, p3.index[0], p4.index[0]])\n",
    "            df.loc[p3.index[0], 'current_match'].extend([p3.index[0], index, p2.index[0], p4.index[0]])\n",
    "            df.loc[p4.index[0], 'current_match'].extend([p4.index[0], index, p2.index[0], p3.index[0]])\n",
    "            \n",
    "            df.loc[index, 'current_group'] = groupnum\n",
    "            df.loc[p2.index[0], 'current_group'] = groupnum\n",
    "            df.loc[p3.index[0], 'current_group'] = groupnum\n",
    "            df.loc[p4.index[0], 'current_group'] = groupnum\n",
    "            \n",
    "        else:\n",
    "            # write the current match for all *3* group members\n",
    "            df.loc[index, 'current_match'].extend([index, p2.index[0], p3.index[0]])\n",
    "            df.loc[p2.index[0], 'current_match'].extend([p2.index[0], index, p3.index[0]])\n",
    "            df.loc[p3.index[0], 'current_match'].extend([p3.index[0], index, p2.index[0]])\n",
    "            \n",
    "            df.loc[index, 'current_group'] = groupnum\n",
    "            df.loc[p2.index[0], 'current_group'] = groupnum\n",
    "            df.loc[p3.index[0], 'current_group'] = groupnum\n",
    "\n",
    "        # create a new version of the overall df with the matches rows removed\n",
    "        if i == 0:\n",
    "            if i < number4groups*4:\n",
    "                remaining = df.loc[df.index.difference((index, p2.index[0], p3.index[0], p4.index[0]))]\n",
    "            else:\n",
    "                remaining = df.loc[df.index.difference((index, p2.index[0], p3.index[0]))]\n",
    "        if i > 0:\n",
    "            if i < number4groups*4:\n",
    "                remaining = remaining.loc[remaining.index.difference((index, p2.index[0], \\\n",
    "                                                                      p3.index[0], p4.index[0]))]\n",
    "            else:\n",
    "                remaining = remaining.loc[remaining.index.difference((index, p2.index[0], p3.index[0]))]\n",
    "\n",
    "        if i == len(df) - 1:\n",
    "            out = 1\n",
    "            return out\n",
    "\n",
    "        groupnum+=1"
   ]
  },
  {
   "cell_type": "code",
   "execution_count": 61,
   "id": "0209921f",
   "metadata": {},
   "outputs": [],
   "source": [
    "def create_match(df):\n",
    "    # for all matches after the first\n",
    "    global out\n",
    "    counter = 0\n",
    "    out = 0\n",
    "    while out == 0:\n",
    "        counter += 1\n",
    "        out = perform_random_loop(df)  \n",
    "        print(counter, '\\r', end='')\n",
    "        if counter >= 1000:\n",
    "            print('match failed, not possible')\n",
    "            break\n",
    "    if counter < 1000:\n",
    "        print('took ',counter, ' tries')\n",
    "        print('match succeeded')\n",
    "    return df\n",
    "    "
   ]
  },
  {
   "cell_type": "code",
   "execution_count": 62,
   "id": "dd122a37",
   "metadata": {},
   "outputs": [],
   "source": [
    "def write_match(df, pairing_round, filepath):\n",
    "    global tmp1, tmp2\n",
    "    # write current match [only] to excel spreadsheet\n",
    "    # if the first pairing, make a new sheet and copy data\n",
    "    # second time onward, just add a column\n",
    "    # pairing_round is ordinal: 1, 2, 3, ... = first round, second round, third round, ...\n",
    "   \n",
    "    if pairing_round == 1:\n",
    "        book = load_workbook(filepath)\n",
    "        writer = pd.ExcelWriter(filepath, engine = 'openpyxl')\n",
    "        writer.book = book\n",
    "        try:\n",
    "            book.remove(book['pairings'])\n",
    "        except:\n",
    "            ''\n",
    "        writer.sheets = dict((ws.title, ws) for ws in book.worksheets)\n",
    "        df.to_excel(writer, sheet_name='pairings', \\\n",
    "                    columns=['first_name', 'last_name', 'email', 'BUID',  'department', 'current_group'], \\\n",
    "                    header=['first_name', 'last_name', 'email', 'BUID',  'department', \\\n",
    "                            'group %i'%int(pairing_round)], index=False)\n",
    "        writer.save()\n",
    "\n",
    "    elif pairing_round > 1:\n",
    "        tmp1 = pd.read_excel(filepath, sheet_name='pairings')\n",
    "        tmp2 = tmp1.copy(deep=True)\n",
    "        tmp2.insert(len(tmp2.columns), 'group %i'%int(pairing_round), df['current_group'])\n",
    "        \n",
    "        book = load_workbook(filepath)\n",
    "        writer = pd.ExcelWriter(filepath, engine = 'openpyxl')\n",
    "        writer.book = book\n",
    "        writer.sheets = dict((ws.title, ws) for ws in book.worksheets)\n",
    "\n",
    "        tmp2.to_excel(writer, sheet_name='pairings', index=False)\n",
    "        writer.save()"
   ]
  },
  {
   "cell_type": "code",
   "execution_count": 95,
   "id": "91878e4c",
   "metadata": {},
   "outputs": [],
   "source": [
    "def create_match_download_file(data):\n",
    "    global match_file\n",
    "    match_file =  data[['first_name', 'last_name', 'email', 'BUID', 'department', 'current_group']]\n",
    "    return match_file"
   ]
  },
  {
   "cell_type": "code",
   "execution_count": 218,
   "id": "2ddf08e4",
   "metadata": {},
   "outputs": [],
   "source": [
    "def create_download_link(df, title=\"Download CSV file\", filename=\"data.csv\"):  \n",
    "    csv = df.to_csv()\n",
    "    b64 = base64.b64encode(csv.encode())\n",
    "    payload = b64.decode()\n",
    "    html = '<a download=\"{filename}\" href=\"data:text/csv;base64,{payload}\" target=\"_blank\">{title}</a>'\n",
    "    html = html.format(payload=payload,title=title,filename=filename)\n",
    "    display(HTML(html))"
   ]
  },
  {
   "cell_type": "markdown",
   "id": "14ffb9c2",
   "metadata": {},
   "source": [
    "# Make it works with widgets"
   ]
  },
  {
   "cell_type": "code",
   "execution_count": 219,
   "id": "92a28c05",
   "metadata": {},
   "outputs": [],
   "source": [
    "file_widget = widgets.Text(\n",
    "    description='Participants file:', \n",
    "    disabled=False)\n",
    "\n",
    "round_widget = widgets.Dropdown(\n",
    "    options=np.arange(1, 10),\n",
    "    description='Matching round:', \n",
    "    disabled=False)"
   ]
  },
  {
   "cell_type": "code",
   "execution_count": 220,
   "id": "803c6002",
   "metadata": {},
   "outputs": [],
   "source": [
    "import_button = widgets.Button(description='Import')\n",
    "possible_matches_botton = widgets.Button(description='Possible Matches')\n",
    "create_match_button = widgets.Button(description='Create Match')\n",
    "write_match_button = widgets.Button(description='Write Match')\n",
    "complete_match_button = widgets.Button(description='Complete Match')\n",
    "event_download_match_button = widgets.Button(description='Download Match')\n",
    "event_download_data_button = widgets.Button(description='Download Data')"
   ]
  },
  {
   "cell_type": "code",
   "execution_count": 235,
   "id": "b9a928d3",
   "metadata": {},
   "outputs": [],
   "source": [
    "def display_widget():\n",
    "    display(file_widget), \\\n",
    "    display(import_button), \\\n",
    "    display(round_widget), \\\n",
    "    display(possible_matches_botton), \\\n",
    "    display(create_match_button), \\\n",
    "#    display(write_match_button), \\\n",
    "    display(event_download_match_button), \\\n",
    "    display(complete_match_button), \\\n",
    "    display(event_download_data_button)"
   ]
  },
  {
   "cell_type": "code",
   "execution_count": 236,
   "id": "2be75517",
   "metadata": {},
   "outputs": [],
   "source": [
    "data = None\n",
    "number3groups = None\n",
    "number4groups = None"
   ]
  },
  {
   "cell_type": "code",
   "execution_count": 237,
   "id": "7ac8ae21",
   "metadata": {},
   "outputs": [],
   "source": [
    "def event_import(button):\n",
    "    global data, number3groups, number4groups\n",
    "    clear_output()\n",
    "    display_widget()\n",
    "    data = pd.read_excel(file_widget.value)\n",
    "    init(data)\n",
    "    \n",
    "    n = len(data)\n",
    "    number3groups = n // 3\n",
    "    number4groups = n - (number3groups * 3)\n",
    "\n",
    "    print('imported participants')"
   ]
  },
  {
   "cell_type": "code",
   "execution_count": 238,
   "id": "5fb8abee",
   "metadata": {},
   "outputs": [],
   "source": [
    "def event_possible_matches(button):\n",
    "    global data\n",
    "    clear_output()\n",
    "    display_widget()\n",
    "    possible_matches(data)\n",
    "    print('round %i possible matches complete'%round_widget.value)"
   ]
  },
  {
   "cell_type": "code",
   "execution_count": 239,
   "id": "10e05ac1",
   "metadata": {},
   "outputs": [],
   "source": [
    "def event_create_match(button):\n",
    "    global data\n",
    "    clear_output()\n",
    "    display_widget()\n",
    "    data = create_match(data)\n",
    "    if out == 1:\n",
    "        print('round %i match created'%round_widget.value)\n",
    "    if out == 0:\n",
    "        print('round %i match failed'%round_widget.value)"
   ]
  },
  {
   "cell_type": "code",
   "execution_count": 240,
   "id": "07b94518",
   "metadata": {},
   "outputs": [],
   "source": [
    "def event_write_match(button):\n",
    "    global data\n",
    "    clear_output()\n",
    "    display_widget()\n",
    "    write_match(data, round_widget.value, file_widget.value)\n",
    "    print('round %i match written'%round_widget.value)"
   ]
  },
  {
   "cell_type": "code",
   "execution_count": 241,
   "id": "825d9771",
   "metadata": {},
   "outputs": [],
   "source": [
    "def event_complete_match(button):\n",
    "    global data\n",
    "    clear_output()\n",
    "    display_widget()\n",
    "    complete_match(data)\n",
    "    print('round %i match complete'%round_widget.value)"
   ]
  },
  {
   "cell_type": "code",
   "execution_count": 242,
   "id": "1baf6dfe",
   "metadata": {},
   "outputs": [],
   "source": [
    "def event_download_match(button):\n",
    "    clear_output()\n",
    "    display_widget()\n",
    "    match_file = create_match_download_file(data)\n",
    "    return create_download_link(match_file, title=\"download round %i match\"%round_widget.value, \\\n",
    "                         filename=\"round_%i_match.csv\"%round_widget.value)"
   ]
  },
  {
   "cell_type": "code",
   "execution_count": 243,
   "id": "145b2138",
   "metadata": {},
   "outputs": [],
   "source": [
    "def event_download_data(button):\n",
    "    clear_output()\n",
    "    display_widget()\n",
    "    return create_download_link(data, title=\"download round %i data\"%round_widget.value, \\\n",
    "                         filename=\"round_%i_data.csv\"%round_widget.value)"
   ]
  },
  {
   "cell_type": "code",
   "execution_count": 244,
   "id": "e5045227",
   "metadata": {},
   "outputs": [],
   "source": [
    "import_button.on_click(event_import)\n",
    "possible_matches_botton.on_click(event_possible_matches)\n",
    "create_match_button.on_click(event_create_match)\n",
    "write_match_button.on_click(event_write_match)\n",
    "complete_match_button.on_click(event_complete_match)\n",
    "event_download_match_button.on_click(event_download_match)\n",
    "event_download_data_button.on_click(event_download_data)"
   ]
  },
  {
   "cell_type": "code",
   "execution_count": 245,
   "id": "f99fee60",
   "metadata": {},
   "outputs": [
    {
     "data": {
      "application/vnd.jupyter.widget-view+json": {
       "model_id": "93295b3fef1f4f5abf493f73bc12247c",
       "version_major": 2,
       "version_minor": 0
      },
      "text/plain": [
       "Text(value='example5.xlsx', description='Participants file:')"
      ]
     },
     "metadata": {},
     "output_type": "display_data"
    },
    {
     "data": {
      "application/vnd.jupyter.widget-view+json": {
       "model_id": "22fc8e82a0f543ea8b9e1770c6af8a82",
       "version_major": 2,
       "version_minor": 0
      },
      "text/plain": [
       "Button(description='Import', style=ButtonStyle())"
      ]
     },
     "metadata": {},
     "output_type": "display_data"
    },
    {
     "data": {
      "application/vnd.jupyter.widget-view+json": {
       "model_id": "d4b20ae46d4b4d569b1558df3d2be4ff",
       "version_major": 2,
       "version_minor": 0
      },
      "text/plain": [
       "Dropdown(description='Matching round:', index=2, options=(1, 2, 3, 4, 5, 6, 7, 8, 9), value=3)"
      ]
     },
     "metadata": {},
     "output_type": "display_data"
    },
    {
     "data": {
      "application/vnd.jupyter.widget-view+json": {
       "model_id": "c8f73547c32d4f31a4b568a484123a0e",
       "version_major": 2,
       "version_minor": 0
      },
      "text/plain": [
       "Button(description='Possible Matches', style=ButtonStyle())"
      ]
     },
     "metadata": {},
     "output_type": "display_data"
    },
    {
     "data": {
      "application/vnd.jupyter.widget-view+json": {
       "model_id": "95d3cbefe9744c54803082b349fb32c2",
       "version_major": 2,
       "version_minor": 0
      },
      "text/plain": [
       "Button(description='Create Match', style=ButtonStyle())"
      ]
     },
     "metadata": {},
     "output_type": "display_data"
    },
    {
     "data": {
      "application/vnd.jupyter.widget-view+json": {
       "model_id": "6c19832eb2624a82bebad31a97ef8370",
       "version_major": 2,
       "version_minor": 0
      },
      "text/plain": [
       "Button(description='Download Match', style=ButtonStyle())"
      ]
     },
     "metadata": {},
     "output_type": "display_data"
    },
    {
     "data": {
      "application/vnd.jupyter.widget-view+json": {
       "model_id": "d7363e43c7444b98bc06416215d4dd17",
       "version_major": 2,
       "version_minor": 0
      },
      "text/plain": [
       "Button(description='Complete Match', style=ButtonStyle())"
      ]
     },
     "metadata": {},
     "output_type": "display_data"
    },
    {
     "data": {
      "application/vnd.jupyter.widget-view+json": {
       "model_id": "95ce42377d694c798dd95adc3659b198",
       "version_major": 2,
       "version_minor": 0
      },
      "text/plain": [
       "Button(description='Download Data', style=ButtonStyle())"
      ]
     },
     "metadata": {},
     "output_type": "display_data"
    },
    {
     "name": "stdout",
     "output_type": "stream",
     "text": [
      "took  3  tries\n",
      "match succeeded\n",
      "round 3 match created\n"
     ]
    }
   ],
   "source": [
    "clear_output()\n",
    "display_widget()"
   ]
  },
  {
   "cell_type": "raw",
   "id": "88270554",
   "metadata": {},
   "source": [
    "pd.set_option('display.max_rows', None)"
   ]
  },
  {
   "cell_type": "raw",
   "id": "1fe73461",
   "metadata": {
    "scrolled": false
   },
   "source": [
    "data.sort_values(['size_prev_match', 'num_possible_matches', 'randint'])"
   ]
  },
  {
   "cell_type": "markdown",
   "id": "6d491261",
   "metadata": {},
   "source": [
    "Things to improve:\n",
    "    - Test what happens when I add someone or remove something\n",
    "    - Handle it if there's a failure in the matching --> create a flag column for failed pairings or perhaps just throw them into a large group\n",
    "    - Integrate with and send emails\n",
    "    - Handle storing the data between pairing rounds"
   ]
  },
  {
   "cell_type": "raw",
   "id": "b140890d",
   "metadata": {},
   "source": [
    "#FILE\n",
    "filename = \"round_%i_match.csv\"%round_widget.value\n",
    "csv = match_file.to_csv()\n",
    "b64 = base64.b64encode(csv.encode())\n",
    "payload = b64.decode()\n",
    "\n",
    "#BUTTONS\n",
    "html_buttons = '''<html>\n",
    "<head>\n",
    "<meta name=\"viewport\" content=\"width=device-width, initial-scale=1\">\n",
    "</head>\n",
    "<body>\n",
    "<a download=\"{filename}\" href=\"data:text/csv;base64,{payload}\" download>\n",
    "<button class=\"p-Widget jupyter-widgets jupyter-button widget-button mod-warning\">Download File</button>\n",
    "</a>\n",
    "</body>\n",
    "</html>\n",
    "'''\n",
    "\n",
    "html_button = html_buttons.format(payload=payload, filename=filename)\n",
    "display(HTML(html_button))"
   ]
  }
 ],
 "metadata": {
  "kernelspec": {
   "display_name": "Python 3 (ipykernel)",
   "language": "python",
   "name": "python3"
  },
  "language_info": {
   "codemirror_mode": {
    "name": "ipython",
    "version": 3
   },
   "file_extension": ".py",
   "mimetype": "text/x-python",
   "name": "python",
   "nbconvert_exporter": "python",
   "pygments_lexer": "ipython3",
   "version": "3.7.11"
  }
 },
 "nbformat": 4,
 "nbformat_minor": 5
}
