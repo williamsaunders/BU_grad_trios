{
 "cells": [
  {
   "cell_type": "markdown",
   "id": "bc920334",
   "metadata": {},
   "source": [
    "This program takes in: \n",
    "1) a list of opted-in emails  \n",
    "2) the participants file from the previous round  \n",
    "~~3) the data file from the previous match ~~\n",
    "\n",
    "and returns \n",
    "1) the participats file for the upcoming round  \n",
    "~~2) the data file for the upcoming round ~~"
   ]
  },
  {
   "cell_type": "markdown",
   "id": "3096167c",
   "metadata": {},
   "source": [
    "^ go back through and check that this is right"
   ]
  },
  {
   "cell_type": "markdown",
   "id": "3cd5c28d",
   "metadata": {},
   "source": [
    "Tasks:\n",
    "- Write as widgets  \n",
    "- Write an error function for things that could go wrong  \n",
    "- Have things downloaded \n",
    "- Make this work no matter what round we are in (this has proven hard in the past)"
   ]
  },
  {
   "cell_type": "code",
   "execution_count": 1,
   "id": "dee59fba",
   "metadata": {},
   "outputs": [
    {
     "data": {
      "text/html": [
       "<style>.container { width:95% !important; }</style>"
      ],
      "text/plain": [
       "<IPython.core.display.HTML object>"
      ]
     },
     "metadata": {},
     "output_type": "display_data"
    }
   ],
   "source": [
    "from IPython.display import display, HTML\n",
    "display(HTML(\"<style>.container { width:95% !important; }</style>\"))\n",
    "\n",
    "from matplotlib_inline import backend_inline\n",
    "backend_inline.set_matplotlib_formats('retina')\n",
    "\n",
    "import numpy as np\n",
    "import pandas as pd\n",
    "pd.set_option('display.max_rows', None)"
   ]
  },
  {
   "cell_type": "code",
   "execution_count": null,
   "id": "5337e1f9",
   "metadata": {},
   "outputs": [],
   "source": []
  },
  {
   "cell_type": "code",
   "execution_count": 2,
   "id": "197e920f",
   "metadata": {},
   "outputs": [],
   "source": [
    "data = pd.read_excel('Fall2022_program/round_3_data-ready-for-round-4.xlsx', index_col=0, \\\n",
    "                   usecols=[0,1,2,3,4,5,6])"
   ]
  },
  {
   "cell_type": "code",
   "execution_count": 3,
   "id": "ea182cb9",
   "metadata": {},
   "outputs": [],
   "source": [
    "data['email'] = data['email'].str.lower()\n",
    "data['email'] = data['email'].str.strip()"
   ]
  },
  {
   "cell_type": "code",
   "execution_count": 4,
   "id": "9b07cb38",
   "metadata": {},
   "outputs": [],
   "source": [
    "optin = pd.read_excel('Fall2022_program/round_4_optin.xlsx', names=['email'], skiprows=1)\n",
    "optin['email'] = optin['email'].str.lower()\n",
    "optin['email'] = optin['email'].str.strip()"
   ]
  },
  {
   "cell_type": "markdown",
   "id": "3126585e",
   "metadata": {},
   "source": [
    "Check the length of the opt-in to be the same as the length of the intersection. "
   ]
  },
  {
   "cell_type": "code",
   "execution_count": 5,
   "id": "c10988db",
   "metadata": {
    "scrolled": false
   },
   "outputs": [
    {
     "data": {
      "text/plain": [
       "32"
      ]
     },
     "execution_count": 5,
     "metadata": {},
     "output_type": "execute_result"
    }
   ],
   "source": [
    "np.count_nonzero(np.in1d(data['email'].to_numpy(), optin['email'].to_numpy()))"
   ]
  },
  {
   "cell_type": "code",
   "execution_count": 6,
   "id": "d673341e",
   "metadata": {},
   "outputs": [
    {
     "data": {
      "text/plain": [
       "32"
      ]
     },
     "execution_count": 6,
     "metadata": {},
     "output_type": "execute_result"
    }
   ],
   "source": [
    "len(optin)"
   ]
  },
  {
   "cell_type": "raw",
   "id": "0d6100f7",
   "metadata": {},
   "source": [
    "for i, j in zip(np.sort(data['email'][np.in1d(data['email'].to_numpy(), optin['email'].to_numpy())].to_numpy()), \\\n",
    "                np.sort(optin['email'])):\n",
    "    print(i, j)"
   ]
  },
  {
   "cell_type": "code",
   "execution_count": 7,
   "id": "774a1d2a",
   "metadata": {},
   "outputs": [],
   "source": [
    "for i, answer in enumerate(np.in1d(data['email'].to_numpy(), optin['email'].to_numpy())):\n",
    "    if answer:\n",
    "        data.loc[i, 'round4'] = 'Yes'\n",
    "    else:\n",
    "        data.loc[i, 'round4'] = 'No'"
   ]
  },
  {
   "cell_type": "code",
   "execution_count": 8,
   "id": "e09873e4",
   "metadata": {},
   "outputs": [],
   "source": [
    "round3match = pd.read_excel('Fall2022_program/round_3_match.xlsx', index_col=0)"
   ]
  },
  {
   "cell_type": "code",
   "execution_count": 9,
   "id": "55413a1c",
   "metadata": {},
   "outputs": [],
   "source": [
    "data['round1'] = pd.merge(data, round3match, how='left', left_index=True, \\\n",
    "                          right_index=True)['round1'].fillna('No')\n",
    "data['group1'] = pd.merge(data, round3match, how='left', left_index=True, \\\n",
    "                          right_index=True)['group1'].fillna('')\n",
    "data['round2'] = pd.merge(data, round3match, how='left', left_index=True, \\\n",
    "                          right_index=True)['round2'].fillna('No')\n",
    "data['group2'] = pd.merge(data, round3match, how='left', left_index=True, \\\n",
    "                          right_index=True)['group2'].fillna('')\n",
    "data['round3'] = pd.merge(data, round3match, how='left', left_index=True, \\\n",
    "                          right_index=True)['round3'].fillna('No')\n",
    "data['group3'] = pd.merge(data, round3match, how='left', left_index=True, \\\n",
    "                          right_index=True)['group3'].fillna('')"
   ]
  },
  {
   "cell_type": "code",
   "execution_count": 10,
   "id": "b1650381",
   "metadata": {},
   "outputs": [],
   "source": [
    "data = data.reindex(columns=['full_name', 'first_name', 'BUID', 'email', 'school', 'department', 'round1', \\\n",
    "                             'group1', 'round2', 'group2', 'round3', 'group3', 'round4'])"
   ]
  },
  {
   "cell_type": "code",
   "execution_count": 11,
   "id": "848c8d87",
   "metadata": {},
   "outputs": [],
   "source": [
    "data.to_csv('Fall2022_program/round_4_export.csv')"
   ]
  },
  {
   "cell_type": "code",
   "execution_count": null,
   "id": "fb507ee8",
   "metadata": {},
   "outputs": [],
   "source": []
  }
 ],
 "metadata": {
  "kernelspec": {
   "display_name": "Python 3 (ipykernel)",
   "language": "python",
   "name": "python3"
  },
  "language_info": {
   "codemirror_mode": {
    "name": "ipython",
    "version": 3
   },
   "file_extension": ".py",
   "mimetype": "text/x-python",
   "name": "python",
   "nbconvert_exporter": "python",
   "pygments_lexer": "ipython3",
   "version": "3.9.13"
  }
 },
 "nbformat": 4,
 "nbformat_minor": 5
}
