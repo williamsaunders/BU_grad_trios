{
 "cells": [
  {
   "cell_type": "markdown",
   "id": "b391a054",
   "metadata": {},
   "source": [
    "Improvements I'd like to make for the Fall 23 version of the program:\n",
    "- Streamline the workflow even more. Fewer buttons. \n",
    "- Integration with Google sheets to make the admin cleaning doc obsolete.\n",
    "- Automatic reminder emails or something like that. \n",
    "- Explore if it's possible to generate a sheduling app of some kind.\n",
    "- Make body of email text editable from Google docs or sheets. \n",
    "\n",
    "- Replace all copy commands with pickle commands to be safe."
   ]
  },
  {
   "cell_type": "code",
   "execution_count": 1,
   "id": "8075b941",
   "metadata": {},
   "outputs": [
    {
     "data": {
      "text/html": [
       "<style>.container { width:95% !important; }</style>"
      ],
      "text/plain": [
       "<IPython.core.display.HTML object>"
      ]
     },
     "metadata": {},
     "output_type": "display_data"
    }
   ],
   "source": [
    "from IPython.display import display, HTML\n",
    "display(HTML(\"<style>.container { width:95% !important; }</style>\"))\n",
    "\n",
    "from matplotlib_inline import backend_inline\n",
    "backend_inline.set_matplotlib_formats('retina')\n",
    "\n",
    "import numpy as np\n",
    "import matplotlib\n",
    "import matplotlib.pyplot as plt\n",
    "import pandas as pd\n",
    "pd.set_option('display.max_rows', None)\n",
    "#from openpyxl import load_workbook\n",
    "import pickle\n",
    "import time\n",
    "\n",
    "import ipywidgets as widgets\n",
    "from IPython.display import display, clear_output\n",
    "from ipywidgets import HBox, VBox\n",
    "from IPython.display import HTML\n",
    "import base64\n",
    "\n",
    "#import os\n",
    "from email.message import EmailMessage\n",
    "import ssl\n",
    "import smtplib\n",
    "\n",
    "import gspread\n",
    "gc = gspread.oauth()"
   ]
  },
  {
   "cell_type": "code",
   "execution_count": 2,
   "id": "0fdee4de",
   "metadata": {},
   "outputs": [],
   "source": [
    "spreadsheet = gc.open(\"Example_for_dev\")\n",
    "master = spreadsheet.get_worksheet(0)\n",
    "master_data = np.array(master.get_all_values())"
   ]
  },
  {
   "cell_type": "code",
   "execution_count": 3,
   "id": "e63bcd3b",
   "metadata": {
    "scrolled": true
   },
   "outputs": [],
   "source": [
    "master_data = pd.DataFrame(data=master_data[1:,1:], index=master_data[1:,0], columns=master_data[0,1:])"
   ]
  },
  {
   "cell_type": "raw",
   "id": "bad2bbf3",
   "metadata": {},
   "source": [
    "spreadsheet.add_worksheet('test', rows=master_data.shape[0], cols=master_data.shape[1])"
   ]
  },
  {
   "cell_type": "raw",
   "id": "d72be6a6",
   "metadata": {},
   "source": [
    "spreadsheet.worksheet('test').update('A1:L397', master_data.values.tolist())"
   ]
  },
  {
   "cell_type": "code",
   "execution_count": 4,
   "id": "498becd5",
   "metadata": {},
   "outputs": [],
   "source": [
    "optin = spreadsheet.get_worksheet(3)\n",
    "optin_data = np.array(optin.get_all_values())"
   ]
  },
  {
   "cell_type": "markdown",
   "id": "637cecb3",
   "metadata": {},
   "source": [
    "What do I have here?\n",
    "- Functionality to get data from a google sheet.\n",
    "- Functionality to write to a google sheet.\n",
    "- Now, replace all the writing and reading from excel / csv to google sheets.\n",
    "\n",
    "------"
   ]
  },
  {
   "cell_type": "code",
   "execution_count": 5,
   "id": "c4754114",
   "metadata": {},
   "outputs": [],
   "source": [
    "def copy(obj):\n",
    "    # true deep copy\n",
    "    return pickle.loads(pickle.dumps(obj))"
   ]
  },
  {
   "cell_type": "code",
   "execution_count": 6,
   "id": "6bc052fa",
   "metadata": {},
   "outputs": [],
   "source": [
    "def find_nearest(array, value):\n",
    "    array = np.asarray(array)\n",
    "    idx = (np.abs(array - value)).argmin()\n",
    "    return idx\n",
    "\n",
    "def convert_cell(cell):\n",
    "    # converts '[1, 2, 3, ...]' into [1, 2, 3, ...]\n",
    "    if cell != '[]':\n",
    "        a = cell.strip('][').split(', ')\n",
    "        b = [int(i) for i in a]\n",
    "        return b\n",
    "    else:\n",
    "        return []\n",
    "\n",
    "def init(df):\n",
    "    # reset some of the columns or create them if they don't exist \n",
    "    df['prior_matches'] = [ [] for _ in range(len(df)) ]\n",
    "    df['current_match'] = [ [] for _ in range(len(df)) ]\n",
    "    df['current_group'] = -1\n",
    "    df['num_prior_matches'] = 0\n",
    "    df['size_prev_match'] = 0 # whether were in a 3 or 4 group previously, or 0 if new\n",
    "    df['possible_matches'] = [ [] for _ in range(len(df)) ]\n",
    "    df['num_possible_matches'] = -1\n",
    "\n",
    "def complete_match(df):\n",
    "    # move the current match to the end of the list of prior matches and clear the columns \n",
    "    for index, row in df.iterrows():\n",
    "        df.loc[index, 'prior_matches'].extend(row['current_match'])\n",
    "        df.loc[index, 'num_prior_matches'] = len(row['prior_matches'])\n",
    "    df['size_prev_match'] = [len(a) for a in df['current_match'].tolist()]\n",
    "    df['current_match'] = [ [] for _ in range(len(df)) ]\n",
    "    df['current_group'] = -1"
   ]
  },
  {
   "cell_type": "markdown",
   "id": "b2fa3e46",
   "metadata": {},
   "source": [
    "Functions to create the match."
   ]
  },
  {
   "cell_type": "code",
   "execution_count": 69,
   "id": "631cc577",
   "metadata": {},
   "outputs": [],
   "source": [
    "def create_data():\n",
    "    global full_data, data, number3groups, number4groups\n",
    "    \n",
    "    if round_widget.value == 1:\n",
    "        # create the full_data list from scratch\n",
    "        full_data = copy(master)\n",
    "        if len(master) != len(participants):\n",
    "            print('ERROR: The lengths of the master list and participants list disagree. Fix and retry.')\n",
    "        data = copy(master[participants['round'+str(round_widget.value)]=='Yes'])\n",
    "        init(full_data)\n",
    "        init(data)\n",
    "\n",
    "    if round_widget.value > 1:\n",
    "        # full_data_prev imported\n",
    "        # participants_prev imported and already converted to participants using the master list\n",
    "\n",
    "        # format the entries correctly\n",
    "        full_data_prev['prior_matches'] = \\\n",
    "            [convert_cell(row['prior_matches']) for index, row in full_data_prev.iterrows()]\n",
    "        full_data_prev['current_match'] = \\\n",
    "            [convert_cell(row['current_match']) for index, row in full_data_prev.iterrows()]\n",
    "        full_data_prev['possible_matches'] = \\\n",
    "            [convert_cell(row['possible_matches']) for index, row in full_data_prev.iterrows()]\n",
    "        full_data_prev['email'] = full_data_prev['email'].str.lower()\n",
    "        full_data_prev['email'] = full_data_prev['email'].str.strip()\n",
    "\n",
    "        # initialize empty rows in the data file for new participants\n",
    "        # this take a lot of lines\n",
    "        a = pd.merge(participants, full_data_prev, left_index=True, right_index=True, how='outer')\n",
    "        leftcols = [col for col in a.columns if '_x' in col] # lefthand side columns to keep \n",
    "        rightcols = a.columns[-7:] # righthand side columns to keep\n",
    "        a = a[np.append(leftcols, rightcols)]\n",
    "        a.columns = full_data_prev.columns\n",
    "        a['prior_matches'] = a['prior_matches'].apply(lambda d: d if isinstance(d, list) else [])\n",
    "        a['current_match'] = a['current_match'].apply(lambda d: d if isinstance(d, list) else [])\n",
    "        a['current_group'].fillna(-1, inplace=True)\n",
    "        a['num_prior_matches'].fillna(0, inplace=True)\n",
    "        a['size_prev_match'].fillna(0, inplace=True)\n",
    "        a['possible_matches'] = a['possible_matches'].apply(lambda d: d if isinstance(d, list) else [])\n",
    "        a['num_possible_matches'].fillna(-1, inplace=True)\n",
    "        full_data = copy(a)\n",
    "\n",
    "        # create data array for just the opt-ins\n",
    "        if len(full_data) != len(participants):\n",
    "            print('ERROR: length of `full_data` doesn\\'t equal length of `participants`.')\n",
    "        data = copy(full_data[participants['round'+str(round_widget.value)]=='Yes'])\n",
    "\n",
    "        # calculate the number of groups of 3 and 4 we will have \n",
    "        n = len(data)\n",
    "        if groupsize_widget.value == 3:\n",
    "            # make groups of 3 and fill in the gaps with groups of 4\n",
    "            number3groups = n // 3\n",
    "            number4groups = n - (number3groups * 3)\n",
    "            number3groups = n // 3 - number4groups\n",
    "        elif groupsize_widget.value == 4:\n",
    "            # make groups of 4 and fill in the gaps with groups of 3\n",
    "            nn = n\n",
    "            number3groups = 0\n",
    "            while (nn / 4 - np.floor(nn / 4)) != 0:\n",
    "                nn -= 3 # keep subtracting groups of 3 until it's divisible by 4\n",
    "                number3groups += 1\n",
    "            number4groups = nn // 4\n",
    "\n",
    "        print('All data structures made')\n",
    "    \n",
    "def possible_matches():\n",
    "    # determines all the possible matches for each person in the program\n",
    "    data['possible_matches'] = [ [] for _ in range(len(data)) ]\n",
    "    data['num_possible_matches'] = -1\n",
    "    for index, row in data.iterrows():\n",
    "        non_previous_matches = data.index.to_numpy()[~np.in1d(data.index.to_numpy(), row['prior_matches'])]\n",
    "        non_same_department = data.index.to_numpy()[~(row['department'] == data['department'])]\n",
    "        data.loc[index, 'possible_matches'].extend(np.intersect1d(non_previous_matches, non_same_department))\n",
    "        data.loc[index, 'num_possible_matches'] = len(data.loc[index, 'possible_matches'])\n",
    "\n",
    "def perform_random_loop(df):\n",
    "    # the loop that attempts to do the matching\n",
    "    out = 0 # variable to determine when we've succeeded\n",
    "    # clear any attemps to match that failed\n",
    "    df['current_match'] = [ [] for _ in range(len(df)) ]\n",
    "    df['current_group'] = -1\n",
    "    # create a random column \n",
    "    df.loc[:, 'randint'] = np.random.choice(np.arange(0, len(df)), size=len(df), replace=False)\n",
    "    \n",
    "    groupnum = 1 # a counter for the group number\n",
    "    # iterate through, starting with the most number of possible matches \n",
    "    for i, (index, row) in enumerate(df.sort_values(['size_prev_match', \\\n",
    "                                                     'num_possible_matches', \\\n",
    "                                                     'randint']).iterrows()):\n",
    "        # select possible matches for person1\n",
    "        if i == 0:\n",
    "            p1_possible = df.loc[index, 'possible_matches']\n",
    "        elif i > 0 :\n",
    "            if len(remaining) == 0:\n",
    "                out = 1\n",
    "                return out\n",
    "                break\n",
    "            elif index not in remaining.index.tolist(): \n",
    "                continue\n",
    "            else:\n",
    "                p1_possible = np.intersect1d(remaining.loc[index, 'possible_matches'], \\\n",
    "                                             remaining.index.tolist())\n",
    "        if len(p1_possible) <= 1:\n",
    "            return out\n",
    "            break\n",
    "        # pick a random person2\n",
    "        p2 = df.loc[p1_possible].sample(1)\n",
    "        p2_possible = p2['possible_matches'].tolist()\n",
    "        # take person1 possible matches and remove person2 and all of person2's not possible matches\n",
    "        p1p2_possible_step1 = np.array(p1_possible)[~np.isin(p1_possible, p2.index.tolist())] # remove p2\n",
    "        p1p2_possible = p1p2_possible_step1[np.isin(p1p2_possible_step1, p2_possible)]\n",
    "\n",
    "        if len(p1p2_possible) == 0:\n",
    "            return out\n",
    "            break\n",
    "        # pick a random person3\n",
    "        p3 = df.loc[p1p2_possible].sample(1)\n",
    "        p3_possible = p3['possible_matches'].tolist()\n",
    "\n",
    "        if groupnum <= number4groups:\n",
    "            # take person3 out oc p1p2_possible\n",
    "            p1p2p3_possible_step1 = np.array(p1p2_possible)[~np.isin(p1p2_possible, p3.index.tolist())] \n",
    "            # keep only person3's possible matches \n",
    "            p1p2p3_possible = p1p2p3_possible_step1[np.isin(p1p2p3_possible_step1, p3_possible)]\n",
    "            \n",
    "            if len(p1p2p3_possible) == 0:\n",
    "                return out\n",
    "                break\n",
    "            # pick a random person4\n",
    "            p4 = df.loc[p1p2p3_possible].sample(1)\n",
    "\n",
    "            # write the current match for all *4* group members\n",
    "            df.loc[index, 'current_match'].extend([index, p2.index[0], p3.index[0], p4.index[0]])\n",
    "            df.loc[p2.index[0], 'current_match'].extend([p2.index[0], index, p3.index[0], p4.index[0]])\n",
    "            df.loc[p3.index[0], 'current_match'].extend([p3.index[0], index, p2.index[0], p4.index[0]])\n",
    "            df.loc[p4.index[0], 'current_match'].extend([p4.index[0], index, p2.index[0], p3.index[0]])\n",
    "            \n",
    "            df.loc[index, 'current_group'] = groupnum\n",
    "            df.loc[p2.index[0], 'current_group'] = groupnum\n",
    "            df.loc[p3.index[0], 'current_group'] = groupnum\n",
    "            df.loc[p4.index[0], 'current_group'] = groupnum\n",
    "            \n",
    "        else:\n",
    "            # write the current match for all *3* group members\n",
    "            df.loc[index, 'current_match'].extend([index, p2.index[0], p3.index[0]])\n",
    "            df.loc[p2.index[0], 'current_match'].extend([p2.index[0], index, p3.index[0]])\n",
    "            df.loc[p3.index[0], 'current_match'].extend([p3.index[0], index, p2.index[0]])\n",
    "            \n",
    "            df.loc[index, 'current_group'] = groupnum\n",
    "            df.loc[p2.index[0], 'current_group'] = groupnum\n",
    "            df.loc[p3.index[0], 'current_group'] = groupnum\n",
    "\n",
    "        # create a new version of the overall df with the matches rows removed\n",
    "        if i == 0:\n",
    "            if groupnum <= number4groups:\n",
    "                remaining = df.loc[df.index.difference((index, p2.index[0], p3.index[0], p4.index[0]))]\n",
    "            else:\n",
    "                remaining = df.loc[df.index.difference((index, p2.index[0], p3.index[0]))]\n",
    "        if i > 0:\n",
    "            if groupnum <= number4groups:\n",
    "                remaining = remaining.loc[remaining.index.difference((index, p2.index[0], \\\n",
    "                                                                      p3.index[0], p4.index[0]))]\n",
    "            else:\n",
    "                remaining = remaining.loc[remaining.index.difference((index, p2.index[0], p3.index[0]))]\n",
    "\n",
    "        if i == len(df) - 1:\n",
    "            out = 1\n",
    "            return out\n",
    "\n",
    "        groupnum+=1\n",
    "\n",
    "def create_match():\n",
    "    # calls the matching loop up to 1000 times to create the match \n",
    "    global out, hr_full_data, hr_data, full_data, data\n",
    "    counter = 0\n",
    "    out = 0\n",
    "    while out == 0:\n",
    "        counter += 1\n",
    "        out = perform_random_loop(data)  \n",
    "        print(counter, '\\r', end='')\n",
    "        if counter >= 1000:\n",
    "            print('match failed, not possible')\n",
    "            break\n",
    "            \n",
    "    # use data to populate hr_data, full_data, and hr_full_data\n",
    "    hr_data['group' + str(round_widget.value)] = data['current_group']\n",
    "    hr_full_data = pd.merge(hr_full_data, hr_data, how='left')\n",
    "    full_data.loc[data.index, :] = data[:].copy()   "
   ]
  },
  {
   "cell_type": "code",
   "execution_count": 70,
   "id": "a1ec6f77",
   "metadata": {},
   "outputs": [],
   "source": [
    "def create_download_link(df, title=\"Download CSV file\", filename=\"data.csv\"): \n",
    "    # turns the pandas DataFrame into a csv to download\n",
    "    csv = df.to_csv(index=True)\n",
    "    b64 = base64.b64encode(csv.encode())\n",
    "    payload = b64.decode()\n",
    "    html = '<a download=\"{filename}\" href=\"data:text/csv;base64,{payload}\" target=\"_blank\">{title}</a>'\n",
    "    html = html.format(payload=payload,title=title,filename=filename)\n",
    "    display(HTML(html))\n",
    "    "
   ]
  },
  {
   "cell_type": "markdown",
   "id": "f1641c5b",
   "metadata": {},
   "source": [
    "Functions to import the master list, optins, participants (if rounds 2+), and data (if rounds 2+)   \n",
    "and convert them to participants, cleaned optins"
   ]
  },
  {
   "cell_type": "code",
   "execution_count": 71,
   "id": "c946d179",
   "metadata": {},
   "outputs": [],
   "source": [
    "def import_files():\n",
    "    \n",
    "    ### ========= NEED TO MAKE SURE NAMES OF SHEETS ARE CONNECTED WELL ========== ###\n",
    "    \n",
    "    # imports the round opt-ins and the previous round matching data\n",
    "    global hr_full_data, hr_data, full_data, data, number3groups, number4groups, master, optin, full_data\n",
    "    \n",
    "    # import master sheet\n",
    "    spreadsheet = gc.open('Example_for_dev')\n",
    "#    spreadsheet = gc.open(spreadsheet_widget.value)\n",
    "    master_sheet = spreadsheet.worksheet('cleaned_master_list')\n",
    "    master = np.array(master_sheet.get_all_values())\n",
    "    master = pd.DataFrame(data=master[1:,1:], index=master[1:,0].astype(int), columns=master[0,1:])\n",
    "    master['email'] = master['email'].str.lower()\n",
    "    master['email'] = master['email'].str.strip()\n",
    "    \n",
    "    # import opt-in\n",
    "    optin_sheet = spreadsheet.worksheet('optin')\n",
    "    optin = np.array(optin_sheet.get_all_values())\n",
    "    optin = pd.DataFrame(data=optin[1:,:], columns=optin[0,:])\n",
    "    optin['email'] = optin['email'].str.lower()\n",
    "    optin['email'] = optin['email'].str.strip()\n",
    "    \n",
    "    # import previous round data (if round > 1)\n",
    "    if round_widget.value > 1:\n",
    "        full_data_prev_sheet = spreadsheet.worksheet('full_data')\n",
    "        full_data_prev = np.array(full_data_prev_sheet.get_all_values())\n",
    "        full_data_prev = pd.DataFrame(data=full_data_prev[1:,1:], index=full_data_prev[1:,0].astype(int), columns=full_data_prev[0,1:])\n",
    "        \n",
    "        participants_prev_sheet = spreadsheet.worksheet('participants')\n",
    "        participants_prev = np.array(participants_prev_sheet.get_all_values())\n",
    "        participants_prev = pd.DataFrame(data=participants_prev[1:,1:], index=participants_prev[1:,0].astype(int), \\\n",
    "                                         columns=participants_prev[0,1:])\n",
    "        participants_prev['email'] = participants_prev['email'].str.lower()\n",
    "        participants_prev['email'] = participants_prev['email'].str.strip()\n",
    "    \n",
    "    print('Imported')\n",
    "\n",
    "def dedup():\n",
    "    global master, optin\n",
    "    # check for email errors and duplicates in the master list and remove them \n",
    "    # check for email errors and duplicates in the opt-in list and remove them\n",
    "    \n",
    "    error_state = 0\n",
    "    print('checking emails match...')\n",
    "    # check emails for master\n",
    "    for index, row in master.iterrows():\n",
    "        if row['email'] != row['email_retype']:\n",
    "            print('Email disagreement for ID %s in Master list.' %str(index))\n",
    "            error_state += 1\n",
    "    \n",
    "    # check emails for optin\n",
    "    for index, row in optin.iterrows():\n",
    "        if row['email'] != row['email_retype']:\n",
    "            print('Email disagreement for row %s in Opt-in list.' %str(index+1))    \n",
    "            error_state += 1\n",
    "    \n",
    "    # tell you what to do \n",
    "    if error_state == 1:\n",
    "        raise Error('Some emails don\\'t match Fix and rerun')\n",
    "    if error_state == 0:\n",
    "        print('no email errors.')\n",
    "\n",
    "    # check duplicates for master\n",
    "    print('deduping...')\n",
    "    unique_emails, counts = np.unique(master['email'], return_counts=True)\n",
    "    if np.any(counts > 1):\n",
    "        print('Duplicates detected in Master list:')\n",
    "        master.drop_duplicates(subset=['email'], keep='first', inplace=True, ignore_index=True)\n",
    "        spreadsheet.worksheet('Cleaned_Master_List2').update('A1:B%d'%len(optin), optin.values.tolist())\n",
    "        print('Master duplicates removed')\n",
    "    else:\n",
    "        print('No duplicates deteted in Master list')\n",
    "    \n",
    "    # check duplicates for optin\n",
    "    unique_emails, counts = np.unique(optin['email'], return_counts=True)\n",
    "    if np.any(counts > 1):\n",
    "        print('Duplicates detected in Optin list...fixing')\n",
    "        optin.drop_duplicates(subset=['email'], keep='first', inplace=True, ignore_index=True)\n",
    "        # create new sheet with de-duplicated optins. Not actually necessary\n",
    "        #spreadsheet.add_worksheet('optin-dedup', rows=optin.shape[0], cols=optin.shape[1])\n",
    "        #spreadsheet.worksheet('optin-dedup').update('A1:%s%d'%(chr(master.shape[1]+64), len(optin)), optin.values.tolist())\n",
    "        print('Optin duplicates removed')\n",
    "    else:\n",
    "        print('No duplicates deteted in Optin list')\n",
    "    \n",
    "    print('Finished.')\n",
    "    \n",
    "def sync_lists():\n",
    "    # sync the opt-in list to the master list\n",
    "    global master, optin, participants\n",
    "    print('syncing the opt-in list to the master list...')\n",
    "    \n",
    "    # if round 1, generate the participants list from the master list\n",
    "    if round_widget.value == 1:\n",
    "        participants = copy(master)\n",
    "    # if rounds 2+, populate the participants list with recent additions to the master list\n",
    "    elif round_widget.value > 1:\n",
    "        participants = copy(pd.merge(master, participants_prev, how='outer'))\n",
    "    \n",
    "    # check if the length of the intersection between the two lists is the same as the length of optin\n",
    "    # if it isn't, then that means there is an error\n",
    "    if np.count_nonzero(np.in1d(participants['email'].to_numpy(), optin['email'].to_numpy())) != len(optin):\n",
    "        if np.count_nonzero(np.in1d(participants['email'].to_numpy(), optin['email'].to_numpy())) < len(optin):\n",
    "            print('Lengths don\\'t match, likely an opt-in participant didn\\'t fill out the intake form')\n",
    "            print('Fix the participants / opt-in lists and start again')\n",
    "    \n",
    "        elif np.count_nonzero(np.in1d(participants['email'].to_numpy(), optin['email'].to_numpy())) > len(optin):\n",
    "            print('Lengths don\\'t match, likely there is a duplicate in the intake form')\n",
    "            print('Fix the participants / opt-in lists and start again')\n",
    "    \n",
    "    else:\n",
    "        print('Lengths match, good, proceeding')\n",
    "        time.sleep(2)\n",
    "        # populate the current round opt-in column from the opt-in list\n",
    "        participants['round'+str(round_widget.value)] = np.zeros(len(participants))\n",
    "        for i, answer in enumerate(np.in1d(participants['email'].to_numpy(), \\\n",
    "                                           optin['email'].to_numpy())):\n",
    "            if answer:\n",
    "                participants.loc[i, 'round'+str(round_widget.value)] = 'Yes'\n",
    "            else:\n",
    "                participants.loc[i, 'round'+str(round_widget.value)] = 'No'\n",
    "        \n",
    "        # replace field that's entirely space (or empty) with 'No'\n",
    "        participants.replace(r'^\\s*$', 'No', regex=True)\n",
    "                    \n",
    "        if np.any(participants['round'+str(round_widget.value)] == 0):\n",
    "            # make sure they were each given 'Yes' or 'No'\n",
    "            print('ERROR')\n",
    "        else:\n",
    "            print('All done')"
   ]
  },
  {
   "cell_type": "markdown",
   "id": "cef50a1a",
   "metadata": {},
   "source": [
    "Functions to send emails"
   ]
  },
  {
   "cell_type": "code",
   "execution_count": 72,
   "id": "db88aaf2",
   "metadata": {},
   "outputs": [],
   "source": [
    "def send_emails(df, round_number):\n",
    "    # sends individual emails to each group \n",
    "    print('sending emails...', end='\\r')\n",
    "    for group_num in np.arange(1, df['current_group'].max()+1):\n",
    "        group = df.loc[df['current_group'] == group_num]\n",
    "\n",
    "        email_sender = 'bumeetup@bu.edu'\n",
    "        email_password = 'SWsocial2022'\n",
    "\n",
    "        email_recipients = group['email'].tolist()\n",
    "\n",
    "        greeting = ', ' . join(group['first_name'].tolist()[:-1] + \\\n",
    "                               ['and ' + group['first_name'].tolist()[-1]])\n",
    "        extra_sentence = ''\n",
    "#        if groupsize_widget.value == 3:\n",
    "#            extra_sentence = ''\n",
    "#        elif groupsize_widget.value == 4:\n",
    "#            if len(group) == 4:\n",
    "#                extra_sentence = ''\n",
    "#            elif len(group) == 3:\n",
    "#                extra_sentence = \" We were hoping to put everyone in groups of four this time, but the \\\n",
    "#numbers required some groups of three. We will do our best to put you in a group of four next round.\"\n",
    "        subject = 'BU Meetup Spring Round %s'%str(round_number)\n",
    "        body = \\\n",
    "'''Hello %s,\n",
    "\n",
    "You all are a group for round %s of BU Meetup.%s Please figure out amongst yourselves what day, time, \\\n",
    "and place would work to meet up for at least 45 minutes sometime in the next 2 weeks. \\\n",
    "You might find it helpful to use a tool like When2Meet to share your availability: \\\n",
    "https://www.when2meet.com/.\n",
    "\n",
    "Now that spring has arrived, you can take advantage of the warm weather by sitting on the BU Beach or \\\n",
    "going for a walk. You can always get coffee at Pavement or Saxby's, get lunch around campus, \\\n",
    "or grab a drink at the BU Pub.\n",
    "Enjoy the opportunity to get to know each other! \n",
    "\n",
    "Feel free to reach out with any questions!\n",
    "\n",
    "~BU Meetup (Eric Wellers & Will Saunders)''' %(greeting, str(round_number), extra_sentence)\n",
    "\n",
    "        em = EmailMessage()\n",
    "        em['From'] = email_sender\n",
    "        em['To'] = email_recipients\n",
    "        em['Subject'] = subject\n",
    "        em.set_content(body)\n",
    "\n",
    "        context = ssl.create_default_context()\n",
    "\n",
    "        with smtplib.SMTP_SSL('smtp.gmail.com', 465, context=context) as smtp:\n",
    "            smtp.login(email_sender, email_password)\n",
    "            smtp.sendmail(email_sender, email_recipients, em.as_string())\n",
    "\n",
    "    print('emails sent       ', '\\r', end='')\n",
    "    \n",
    "def send_reminder_emails(df, round_number):\n",
    "    # sends individual reminder emails to each group\n",
    "    print('sending reminder emails...', end='\\r')\n",
    "    for group_num in np.arange(1, df['current_group'].max()+1):\n",
    "        group = df.loc[df['current_group'] == group_num]\n",
    "        #group['email'].tolist()\n",
    "\n",
    "        email_sender = 'bumeetup@bu.edu'\n",
    "        email_password = 'SWsocial2022'\n",
    "\n",
    "        email_recipients = group['email'].tolist()\n",
    "\n",
    "        greeting = ', ' . join(group['first_name'].tolist()[:-1] + \\\n",
    "                               ['and ' + group['first_name'].tolist()[-1]])\n",
    "\n",
    "        subject = 'Reminder: BU Meetup Round %s'%str(round_number)\n",
    "        body = \\\n",
    "'''Hello %s,\n",
    "\n",
    "This is a friendly reminder that Round %s of BU Meetup ends this week.\\\n",
    "If you've already reached out to each other or \\\n",
    "met, hurray! and you may ignore this email. \\\n",
    "If not, now is a great time to reach out and make a plan to meet.\n",
    "\n",
    "Feel free to reach out with any questions or concerns.\n",
    "\n",
    "~BU Meetup (Eric & Will)''' %(greeting, str(round_number))\n",
    "\n",
    "        em = EmailMessage()\n",
    "        em['From'] = email_sender\n",
    "        em['To'] = email_recipients\n",
    "        em['Subject'] = subject\n",
    "        em.set_content(body)\n",
    "\n",
    "        context = ssl.create_default_context()\n",
    "\n",
    "        with smtplib.SMTP_SSL('smtp.gmail.com', 465, context=context) as smtp:\n",
    "            smtp.login(email_sender, email_password)\n",
    "            smtp.sendmail(email_sender, email_recipients, em.as_string())\n",
    "\n",
    "    print('reminder emails sent       ', '\\r', end='')"
   ]
  },
  {
   "cell_type": "code",
   "execution_count": 73,
   "id": "316deb99",
   "metadata": {},
   "outputs": [],
   "source": [
    "# initialize jupyter widgets \n",
    "style = {'description_width': 'auto'}\n",
    "\n",
    "file_widget = widgets.Text(\n",
    "    description='Participants file:', \n",
    "    disabled=False, \n",
    "    style=style)\n",
    "\n",
    "datafile_widget = widgets.Text(\n",
    "    description='Data file:', \n",
    "    disabled=False, \n",
    "    style=style)\n",
    "\n",
    "round_widget = widgets.Dropdown(\n",
    "    options=np.arange(1, 10),\n",
    "    description='Matching round:', \n",
    "    disabled=False, \n",
    "    style=style)\n",
    "\n",
    "groupsize_widget = widgets.Dropdown(\n",
    "    options=[3,4],\n",
    "    description='Group Size',\n",
    "    disabled=False,\n",
    "    style=style)\n",
    "\n",
    "import_button = widgets.Button(description='Import', style=style)\n",
    "#possible_matches_botton = widgets.Button(description='Possible Matches', style=style)\n",
    "create_match_button = widgets.Button(description='Create Match', style=style)\n",
    "#write_match_button = widgets.Button(description='Write Match', style=style)\n",
    "complete_match_button = widgets.Button(description='Complete Match', style=style)\n",
    "download_match_button = widgets.Button(description='Download Match', style=style)\n",
    "download_data_button = widgets.Button(description='Download Data', style=style)\n",
    "send_emails_button = widgets.Button(description='Send Emails', style=style)\n",
    "send_reminder_emails_button = widgets.Button(description='Send Reminder Emails', style=style)\n",
    "\n",
    "def display_widget():\n",
    "    display(round_widget), \\\n",
    "    display(file_widget), \\\n",
    "    display(datafile_widget), \\\n",
    "    display(groupsize_widget), \\\n",
    "    display(import_button), \\\n",
    "    display(create_match_button), \\\n",
    "    display(download_match_button), \\\n",
    "    display(download_data_button), \\\n",
    "    display(send_emails_button), \\\n",
    "    display(send_reminder_emails_button), \\\n",
    "    display(complete_match_button)\n",
    "\n",
    "data = None\n",
    "number3groups = None\n",
    "number4groups = None\n",
    "\n",
    "# functions for each widget button press\n",
    "\n",
    "def event_import(button):\n",
    "    # imports the round opt-ins and the previous round matching data\n",
    "    import_files()\n",
    "    \n",
    "\n",
    "def event_sync(button):\n",
    "    # match up the opt-in list with the master list \n",
    "    global master, participants, optin\n",
    "    \n",
    "    dedup()\n",
    "    sync_lists()\n",
    "    \n",
    "    clear_output()\n",
    "    display_widget()\n",
    "\n",
    "\n",
    "def event_create_match(button):\n",
    "    # button to perform the match\n",
    "    global hr_full_data, hr_data, full_data, data\n",
    "    clear_output()\n",
    "    display_widget()\n",
    "    # (1) create necessary data\n",
    "    create_data()\n",
    "    # (2) determine all the possible matches\n",
    "    possible_matches()\n",
    "    # (3) create the match \n",
    "    create_match()\n",
    "    \n",
    "    if out == 1:\n",
    "        print('round %i match created'%round_widget.value)\n",
    "    if out == 0:\n",
    "        print('round %i match failed'%round_widget.value)\n",
    "\n",
    "def event_download_match(button):\n",
    "    # button to download the match results in human-readable format\n",
    "    global hr_full_data, hr_data, full_data, data\n",
    "    clear_output()\n",
    "    display_widget()\n",
    "    # the file to download is the human-readable full data\n",
    "    return create_download_link(hr_full_data, title=\"download round %i match\"%round_widget.value, \\\n",
    "                         filename=\"round_%i_match.csv\"%round_widget.value)\n",
    "\n",
    "def event_download_data(button):\n",
    "    # button to download the matching data in messy format\n",
    "    global hr_full_data, hr_data, full_data, data\n",
    "    clear_output()\n",
    "    display_widget()\n",
    "    full_data.loc[data.index, :] = data[:].copy()\n",
    "    return create_download_link(full_data, title=\"download round %i data\"%round_widget.value, \\\n",
    "                         filename=\"round_%i_data.csv\"%round_widget.value)\n",
    "\n",
    "def event_send_emails(button):\n",
    "    clear_output()\n",
    "    display_widget()\n",
    "    send_emails(data, round_widget.value)\n",
    "    \n",
    "def event_send_reminder_emails(button):\n",
    "    clear_output()\n",
    "    display_widget()\n",
    "    send_reminder_emails(data, round_widget.value)\n",
    "    \n",
    "def event_complete_match(button):\n",
    "    # hit this button when the emails and reminder emails are sent AND the match and data are downloaded\n",
    "    global hr_full_data, hr_data, full_data, data\n",
    "    clear_output()\n",
    "    display_widget()\n",
    "    complete_match(data)\n",
    "    complete_match(full_data)\n",
    "    #full_data.loc[data.index, :] = data[:].copy()\n",
    "    print('previous round completed')\n",
    "\n",
    "# connecting the jupyter buttons to the actions for each button \n",
    "import_button.on_click(event_import)\n",
    "create_match_button.on_click(event_create_match)\n",
    "complete_match_button.on_click(event_complete_match)\n",
    "download_match_button.on_click(event_download_match)\n",
    "download_data_button.on_click(event_download_data)\n",
    "send_emails_button.on_click(event_send_emails)\n",
    "send_reminder_emails_button.on_click(event_send_reminder_emails)"
   ]
  },
  {
   "cell_type": "code",
   "execution_count": 74,
   "id": "da77ffd6",
   "metadata": {
    "scrolled": true
   },
   "outputs": [
    {
     "data": {
      "application/vnd.jupyter.widget-view+json": {
       "model_id": "f18f2f1cbb6d4633808b3678331d6a3d",
       "version_major": 2,
       "version_minor": 0
      },
      "text/plain": [
       "Dropdown(description='Matching round:', options=(1, 2, 3, 4, 5, 6, 7, 8, 9), style=DescriptionStyle(descriptio…"
      ]
     },
     "metadata": {},
     "output_type": "display_data"
    },
    {
     "data": {
      "application/vnd.jupyter.widget-view+json": {
       "model_id": "b5c43077c80d40b7939b06f7c382db13",
       "version_major": 2,
       "version_minor": 0
      },
      "text/plain": [
       "Text(value='', description='Participants file:', style=TextStyle(description_width='auto'))"
      ]
     },
     "metadata": {},
     "output_type": "display_data"
    },
    {
     "data": {
      "application/vnd.jupyter.widget-view+json": {
       "model_id": "64f7b7bcc74341f0b781c734698b7cd7",
       "version_major": 2,
       "version_minor": 0
      },
      "text/plain": [
       "Text(value='', description='Data file:', style=TextStyle(description_width='auto'))"
      ]
     },
     "metadata": {},
     "output_type": "display_data"
    },
    {
     "data": {
      "application/vnd.jupyter.widget-view+json": {
       "model_id": "630eca4cf71b473cab1719652c8b93e6",
       "version_major": 2,
       "version_minor": 0
      },
      "text/plain": [
       "Dropdown(description='Group Size', options=(3, 4), style=DescriptionStyle(description_width='auto'), value=3)"
      ]
     },
     "metadata": {},
     "output_type": "display_data"
    },
    {
     "data": {
      "application/vnd.jupyter.widget-view+json": {
       "model_id": "a9dae12d7cf94f06865975ac9bd06f8d",
       "version_major": 2,
       "version_minor": 0
      },
      "text/plain": [
       "Button(description='Import', style=ButtonStyle())"
      ]
     },
     "metadata": {},
     "output_type": "display_data"
    },
    {
     "data": {
      "application/vnd.jupyter.widget-view+json": {
       "model_id": "9f2817810a344d988668cafa80bb5f70",
       "version_major": 2,
       "version_minor": 0
      },
      "text/plain": [
       "Button(description='Create Match', style=ButtonStyle())"
      ]
     },
     "metadata": {},
     "output_type": "display_data"
    },
    {
     "data": {
      "application/vnd.jupyter.widget-view+json": {
       "model_id": "c08ee7969f49471b96cce3b97d15fcaf",
       "version_major": 2,
       "version_minor": 0
      },
      "text/plain": [
       "Button(description='Download Match', style=ButtonStyle())"
      ]
     },
     "metadata": {},
     "output_type": "display_data"
    },
    {
     "data": {
      "application/vnd.jupyter.widget-view+json": {
       "model_id": "b11f0f085d3648c6badb4521dcfff9a9",
       "version_major": 2,
       "version_minor": 0
      },
      "text/plain": [
       "Button(description='Download Data', style=ButtonStyle())"
      ]
     },
     "metadata": {},
     "output_type": "display_data"
    },
    {
     "data": {
      "application/vnd.jupyter.widget-view+json": {
       "model_id": "8e2ac643270545919280f140503d5549",
       "version_major": 2,
       "version_minor": 0
      },
      "text/plain": [
       "Button(description='Send Emails', style=ButtonStyle())"
      ]
     },
     "metadata": {},
     "output_type": "display_data"
    },
    {
     "data": {
      "application/vnd.jupyter.widget-view+json": {
       "model_id": "c1e02ff23f8049b68e87c40b544a7423",
       "version_major": 2,
       "version_minor": 0
      },
      "text/plain": [
       "Button(description='Send Reminder Emails', style=ButtonStyle())"
      ]
     },
     "metadata": {},
     "output_type": "display_data"
    },
    {
     "data": {
      "application/vnd.jupyter.widget-view+json": {
       "model_id": "0912db79943b473f8840402d4ee676fe",
       "version_major": 2,
       "version_minor": 0
      },
      "text/plain": [
       "Button(description='Complete Match', style=ButtonStyle())"
      ]
     },
     "metadata": {},
     "output_type": "display_data"
    }
   ],
   "source": [
    "clear_output()\n",
    "display_widget()"
   ]
  },
  {
   "cell_type": "code",
   "execution_count": null,
   "id": "33b9c437",
   "metadata": {},
   "outputs": [],
   "source": []
  },
  {
   "cell_type": "markdown",
   "id": "1031e9a3",
   "metadata": {},
   "source": [
    "What I used to call `hr_full_data` is now `participants`.  \n",
    "What I used to call `hr_data` I don't think we need.  \n",
    "What I used to call `full_data` is still `full_data`.  \n",
    "What I used to call `data` is still `data`.  "
   ]
  },
  {
   "cell_type": "code",
   "execution_count": null,
   "id": "7feaf94f",
   "metadata": {},
   "outputs": [],
   "source": []
  },
  {
   "cell_type": "code",
   "execution_count": null,
   "id": "d15d0e0a",
   "metadata": {},
   "outputs": [],
   "source": []
  },
  {
   "cell_type": "code",
   "execution_count": null,
   "id": "6481d714",
   "metadata": {},
   "outputs": [],
   "source": []
  },
  {
   "cell_type": "markdown",
   "id": "4fa00c7b",
   "metadata": {},
   "source": [
    "Order of things to do:\n",
    "1. Import \n",
    "    - Round 1: Takes in the master cleaned list and opt-in list\n",
    "    - Rounds 2+: Takes in the master cleaned list, opt-in list, participants list, and full data list. \n",
    "    - Returns master and opt-in or errors (telling you what to fix)\n",
    "2. Dedup\n",
    "    - De-duplicates the opt-in and master lists. \n",
    "3. Sync\n",
    "    - Takes in master and opt-in lists.\n",
    "    - Returns participant list with new rows if necessary.\n",
    "4. Create data\n",
    "    - Produces or updates the full data list. \n",
    "    \n",
    "-------- what I'm up to -------  \n",
    "5. Complete match\n",
    "    - Completes the previous round   \n",
    "6. Possible matches  \n",
    "7. Create match  \n",
    "8. Save data back to Google."
   ]
  },
  {
   "cell_type": "code",
   "execution_count": null,
   "id": "10ea425e",
   "metadata": {},
   "outputs": [],
   "source": []
  },
  {
   "cell_type": "code",
   "execution_count": null,
   "id": "c945eb4e",
   "metadata": {},
   "outputs": [],
   "source": []
  },
  {
   "cell_type": "markdown",
   "id": "1421f3a6",
   "metadata": {},
   "source": [
    "TEST"
   ]
  },
  {
   "cell_type": "code",
   "execution_count": 75,
   "id": "655585e1",
   "metadata": {},
   "outputs": [
    {
     "name": "stdout",
     "output_type": "stream",
     "text": [
      "Imported\n"
     ]
    }
   ],
   "source": [
    "import_files()"
   ]
  },
  {
   "cell_type": "code",
   "execution_count": 76,
   "id": "acdc4696",
   "metadata": {
    "scrolled": true
   },
   "outputs": [
    {
     "name": "stdout",
     "output_type": "stream",
     "text": [
      "checking emails match...\n",
      "no email errors.\n",
      "deduping...\n",
      "No duplicates deteted in Master list\n",
      "Duplicates detected in Optin list...fixing\n",
      "Optin duplicates removed\n",
      "Finished.\n"
     ]
    }
   ],
   "source": [
    "dedup()"
   ]
  },
  {
   "cell_type": "code",
   "execution_count": 77,
   "id": "9cf082c2",
   "metadata": {},
   "outputs": [
    {
     "name": "stdout",
     "output_type": "stream",
     "text": [
      "syncing the opt-in list to the master list...\n",
      "Lengths match, good, proceeding\n",
      "All done\n"
     ]
    }
   ],
   "source": [
    "sync_lists()"
   ]
  },
  {
   "cell_type": "code",
   "execution_count": 78,
   "id": "b4c66f89",
   "metadata": {},
   "outputs": [],
   "source": [
    "create_data()"
   ]
  }
 ],
 "metadata": {
  "kernelspec": {
   "display_name": "Python 3 (ipykernel)",
   "language": "python",
   "name": "python3"
  },
  "language_info": {
   "codemirror_mode": {
    "name": "ipython",
    "version": 3
   },
   "file_extension": ".py",
   "mimetype": "text/x-python",
   "name": "python",
   "nbconvert_exporter": "python",
   "pygments_lexer": "ipython3",
   "version": "3.9.16"
  }
 },
 "nbformat": 4,
 "nbformat_minor": 5
}
