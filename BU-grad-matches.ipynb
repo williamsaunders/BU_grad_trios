{
 "cells": [
  {
   "cell_type": "markdown",
   "id": "79b9bae5",
   "metadata": {},
   "source": [
    "I have a bunch of improvements to make for the Spring 23 version of this program:\n",
    "\n",
    "- Improve the workflow  --> DONE\n",
    "- Create new rows for new opt-ins --> DONE  \n",
    "- Create a better way of matching opt-ins to the master list  --> DONE\n",
    "- Better group size options --> LATER\n",
    "- Better naming convention --> DONE\n",
    "~~- A way of tracking people who met during the fall 2022 program if we want them not to match again~~\n",
    "- Make sure everyone has a unique identifier --> DONE\n",
    "- Ensure file saving convention (excel or csv) is consistent"
   ]
  },
  {
   "cell_type": "code",
   "execution_count": 1,
   "id": "316deb99",
   "metadata": {},
   "outputs": [
    {
     "data": {
      "text/html": [
       "<style>.container { width:95% !important; }</style>"
      ],
      "text/plain": [
       "<IPython.core.display.HTML object>"
      ]
     },
     "metadata": {},
     "output_type": "display_data"
    }
   ],
   "source": [
    "from IPython.display import display, HTML\n",
    "display(HTML(\"<style>.container { width:95% !important; }</style>\"))\n",
    "\n",
    "from matplotlib_inline import backend_inline\n",
    "backend_inline.set_matplotlib_formats('retina')\n",
    "\n",
    "import numpy as np\n",
    "import matplotlib\n",
    "import matplotlib.pyplot as plt\n",
    "import pandas as pd\n",
    "#from openpyxl import load_workbook\n",
    "\n",
    "import ipywidgets as widgets\n",
    "from IPython.display import display, clear_output\n",
    "from ipywidgets import HBox, VBox\n",
    "from IPython.display import HTML\n",
    "import base64\n",
    "\n",
    "#import os\n",
    "from email.message import EmailMessage\n",
    "import ssl\n",
    "import smtplib\n",
    "\n",
    "pd.set_option('display.max_rows', None)\n",
    "\n",
    "def find_nearest(array, value):\n",
    "    array = np.asarray(array)\n",
    "    idx = (np.abs(array - value)).argmin()\n",
    "    return idx\n",
    "\n",
    "def convert_cell(cell):\n",
    "    # converts '[1, 2, 3, ...]' into [1, 2, 3, ...]\n",
    "    if cell != '[]':\n",
    "        a = cell.strip('][').split(', ')\n",
    "        b = [int(i) for i in a]\n",
    "        return b\n",
    "    else:\n",
    "        return []\n",
    "\n",
    "def init(df):\n",
    "    # reset some of the columns or create them if they don't exist \n",
    "    df['prior_matches'] = [ [] for _ in range(len(df)) ]\n",
    "    df['current_match'] = [ [] for _ in range(len(df)) ]\n",
    "    df['current_group'] = -1\n",
    "    df['num_prior_matches'] = 0\n",
    "    df['size_prev_match'] = 0 # whether were in a 3 or 4 group previously, or 0 if new\n",
    "    df['possible_matches'] = [ [] for _ in range(len(df)) ]\n",
    "    df['num_possible_matches'] = -1\n",
    "\n",
    "def complete_match(df):\n",
    "    # move the current match to the end of the list of prior matches and clear the columns \n",
    "    for index, row in df.iterrows():\n",
    "        df.loc[index, 'prior_matches'].extend(row['current_match'])\n",
    "        df.loc[index, 'num_prior_matches'] = len(row['prior_matches'])\n",
    "    df['size_prev_match'] = [len(a) for a in df['current_match'].tolist()]\n",
    "    df['current_match'] = [ [] for _ in range(len(df)) ]\n",
    "    df['current_group'] = -1\n",
    "\n",
    "def possible_matches():\n",
    "    # determines all the possible matches for each person in the program\n",
    "    data['possible_matches'] = [ [] for _ in range(len(data)) ]\n",
    "    data['num_possible_matches'] = -1\n",
    "    for index, row in data.iterrows():\n",
    "        non_previous_matches = data.index.to_numpy()[~np.in1d(data.index.to_numpy(), row['prior_matches'])]\n",
    "        non_same_department = data.index.to_numpy()[~(row['department'] == data['department'])]\n",
    "        data.loc[index, 'possible_matches'].extend(np.intersect1d(non_previous_matches, non_same_department))\n",
    "        data.loc[index, 'num_possible_matches'] = len(data.loc[index, 'possible_matches'])\n",
    "\n",
    "def perform_random_loop(df):\n",
    "    # the loop that attempts to do the matching\n",
    "    out = 0 # variable to determine when we've succeeded\n",
    "    # clear any attemps to match that failed\n",
    "    df['current_match'] = [ [] for _ in range(len(df)) ]\n",
    "    df['current_group'] = -1\n",
    "    # create a random column \n",
    "    df.loc[:, 'randint'] = np.random.choice(np.arange(0, len(df)), size=len(df), replace=False)\n",
    "    \n",
    "    groupnum = 1 # a counter for the group number\n",
    "    # iterate through, starting with the most number of possible matches \n",
    "    for i, (index, row) in enumerate(df.sort_values(['size_prev_match', \\\n",
    "                                                     'num_possible_matches', \\\n",
    "                                                     'randint']).iterrows()):\n",
    "        # select possible matches for person1\n",
    "        if i == 0:\n",
    "            p1_possible = df.loc[index, 'possible_matches']\n",
    "        elif i > 0 :\n",
    "            if len(remaining) == 0:\n",
    "                out = 1\n",
    "                return out\n",
    "                break\n",
    "            elif index not in remaining.index.tolist(): \n",
    "                continue\n",
    "            else:\n",
    "                p1_possible = np.intersect1d(remaining.loc[index, 'possible_matches'], \\\n",
    "                                             remaining.index.tolist())\n",
    "        if len(p1_possible) <= 1:\n",
    "            return out\n",
    "            break\n",
    "        # pick a random person2\n",
    "        p2 = df.loc[p1_possible].sample(1)\n",
    "        p2_possible = p2['possible_matches'].tolist()\n",
    "        # take person1 possible matches and remove person2 and all of person2's not possible matches\n",
    "        p1p2_possible_step1 = np.array(p1_possible)[~np.isin(p1_possible, p2.index.tolist())] # remove p2\n",
    "        p1p2_possible = p1p2_possible_step1[np.isin(p1p2_possible_step1, p2_possible)]\n",
    "\n",
    "        if len(p1p2_possible) == 0:\n",
    "            return out\n",
    "            break\n",
    "        # pick a random person3\n",
    "        p3 = df.loc[p1p2_possible].sample(1)\n",
    "        p3_possible = p3['possible_matches'].tolist()\n",
    "\n",
    "        if groupnum <= number4groups:\n",
    "            # take person3 out oc p1p2_possible\n",
    "            p1p2p3_possible_step1 = np.array(p1p2_possible)[~np.isin(p1p2_possible, p3.index.tolist())] \n",
    "            # keep only person3's possible matches \n",
    "            p1p2p3_possible = p1p2p3_possible_step1[np.isin(p1p2p3_possible_step1, p3_possible)]\n",
    "            \n",
    "            if len(p1p2p3_possible) == 0:\n",
    "                return out\n",
    "                break\n",
    "            # pick a random person4\n",
    "            p4 = df.loc[p1p2p3_possible].sample(1)\n",
    "\n",
    "            # write the current match for all *4* group members\n",
    "            df.loc[index, 'current_match'].extend([index, p2.index[0], p3.index[0], p4.index[0]])\n",
    "            df.loc[p2.index[0], 'current_match'].extend([p2.index[0], index, p3.index[0], p4.index[0]])\n",
    "            df.loc[p3.index[0], 'current_match'].extend([p3.index[0], index, p2.index[0], p4.index[0]])\n",
    "            df.loc[p4.index[0], 'current_match'].extend([p4.index[0], index, p2.index[0], p3.index[0]])\n",
    "            \n",
    "            df.loc[index, 'current_group'] = groupnum\n",
    "            df.loc[p2.index[0], 'current_group'] = groupnum\n",
    "            df.loc[p3.index[0], 'current_group'] = groupnum\n",
    "            df.loc[p4.index[0], 'current_group'] = groupnum\n",
    "            \n",
    "        else:\n",
    "            # write the current match for all *3* group members\n",
    "            df.loc[index, 'current_match'].extend([index, p2.index[0], p3.index[0]])\n",
    "            df.loc[p2.index[0], 'current_match'].extend([p2.index[0], index, p3.index[0]])\n",
    "            df.loc[p3.index[0], 'current_match'].extend([p3.index[0], index, p2.index[0]])\n",
    "            \n",
    "            df.loc[index, 'current_group'] = groupnum\n",
    "            df.loc[p2.index[0], 'current_group'] = groupnum\n",
    "            df.loc[p3.index[0], 'current_group'] = groupnum\n",
    "\n",
    "        # create a new version of the overall df with the matches rows removed\n",
    "        if i == 0:\n",
    "            if groupnum <= number4groups:\n",
    "                remaining = df.loc[df.index.difference((index, p2.index[0], p3.index[0], p4.index[0]))]\n",
    "            else:\n",
    "                remaining = df.loc[df.index.difference((index, p2.index[0], p3.index[0]))]\n",
    "        if i > 0:\n",
    "            if groupnum <= number4groups:\n",
    "                remaining = remaining.loc[remaining.index.difference((index, p2.index[0], \\\n",
    "                                                                      p3.index[0], p4.index[0]))]\n",
    "            else:\n",
    "                remaining = remaining.loc[remaining.index.difference((index, p2.index[0], p3.index[0]))]\n",
    "\n",
    "        if i == len(df) - 1:\n",
    "            out = 1\n",
    "            return out\n",
    "\n",
    "        groupnum+=1\n",
    "\n",
    "def create_match():\n",
    "    # calls the matching loop up to 1000 times to create the match \n",
    "    global out, hr_full_data, hr_data, full_data, data\n",
    "    counter = 0\n",
    "    out = 0\n",
    "    while out == 0:\n",
    "        counter += 1\n",
    "        out = perform_random_loop(data)  \n",
    "        print(counter, '\\r', end='')\n",
    "        if counter >= 1000:\n",
    "            print('match failed, not possible')\n",
    "            break\n",
    "            \n",
    "    # use data to populate hr_data, full_data, and hr_full_data\n",
    "    hr_data['group' + str(round_widget.value)] = data['current_group']\n",
    "    hr_full_data = pd.merge(hr_full_data, hr_data, how='left')\n",
    "    full_data.loc[data.index, :] = data[:].copy()\n",
    "    \n",
    "def create_download_link(df, title=\"Download CSV file\", filename=\"data.csv\"): \n",
    "    # turns the pandas DataFrame into a csv to download\n",
    "    csv = df.to_csv(index=True)\n",
    "    b64 = base64.b64encode(csv.encode())\n",
    "    payload = b64.decode()\n",
    "    html = '<a download=\"{filename}\" href=\"data:text/csv;base64,{payload}\" target=\"_blank\">{title}</a>'\n",
    "    html = html.format(payload=payload,title=title,filename=filename)\n",
    "    display(HTML(html))\n",
    "    \n",
    "    \n",
    "def send_emails(df, round_number):\n",
    "    # sends individual emails to each group \n",
    "    print('sending emails...', end='\\r')\n",
    "    for group_num in np.arange(1, df['current_group'].max()+1):\n",
    "        group = df.loc[df['current_group'] == group_num]\n",
    "\n",
    "        email_sender = 'bumeetup@bu.edu'\n",
    "        email_password = 'SWsocial2022'\n",
    "\n",
    "        email_recipients = group['email'].tolist()\n",
    "\n",
    "        greeting = ', ' . join(group['first_name'].tolist()[:-1] + \\\n",
    "                               ['and ' + group['first_name'].tolist()[-1]])\n",
    "        extra_sentence = ''\n",
    "#        if groupsize_widget.value == 3:\n",
    "#            extra_sentence = ''\n",
    "#        elif groupsize_widget.value == 4:\n",
    "#            if len(group) == 4:\n",
    "#                extra_sentence = ''\n",
    "#            elif len(group) == 3:\n",
    "#                extra_sentence = \" We were hoping to put everyone in groups of four this time, but the \\\n",
    "#numbers required some groups of three. We will do our best to put you in a group of four next round.\"\n",
    "        subject = 'BU Meetup Spring Round %s'%str(round_number)\n",
    "        body = \\\n",
    "'''Hello %s,\n",
    "\n",
    "You all are a group for round %s of BU Meetup.%s Please figure out amongst yourselves what day, time, \\\n",
    "and place would work to meet up for at least 45 minutes sometime in the next 2 weeks. \\\n",
    "You might find it helpful to use a tool like When2Meet to share your availability: \\\n",
    "https://www.when2meet.com/.\n",
    "\n",
    "Some suggestions that previous groups enjoyed: get coffee/tea at the new data science building, \\\n",
    "get lunch or dinner at a nearby restaurant, \\\n",
    "grab a drink at the BU Pub, or give each other tours of your departments. \\\n",
    "Enjoy the opportunity to get to know each other! \n",
    "\n",
    "Feel free to reach out with any questions!\n",
    "\n",
    "~BU Meetup (Eric Wellers & Will Saunders)''' %(greeting, str(round_number), extra_sentence)\n",
    "\n",
    "        em = EmailMessage()\n",
    "        em['From'] = email_sender\n",
    "        em['To'] = email_recipients\n",
    "        em['Subject'] = subject\n",
    "        em.set_content(body)\n",
    "\n",
    "        context = ssl.create_default_context()\n",
    "\n",
    "        with smtplib.SMTP_SSL('smtp.gmail.com', 465, context=context) as smtp:\n",
    "            smtp.login(email_sender, email_password)\n",
    "            smtp.sendmail(email_sender, email_recipients, em.as_string())\n",
    "\n",
    "    print('emails sent       ', '\\r', end='')\n",
    "    \n",
    "def send_reminder_emails(df, round_number):\n",
    "    # sends individual reminder emails to each group\n",
    "    print('sending reminder emails...', end='\\r')\n",
    "    for group_num in np.arange(1, df['current_group'].max()+1):\n",
    "        group = df.loc[df['current_group'] == group_num]\n",
    "        #group['email'].tolist()\n",
    "\n",
    "        email_sender = 'bumeetup@bu.edu'\n",
    "        email_password = 'SWsocial2022'\n",
    "\n",
    "        email_recipients = group['email'].tolist()\n",
    "\n",
    "        greeting = ', ' . join(group['first_name'].tolist()[:-1] + \\\n",
    "                               ['and ' + group['first_name'].tolist()[-1]])\n",
    "\n",
    "        subject = 'Reminder: BU Meetup Round %s'%str(round_number)\n",
    "        body = \\\n",
    "'''Hello %s,\n",
    "\n",
    "This is a friendly reminder that Round %s of BU Meetup ends this week.\\\n",
    "If you've already reached out to each other or \\\n",
    "met, hurray! and you may ignore this email. \\\n",
    "If not, now is a great time to reach out and make a plan to meet.\n",
    "\n",
    "Feel free to reach out with any questions or concerns.\n",
    "\n",
    "~BU Meetup (Eric & Will)''' %(greeting, str(round_number))\n",
    "\n",
    "        em = EmailMessage()\n",
    "        em['From'] = email_sender\n",
    "        em['To'] = email_recipients\n",
    "        em['Subject'] = subject\n",
    "        em.set_content(body)\n",
    "\n",
    "        context = ssl.create_default_context()\n",
    "\n",
    "        with smtplib.SMTP_SSL('smtp.gmail.com', 465, context=context) as smtp:\n",
    "            smtp.login(email_sender, email_password)\n",
    "            smtp.sendmail(email_sender, email_recipients, em.as_string())\n",
    "\n",
    "    print('reminder emails sent       ', '\\r', end='')\n",
    "\n",
    "# initialize jupyter widgets \n",
    "style = {'description_width': 'auto'}\n",
    "\n",
    "file_widget = widgets.Text(\n",
    "    description='Participants file:', \n",
    "    disabled=False, \n",
    "    style=style)\n",
    "\n",
    "datafile_widget = widgets.Text(\n",
    "    description='Data file:', \n",
    "    disabled=False, \n",
    "    style=style)\n",
    "\n",
    "round_widget = widgets.Dropdown(\n",
    "    options=np.arange(1, 10),\n",
    "    description='Matching round:', \n",
    "    disabled=False, \n",
    "    style=style)\n",
    "\n",
    "groupsize_widget = widgets.Dropdown(\n",
    "    options=[3,4],\n",
    "    description='Group Size',\n",
    "    disabled=False,\n",
    "    style=style)\n",
    "\n",
    "import_button = widgets.Button(description='Import', style=style)\n",
    "#possible_matches_botton = widgets.Button(description='Possible Matches', style=style)\n",
    "create_match_button = widgets.Button(description='Create Match', style=style)\n",
    "#write_match_button = widgets.Button(description='Write Match', style=style)\n",
    "complete_match_button = widgets.Button(description='Complete Match', style=style)\n",
    "download_match_button = widgets.Button(description='Download Match', style=style)\n",
    "download_data_button = widgets.Button(description='Download Data', style=style)\n",
    "send_emails_button = widgets.Button(description='Send Emails', style=style)\n",
    "send_reminder_emails_button = widgets.Button(description='Send Reminder Emails', style=style)\n",
    "\n",
    "def display_widget():\n",
    "    display(round_widget), \\\n",
    "    display(file_widget), \\\n",
    "    display(datafile_widget), \\\n",
    "    display(groupsize_widget), \\\n",
    "    display(import_button), \\\n",
    "    display(create_match_button), \\\n",
    "    display(download_match_button), \\\n",
    "    display(download_data_button), \\\n",
    "    display(send_emails_button), \\\n",
    "    display(send_reminder_emails_button), \\\n",
    "    display(complete_match_button)\n",
    "\n",
    "data = None\n",
    "number3groups = None\n",
    "number4groups = None\n",
    "\n",
    "# functions for each widget button press\n",
    "\n",
    "def event_import(button):\n",
    "    # imports the round opt-ins and the previous round matching data\n",
    "    global hr_full_data, hr_data, full_data, data, number3groups, number4groups\n",
    "    clear_output()\n",
    "    display_widget()\n",
    "\n",
    "    # if there is no datafile to import, it's round 1 pairing \n",
    "    if datafile_widget.value == '':\n",
    "        # hr_full_data is human-readable data with everyone who filled out the intake form\n",
    "        hr_full_data = pd.read_excel(file_widget.value, index_col=0) \n",
    "        # hr_data is hr_full_data with only people opted into the current round  \n",
    "        hr_data = hr_full_data[hr_full_data[hr_full_data.columns[-1]]=='Yes'].copy() \n",
    "        # full_data is [kind of] non-human-readable data for everyone \n",
    "        full_data = hr_full_data[['full_name', 'first_name', 'BUID', 'email', 'school', \\\n",
    "                                  'department']].copy()\n",
    "        # data is [kind of] non-human-readable data for people opted into the round. \n",
    "        #     data is what I use to do all of the actual processing\n",
    "        data = hr_data[['full_name','first_name','BUID','email','school','department']].copy()\n",
    "       \n",
    "        init(full_data)\n",
    "        init(data)\n",
    "\n",
    "    # if there is a datafile, it means it's either round 1 reminder email or rounds 2+\n",
    "    else:\n",
    "        hr_full_data = pd.read_excel(file_widget.value, index_col=0)\n",
    "        full_data = pd.read_excel(datafile_widget.value, index_col=0)\n",
    "        \n",
    "        full_data['prior_matches'] = \\\n",
    "            [convert_cell(row['prior_matches']) for index, row in full_data.iterrows()]\n",
    "        full_data['current_match'] = \\\n",
    "            [convert_cell(row['current_match']) for index, row in full_data.iterrows()]\n",
    "        full_data['possible_matches'] = \\\n",
    "            [convert_cell(row['possible_matches']) for index, row in full_data.iterrows()]\n",
    "\n",
    "        # make all emails same formatting\n",
    "        hr_full_data['email'] = hr_full_data['email'].str.lower()\n",
    "        hr_full_data['email'] = hr_full_data['email'].str.strip()\n",
    "        full_data['email'] = full_data['email'].str.lower()\n",
    "        full_data['email'] = full_data['email'].str.strip()\n",
    "        \n",
    "        # select the HR data of the opt-ins\n",
    "        hr_data = hr_full_data[hr_full_data['round'+str(round_widget.value)]=='Yes'].copy() \n",
    "        \n",
    "        # initialize empty rows in the data file for new participants\n",
    "        # this take a lot of lines\n",
    "        a = pd.merge(hr_full_data, full_data, left_index=True, right_index=True, how='outer')\n",
    "        a = a[a.columns[[0, 1, 2, 3, 4, 5, -7, -6, -5, -4, -3, -2, -1]]]\n",
    "        a.columns = full_data.columns\n",
    "        a['prior_matches'] = a['prior_matches'].apply(lambda d: d if isinstance(d, list) else [])\n",
    "        a['current_match'] = a['current_match'].apply(lambda d: d if isinstance(d, list) else [])\n",
    "        a['current_group'].fillna(-1, inplace=True)\n",
    "        a['num_prior_matches'].fillna(0, inplace=True)\n",
    "        a['size_prev_match'].fillna(0, inplace=True)\n",
    "        a['possible_matches'] = a['possible_matches'].apply(lambda d: d if isinstance(d, list) else [])\n",
    "        a['num_possible_matches'].fillna(-1, inplace=True)\n",
    "        full_data = a.copy()\n",
    "        \n",
    "        # create data array for just the opt-ins\n",
    "        data = a.copy()\n",
    "        data = data[hr_full_data['round'+str(round_widget.value)]=='Yes'].copy()\n",
    "    \n",
    "    # calculate the number of groups of 3 and 4 we will have \n",
    "    n = len(data)\n",
    "    if groupsize_widget.value == 3:\n",
    "        # make groups of 3 and fill in the gaps with groups of 4\n",
    "        number3groups = n // 3\n",
    "        number4groups = n - (number3groups * 3)\n",
    "        number3groups = n // 3 - number4groups\n",
    "    elif groupsize_widget.value == 4:\n",
    "        # make groups of 4 and fill in the gaps with groups of 3\n",
    "        nn = n\n",
    "        number3groups = 0\n",
    "        while (nn / 4 - np.floor(nn / 4)) != 0:\n",
    "            nn -= 3 # keep subtracting groups of 3 until it's divisible by 4\n",
    "            number3groups += 1\n",
    "        number4groups = nn // 4\n",
    "\n",
    "    print('imported participants')\n",
    "\n",
    "def event_create_match(button):\n",
    "    # button to perform the match\n",
    "    global hr_full_data, hr_data, full_data, data\n",
    "    clear_output()\n",
    "    display_widget()\n",
    "    possible_matches()\n",
    "    #print('round %i possible matches complete'%round_widget.value)\n",
    "    create_match()\n",
    "    if out == 1:\n",
    "        print('round %i match created'%round_widget.value)\n",
    "    if out == 0:\n",
    "        print('round %i match failed'%round_widget.value)\n",
    "\n",
    "def event_download_match(button):\n",
    "    # button to download the match results in human-readable format\n",
    "    global hr_full_data, hr_data, full_data, data\n",
    "    clear_output()\n",
    "    display_widget()\n",
    "    # the file to download is the human-readable full data\n",
    "    return create_download_link(hr_full_data, title=\"download round %i match\"%round_widget.value, \\\n",
    "                         filename=\"round_%i_match.csv\"%round_widget.value)\n",
    "\n",
    "def event_download_data(button):\n",
    "    # button to download the matching data in messy format\n",
    "    global hr_full_data, hr_data, full_data, data\n",
    "    clear_output()\n",
    "    display_widget()\n",
    "    full_data.loc[data.index, :] = data[:].copy()\n",
    "    return create_download_link(full_data, title=\"download round %i data\"%round_widget.value, \\\n",
    "                         filename=\"round_%i_data.csv\"%round_widget.value)\n",
    "\n",
    "def event_send_emails(button):\n",
    "    clear_output()\n",
    "    display_widget()\n",
    "    send_emails(data, round_widget.value)\n",
    "    \n",
    "def event_send_reminder_emails(button):\n",
    "    clear_output()\n",
    "    display_widget()\n",
    "    send_reminder_emails(data, round_widget.value)\n",
    "    \n",
    "def event_complete_match(button):\n",
    "    # hit this button when the emails and reminder emails are sent AND the match and data are downloaded\n",
    "    global hr_full_data, hr_data, full_data, data\n",
    "    clear_output()\n",
    "    display_widget()\n",
    "    complete_match(data)\n",
    "    complete_match(full_data)\n",
    "    #full_data.loc[data.index, :] = data[:].copy()\n",
    "    print('previous round completed')\n",
    "\n",
    "# connecting the jupyter buttons to the actions for each button \n",
    "import_button.on_click(event_import)\n",
    "create_match_button.on_click(event_create_match)\n",
    "complete_match_button.on_click(event_complete_match)\n",
    "download_match_button.on_click(event_download_match)\n",
    "download_data_button.on_click(event_download_data)\n",
    "send_emails_button.on_click(event_send_emails)\n",
    "send_reminder_emails_button.on_click(event_send_reminder_emails)"
   ]
  },
  {
   "cell_type": "raw",
   "id": "588329fe",
   "metadata": {},
   "source": [
    "Spring2023_program/round_1_participants.xlsx\n",
    "Spring2023_program/round_1_data.xlsx\n",
    "Spring2023_program/round_1_match.xlsx\n",
    "\n",
    "Spring2023_program/round_2_participants.xlsx\n",
    "Spring2023_program/round_1_data.xlsx\n",
    "\n",
    "Spring2023_program/round_3_participants.xlsx\n",
    "Spring2023_program/round_2_data.xlsx"
   ]
  },
  {
   "cell_type": "code",
   "execution_count": 2,
   "id": "da77ffd6",
   "metadata": {
    "scrolled": false
   },
   "outputs": [
    {
     "data": {
      "application/vnd.jupyter.widget-view+json": {
       "model_id": "4d36e3c5897e463e9633780c4e9d627a",
       "version_major": 2,
       "version_minor": 0
      },
      "text/plain": [
       "Dropdown(description='Matching round:', index=2, options=(1, 2, 3, 4, 5, 6, 7, 8, 9), style=DescriptionStyle(d…"
      ]
     },
     "metadata": {},
     "output_type": "display_data"
    },
    {
     "data": {
      "application/vnd.jupyter.widget-view+json": {
       "model_id": "8880eba50b4449ffba7a379913f9c2a4",
       "version_major": 2,
       "version_minor": 0
      },
      "text/plain": [
       "Text(value='Spring2023_program/round_3_participants.xlsx', description='Participants file:', style=TextStyle(d…"
      ]
     },
     "metadata": {},
     "output_type": "display_data"
    },
    {
     "data": {
      "application/vnd.jupyter.widget-view+json": {
       "model_id": "cdc31955c8dd40019f11f680f8c410ff",
       "version_major": 2,
       "version_minor": 0
      },
      "text/plain": [
       "Text(value='Spring2023_program/round_2_data.xlsx', description='Data file:', style=TextStyle(description_width…"
      ]
     },
     "metadata": {},
     "output_type": "display_data"
    },
    {
     "data": {
      "application/vnd.jupyter.widget-view+json": {
       "model_id": "471bb9913f5f4d22ae9b8a0d27e5574a",
       "version_major": 2,
       "version_minor": 0
      },
      "text/plain": [
       "Dropdown(description='Group Size', index=1, options=(3, 4), style=DescriptionStyle(description_width='auto'), …"
      ]
     },
     "metadata": {},
     "output_type": "display_data"
    },
    {
     "data": {
      "application/vnd.jupyter.widget-view+json": {
       "model_id": "685ad5bebc74458d90434d468352a97d",
       "version_major": 2,
       "version_minor": 0
      },
      "text/plain": [
       "Button(description='Import', style=ButtonStyle())"
      ]
     },
     "metadata": {},
     "output_type": "display_data"
    },
    {
     "data": {
      "application/vnd.jupyter.widget-view+json": {
       "model_id": "4c1bef2836384c42b8cbf2213bed7a83",
       "version_major": 2,
       "version_minor": 0
      },
      "text/plain": [
       "Button(description='Create Match', style=ButtonStyle())"
      ]
     },
     "metadata": {},
     "output_type": "display_data"
    },
    {
     "data": {
      "application/vnd.jupyter.widget-view+json": {
       "model_id": "b8f110c2283a489faf82ed50a8c32c96",
       "version_major": 2,
       "version_minor": 0
      },
      "text/plain": [
       "Button(description='Download Match', style=ButtonStyle())"
      ]
     },
     "metadata": {},
     "output_type": "display_data"
    },
    {
     "data": {
      "application/vnd.jupyter.widget-view+json": {
       "model_id": "b8700f31b14f4e4d9590326666075424",
       "version_major": 2,
       "version_minor": 0
      },
      "text/plain": [
       "Button(description='Download Data', style=ButtonStyle())"
      ]
     },
     "metadata": {},
     "output_type": "display_data"
    },
    {
     "data": {
      "application/vnd.jupyter.widget-view+json": {
       "model_id": "90c449f4d5574c128bb02f42068e6163",
       "version_major": 2,
       "version_minor": 0
      },
      "text/plain": [
       "Button(description='Send Emails', style=ButtonStyle())"
      ]
     },
     "metadata": {},
     "output_type": "display_data"
    },
    {
     "data": {
      "application/vnd.jupyter.widget-view+json": {
       "model_id": "0f2f1862d2d24ca193a520c52eae418c",
       "version_major": 2,
       "version_minor": 0
      },
      "text/plain": [
       "Button(description='Send Reminder Emails', style=ButtonStyle())"
      ]
     },
     "metadata": {},
     "output_type": "display_data"
    },
    {
     "data": {
      "application/vnd.jupyter.widget-view+json": {
       "model_id": "2019183291ba44c4b8cb95b073d40b6c",
       "version_major": 2,
       "version_minor": 0
      },
      "text/plain": [
       "Button(description='Complete Match', style=ButtonStyle())"
      ]
     },
     "metadata": {},
     "output_type": "display_data"
    },
    {
     "data": {
      "text/html": [
       "<a download=\"round_3_data.csv\" href=\"data:text/csv;base64,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\" target=\"_blank\">download round 3 data</a>"
      ],
      "text/plain": [
       "<IPython.core.display.HTML object>"
      ]
     },
     "metadata": {},
     "output_type": "display_data"
    }
   ],
   "source": [
    "clear_output()\n",
    "display_widget()"
   ]
  },
  {
   "cell_type": "code",
   "execution_count": null,
   "id": "c9b32cd6",
   "metadata": {},
   "outputs": [],
   "source": []
  },
  {
   "cell_type": "code",
   "execution_count": null,
   "id": "2130039e",
   "metadata": {},
   "outputs": [],
   "source": []
  },
  {
   "cell_type": "code",
   "execution_count": null,
   "id": "c15307e2",
   "metadata": {},
   "outputs": [],
   "source": []
  },
  {
   "cell_type": "code",
   "execution_count": 56,
   "id": "41053f89",
   "metadata": {
    "scrolled": true
   },
   "outputs": [
    {
     "data": {
      "text/html": [
       "<div>\n",
       "<style scoped>\n",
       "    .dataframe tbody tr th:only-of-type {\n",
       "        vertical-align: middle;\n",
       "    }\n",
       "\n",
       "    .dataframe tbody tr th {\n",
       "        vertical-align: top;\n",
       "    }\n",
       "\n",
       "    .dataframe thead th {\n",
       "        text-align: right;\n",
       "    }\n",
       "</style>\n",
       "<table border=\"1\" class=\"dataframe\">\n",
       "  <thead>\n",
       "    <tr style=\"text-align: right;\">\n",
       "      <th></th>\n",
       "      <th>full_name</th>\n",
       "      <th>first_name</th>\n",
       "      <th>BUID</th>\n",
       "      <th>email</th>\n",
       "      <th>school</th>\n",
       "      <th>department</th>\n",
       "      <th>prior_matches</th>\n",
       "      <th>current_match</th>\n",
       "      <th>current_group</th>\n",
       "      <th>num_prior_matches</th>\n",
       "      <th>size_prev_match</th>\n",
       "      <th>possible_matches</th>\n",
       "      <th>num_possible_matches</th>\n",
       "      <th>randint</th>\n",
       "    </tr>\n",
       "  </thead>\n",
       "  <tbody>\n",
       "    <tr>\n",
       "      <th>227</th>\n",
       "      <td>William Saunders</td>\n",
       "      <td>Will</td>\n",
       "      <td>90747427</td>\n",
       "      <td>wsaund@bu.edu</td>\n",
       "      <td>Graduate School of Arts and Sciences</td>\n",
       "      <td>Astronomy</td>\n",
       "      <td>[]</td>\n",
       "      <td>[227, 328, 69, 249]</td>\n",
       "      <td>23</td>\n",
       "      <td>0</td>\n",
       "      <td>0</td>\n",
       "      <td>[1, 4, 6, 8, 18, 23, 30, 31, 38, 50, 51, 62, 6...</td>\n",
       "      <td>97</td>\n",
       "      <td>66</td>\n",
       "    </tr>\n",
       "  </tbody>\n",
       "</table>\n",
       "</div>"
      ],
      "text/plain": [
       "            full_name first_name      BUID          email  \\\n",
       "227  William Saunders       Will  90747427  wsaund@bu.edu   \n",
       "\n",
       "                                   school department prior_matches  \\\n",
       "227  Graduate School of Arts and Sciences  Astronomy            []   \n",
       "\n",
       "           current_match  current_group  num_prior_matches  size_prev_match  \\\n",
       "227  [227, 328, 69, 249]             23                  0                0   \n",
       "\n",
       "                                      possible_matches  num_possible_matches  \\\n",
       "227  [1, 4, 6, 8, 18, 23, 30, 31, 38, 50, 51, 62, 6...                    97   \n",
       "\n",
       "     randint  \n",
       "227       66  "
      ]
     },
     "execution_count": 56,
     "metadata": {},
     "output_type": "execute_result"
    }
   ],
   "source": [
    "data[data['full_name']=='William Saunders']"
   ]
  },
  {
   "cell_type": "code",
   "execution_count": 57,
   "id": "445c9df9",
   "metadata": {},
   "outputs": [
    {
     "data": {
      "text/html": [
       "<div>\n",
       "<style scoped>\n",
       "    .dataframe tbody tr th:only-of-type {\n",
       "        vertical-align: middle;\n",
       "    }\n",
       "\n",
       "    .dataframe tbody tr th {\n",
       "        vertical-align: top;\n",
       "    }\n",
       "\n",
       "    .dataframe thead th {\n",
       "        text-align: right;\n",
       "    }\n",
       "</style>\n",
       "<table border=\"1\" class=\"dataframe\">\n",
       "  <thead>\n",
       "    <tr style=\"text-align: right;\">\n",
       "      <th></th>\n",
       "      <th>full_name</th>\n",
       "      <th>first_name</th>\n",
       "      <th>BUID</th>\n",
       "      <th>email</th>\n",
       "      <th>school</th>\n",
       "      <th>department</th>\n",
       "      <th>prior_matches</th>\n",
       "      <th>current_match</th>\n",
       "      <th>current_group</th>\n",
       "      <th>num_prior_matches</th>\n",
       "      <th>size_prev_match</th>\n",
       "      <th>possible_matches</th>\n",
       "      <th>num_possible_matches</th>\n",
       "    </tr>\n",
       "  </thead>\n",
       "  <tbody>\n",
       "    <tr>\n",
       "      <th>227</th>\n",
       "      <td>William Saunders</td>\n",
       "      <td>Will</td>\n",
       "      <td>90747427</td>\n",
       "      <td>wsaund@bu.edu</td>\n",
       "      <td>Graduate School of Arts and Sciences</td>\n",
       "      <td>Astronomy</td>\n",
       "      <td>[]</td>\n",
       "      <td>[227, 328, 69, 249]</td>\n",
       "      <td>23</td>\n",
       "      <td>0</td>\n",
       "      <td>0</td>\n",
       "      <td>[1, 4, 6, 8, 18, 23, 30, 31, 38, 50, 51, 62, 6...</td>\n",
       "      <td>97</td>\n",
       "    </tr>\n",
       "  </tbody>\n",
       "</table>\n",
       "</div>"
      ],
      "text/plain": [
       "            full_name first_name      BUID          email  \\\n",
       "227  William Saunders       Will  90747427  wsaund@bu.edu   \n",
       "\n",
       "                                   school department prior_matches  \\\n",
       "227  Graduate School of Arts and Sciences  Astronomy            []   \n",
       "\n",
       "           current_match  current_group  num_prior_matches  size_prev_match  \\\n",
       "227  [227, 328, 69, 249]             23                  0                0   \n",
       "\n",
       "                                      possible_matches  num_possible_matches  \n",
       "227  [1, 4, 6, 8, 18, 23, 30, 31, 38, 50, 51, 62, 6...                    97  "
      ]
     },
     "execution_count": 57,
     "metadata": {},
     "output_type": "execute_result"
    }
   ],
   "source": [
    "full_data[full_data['full_name']=='William Saunders']"
   ]
  },
  {
   "cell_type": "code",
   "execution_count": 60,
   "id": "a1a85536",
   "metadata": {},
   "outputs": [
    {
     "data": {
      "text/html": [
       "<div>\n",
       "<style scoped>\n",
       "    .dataframe tbody tr th:only-of-type {\n",
       "        vertical-align: middle;\n",
       "    }\n",
       "\n",
       "    .dataframe tbody tr th {\n",
       "        vertical-align: top;\n",
       "    }\n",
       "\n",
       "    .dataframe thead th {\n",
       "        text-align: right;\n",
       "    }\n",
       "</style>\n",
       "<table border=\"1\" class=\"dataframe\">\n",
       "  <thead>\n",
       "    <tr style=\"text-align: right;\">\n",
       "      <th></th>\n",
       "      <th>full_name</th>\n",
       "      <th>first_name</th>\n",
       "      <th>BUID</th>\n",
       "      <th>email</th>\n",
       "      <th>school</th>\n",
       "      <th>department</th>\n",
       "      <th>round1</th>\n",
       "      <th>group1</th>\n",
       "    </tr>\n",
       "  </thead>\n",
       "  <tbody>\n",
       "    <tr>\n",
       "      <th>227</th>\n",
       "      <td>William Saunders</td>\n",
       "      <td>Will</td>\n",
       "      <td>90747427</td>\n",
       "      <td>wsaund@bu.edu</td>\n",
       "      <td>Graduate School of Arts and Sciences</td>\n",
       "      <td>Astronomy</td>\n",
       "      <td>Yes</td>\n",
       "      <td>23</td>\n",
       "    </tr>\n",
       "  </tbody>\n",
       "</table>\n",
       "</div>"
      ],
      "text/plain": [
       "            full_name first_name      BUID          email  \\\n",
       "227  William Saunders       Will  90747427  wsaund@bu.edu   \n",
       "\n",
       "                                   school department round1  group1  \n",
       "227  Graduate School of Arts and Sciences  Astronomy    Yes      23  "
      ]
     },
     "execution_count": 60,
     "metadata": {},
     "output_type": "execute_result"
    }
   ],
   "source": [
    "hr_data[hr_data['full_name']=='William Saunders']"
   ]
  },
  {
   "cell_type": "code",
   "execution_count": 61,
   "id": "992ede1f",
   "metadata": {},
   "outputs": [
    {
     "data": {
      "text/html": [
       "<div>\n",
       "<style scoped>\n",
       "    .dataframe tbody tr th:only-of-type {\n",
       "        vertical-align: middle;\n",
       "    }\n",
       "\n",
       "    .dataframe tbody tr th {\n",
       "        vertical-align: top;\n",
       "    }\n",
       "\n",
       "    .dataframe thead th {\n",
       "        text-align: right;\n",
       "    }\n",
       "</style>\n",
       "<table border=\"1\" class=\"dataframe\">\n",
       "  <thead>\n",
       "    <tr style=\"text-align: right;\">\n",
       "      <th></th>\n",
       "      <th>full_name</th>\n",
       "      <th>first_name</th>\n",
       "      <th>BUID</th>\n",
       "      <th>email</th>\n",
       "      <th>school</th>\n",
       "      <th>department</th>\n",
       "      <th>round1</th>\n",
       "      <th>group1</th>\n",
       "    </tr>\n",
       "  </thead>\n",
       "  <tbody>\n",
       "    <tr>\n",
       "      <th>227</th>\n",
       "      <td>William Saunders</td>\n",
       "      <td>Will</td>\n",
       "      <td>90747427</td>\n",
       "      <td>wsaund@bu.edu</td>\n",
       "      <td>Graduate School of Arts and Sciences</td>\n",
       "      <td>Astronomy</td>\n",
       "      <td>Yes</td>\n",
       "      <td>23.0</td>\n",
       "    </tr>\n",
       "  </tbody>\n",
       "</table>\n",
       "</div>"
      ],
      "text/plain": [
       "            full_name first_name      BUID          email  \\\n",
       "227  William Saunders       Will  90747427  wsaund@bu.edu   \n",
       "\n",
       "                                   school department round1  group1  \n",
       "227  Graduate School of Arts and Sciences  Astronomy    Yes    23.0  "
      ]
     },
     "execution_count": 61,
     "metadata": {},
     "output_type": "execute_result"
    }
   ],
   "source": [
    "hr_full_data[hr_full_data['full_name']=='William Saunders']"
   ]
  },
  {
   "cell_type": "code",
   "execution_count": null,
   "id": "e4b2d481",
   "metadata": {},
   "outputs": [],
   "source": []
  },
  {
   "cell_type": "code",
   "execution_count": null,
   "id": "e103fd4d",
   "metadata": {},
   "outputs": [],
   "source": []
  },
  {
   "cell_type": "code",
   "execution_count": null,
   "id": "5ebb55ac",
   "metadata": {},
   "outputs": [],
   "source": []
  },
  {
   "cell_type": "code",
   "execution_count": null,
   "id": "f9b4a4ee",
   "metadata": {},
   "outputs": [],
   "source": []
  },
  {
   "cell_type": "code",
   "execution_count": null,
   "id": "172da729",
   "metadata": {},
   "outputs": [],
   "source": []
  },
  {
   "cell_type": "markdown",
   "id": "4e0c9889",
   "metadata": {},
   "source": [
    "# Recycling bin"
   ]
  },
  {
   "cell_type": "raw",
   "id": "bb46c8ba",
   "metadata": {},
   "source": [
    "hr_full_data = pd.read_excel('Spring2023_program/stresstest/round_2_participants.xlsx', index_col=0)\n",
    "hr_full_data['email'] = hr_full_data['email'].str.lower()\n",
    "hr_full_data['email'] = hr_full_data['email'].str.strip()"
   ]
  },
  {
   "cell_type": "raw",
   "id": "fc4f371d",
   "metadata": {},
   "source": [
    "tmp = pd.read_excel('Spring2023_program/stresstest/round_1_data.xlsx', index_col=0)\n",
    "tmp['prior_matches'] = [convert_cell(row['prior_matches']) for index, row in tmp.iterrows()]\n",
    "tmp['current_match'] = [convert_cell(row['current_match']) for index, row in tmp.iterrows()]\n",
    "tmp['possible_matches'] = [convert_cell(row['possible_matches']) for index, row in tmp.iterrows()]\n",
    "data = tmp[hr_full_data['round2']=='Yes'].copy()\n",
    "data['email'] = data['email'].str.lower()\n",
    "data['email'] = data['email'].str.strip()\n",
    "full_data = tmp.copy()\n",
    "full_data['email'] = full_data['email'].str.lower()\n",
    "full_data['email'] = full_data['email'].str.strip()"
   ]
  },
  {
   "cell_type": "raw",
   "id": "8f78df8f",
   "metadata": {},
   "source": [
    "# create new empty rows in the data file for new participants\n",
    "a = pd.merge(hr_full_data, full_data, left_index=True, right_index=True, how='outer')\n",
    "a = a[a.columns[[0, 1, 2, 3, 4, 5, 15, 16, 17, 18, 19, 20, 21]]]\n",
    "a.columns=full_data.columns\n",
    "a['prior_matches'] = a['prior_matches'].apply(lambda d: d if isinstance(d, list) else [])\n",
    "a['current_match'] = a['current_match'].apply(lambda d: d if isinstance(d, list) else [])\n",
    "a['current_group'].fillna(-1, inplace=True)\n",
    "a['num_prior_matches'].fillna(0, inplace=True)\n",
    "a['size_prev_match'].fillna(0, inplace=True)\n",
    "a['possible_matches'] = a['possible_matches'].apply(lambda d: d if isinstance(d, list) else [])\n",
    "a['num_possible_matches'].fillna(-1, inplace=True)\n",
    "full_data = a.copy()"
   ]
  },
  {
   "cell_type": "raw",
   "id": "2ee07575",
   "metadata": {},
   "source": [
    "# OFFICIAL PROGRAM filelist\n",
    "Fall2022_program/round_1_export.xlsx\n",
    "Fall2022_program/round_1_match.xlsx\n",
    "Fall2022_program/round_1_data.xlsx\n",
    "\n",
    "Fall2022_program/round_1_data-ready-for-round-2.xlsx\n",
    "Fall2022_program/round_2_export.xlsx\n",
    "\n",
    "Fall2022_program/round_2_data.xlsx\n",
    "Fall2022_program/round_2_match.xlsx\n",
    "\n",
    "Fall2022_program/round_2_data-ready-for-round-3.xlsx\n",
    "Fall2022_program/round_3_export.xlsx\n",
    "\n",
    "Fall2022_program/round_3_data.xlsx\n",
    "Fall2022_program/round_3_match.xlsx\n",
    "\n",
    "Fall2022_program/round_3_data-ready-for-round-4.xlsx\n",
    "Fall2022_program/round_4_export.xlsx\n",
    "\n",
    "Fall2022_program/round_4_data.xlsx\n",
    "Fall2022_program/round_4_match.xlsx\n"
   ]
  },
  {
   "cell_type": "raw",
   "id": "e9322bbb",
   "metadata": {},
   "source": [
    "np.count_nonzero([len(o)==3 for o in data['current_match'].to_numpy()])"
   ]
  },
  {
   "cell_type": "raw",
   "id": "e98347f3",
   "metadata": {},
   "source": [
    "n = 58"
   ]
  },
  {
   "cell_type": "raw",
   "id": "415d072a",
   "metadata": {},
   "source": [
    "number3groups = n // 3\n",
    "number4groups = n - (number3groups * 3)\n",
    "number3groups = n // 3 - number4groups\n",
    "print('3:', number3groups, '\\n4:', number4groups)\n",
    "print('this number should be 0:', n - (number3groups*3 + number4groups*4))"
   ]
  },
  {
   "cell_type": "raw",
   "id": "65cbc0e2",
   "metadata": {},
   "source": [
    "nn = n\n",
    "number3groups = 0\n",
    "while (nn / 4 - np.floor(nn / 4)) != 0:\n",
    "    nn -= 3\n",
    "    number3groups += 1\n",
    "number4groups = nn // 4\n",
    "print('3:', number3groups, '\\n4:', number4groups)\n",
    "print('this number should be 0:', n - (number3groups*3 + number4groups*4))"
   ]
  },
  {
   "cell_type": "raw",
   "id": "f358b8a4",
   "metadata": {},
   "source": [
    "nn = n\n",
    "number4groups = 0\n",
    "while (nn / 5 - np.floor(nn / 5)) != 0:\n",
    "    nn -= 4\n",
    "    number4groups += 1\n",
    "number5groups = nn // 5\n",
    "print('4:', number4groups, '\\n5:', number5groups)\n",
    "print('this number should be 0:', n - (number4groups*4 + number5groups*5))"
   ]
  }
 ],
 "metadata": {
  "kernelspec": {
   "display_name": "Python 3 (ipykernel)",
   "language": "python",
   "name": "python3"
  },
  "language_info": {
   "codemirror_mode": {
    "name": "ipython",
    "version": 3
   },
   "file_extension": ".py",
   "mimetype": "text/x-python",
   "name": "python",
   "nbconvert_exporter": "python",
   "pygments_lexer": "ipython3",
   "version": "3.9.16"
  }
 },
 "nbformat": 4,
 "nbformat_minor": 5
}
