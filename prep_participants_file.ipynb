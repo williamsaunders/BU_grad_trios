{
 "cells": [
  {
   "cell_type": "markdown",
   "id": "26fa5064",
   "metadata": {},
   "source": [
    "This program takes in: \n",
    "1) a list of opted-in emails  \n",
    "2) the participants file from the previous round  \n",
    "3) the master list of participants\n",
    "\n",
    "and returns \n",
    "1) the participants file for the upcoming round  "
   ]
  },
  {
   "cell_type": "code",
   "execution_count": 1,
   "id": "c5ff3cc8",
   "metadata": {},
   "outputs": [
    {
     "data": {
      "text/html": [
       "<style>.container { width:95% !important; }</style>"
      ],
      "text/plain": [
       "<IPython.core.display.HTML object>"
      ]
     },
     "metadata": {},
     "output_type": "display_data"
    }
   ],
   "source": [
    "from IPython.display import display, HTML\n",
    "display(HTML(\"<style>.container { width:95% !important; }</style>\"))\n",
    "\n",
    "from matplotlib_inline import backend_inline\n",
    "backend_inline.set_matplotlib_formats('retina')"
   ]
  },
  {
   "cell_type": "code",
   "execution_count": 2,
   "id": "dee59fba",
   "metadata": {},
   "outputs": [],
   "source": [
    "import numpy as np\n",
    "import pandas as pd\n",
    "pd.set_option('display.max_rows', None)\n",
    "import ipywidgets as widgets\n",
    "from IPython.display import display, clear_output\n",
    "from ipywidgets import HBox, VBox\n",
    "from IPython.display import HTML\n",
    "import base64\n",
    "import time"
   ]
  },
  {
   "cell_type": "code",
   "execution_count": 3,
   "id": "73675222",
   "metadata": {},
   "outputs": [],
   "source": [
    "style = {'description_width': 'auto'}\n",
    "\n",
    "master_widget = widgets.Text(\n",
    "    description='Master file:', \n",
    "    disabled=False, \n",
    "    style=style)\n",
    "\n",
    "file_widget = widgets.Text(\n",
    "    description='Participants file:', \n",
    "    disabled=False, \n",
    "    style=style)\n",
    "\n",
    "optin_widget = widgets.Text(\n",
    "    description='Opt-in file:', \n",
    "    disabled=False, \n",
    "    style=style)\n",
    "\n",
    "datafile_widget = widgets.Text(\n",
    "    description='Data file:', \n",
    "    disabled=False, \n",
    "    style=style)\n",
    "\n",
    "round_widget = widgets.Dropdown(\n",
    "    options=np.arange(1, 10),\n",
    "    description='Matching round:', \n",
    "    disabled=False, \n",
    "    style=style)\n",
    "\n",
    "import_button = widgets.Button(description='Import', style=style)\n",
    "sync_button = widgets.Button(description='Sync', style=style)\n",
    "download_data_button = widgets.Button(description='Download Data', style=style)\n",
    "\n",
    "def display_widget():\n",
    "    display(round_widget), \\\n",
    "    display(master_widget), \\\n",
    "    display(file_widget), \\\n",
    "    display(optin_widget), \\\n",
    "    display(import_button), \\\n",
    "    display(sync_button), \\\n",
    "    display(download_data_button)"
   ]
  },
  {
   "cell_type": "code",
   "execution_count": 4,
   "id": "0b48cafc",
   "metadata": {},
   "outputs": [],
   "source": [
    "def event_import(button):\n",
    "    global master_data, participants_data, optin\n",
    "    # imports the participants data and opt-in email list\n",
    "    clear_output()\n",
    "    display_widget()\n",
    "        \n",
    "    master_data = pd.read_excel(master_widget.value, index_col=0)\n",
    "    participants_data = pd.read_excel(file_widget.value, index_col=0)\n",
    "    optin = pd.read_excel(optin_widget.value, names=['email'])\n",
    "    \n",
    "    # make lowercase and remove spaces\n",
    "    master_data['email'] = master_data['email'].str.lower()\n",
    "    master_data['email'] = master_data['email'].str.strip()\n",
    "    participants_data['email'] = participants_data['email'].str.lower()\n",
    "    participants_data['email'] = participants_data['email'].str.strip()\n",
    "    optin['email'] = optin['email'].str.lower()\n",
    "    optin['email'] = optin['email'].str.strip()\n",
    "    \n",
    "    print('Imported')"
   ]
  },
  {
   "cell_type": "code",
   "execution_count": 5,
   "id": "29cbf587",
   "metadata": {},
   "outputs": [],
   "source": [
    "def event_sync(button):\n",
    "    # match up the two datasets \n",
    "    global master_data, participants_data, optin\n",
    "    clear_output()\n",
    "    display_widget()\n",
    "    \n",
    "    # populate the participants list with recent additions to the master list\n",
    "    participants_data = pd.merge(master_data, participants_data, how='outer')\n",
    "    \n",
    "    # check if the length of the intersection between the two lists is the same as the length of optin\n",
    "    # if it isn't, then that means there is an error\n",
    "    if np.count_nonzero(np.in1d(participants_data['email'].to_numpy(), optin['email'].to_numpy())) != \\\n",
    "                len(optin):\n",
    "        if np.count_nonzero(np.in1d(participants_data['email'].to_numpy(), optin['email'].to_numpy())) < \\\n",
    "            len(optin):\n",
    "            print('Lengths don\\'t match, likely an opt-in participant didn\\'t fill out the intake form')\n",
    "            print('Fix the participants / opt-in lists and start again')\n",
    "    \n",
    "        elif np.count_nonzero(np.in1d(participants_data['email'].to_numpy(), optin['email'].to_numpy())) > \\\n",
    "            len(optin):\n",
    "            print('Lengths don\\'t match, likely there is a duplicate in the intake form')\n",
    "            print('Fix the participants / opt-in lists and start again')\n",
    "    \n",
    "    else:\n",
    "        print('Lengths match, good, proceeding')\n",
    "        time.sleep(2)\n",
    "        # populate the current round opt-in column from the opt-in list\n",
    "        participants_data['round'+str(round_widget.value)] = np.zeros(len(participants_data))\n",
    "        for i, answer in enumerate(np.in1d(participants_data['email'].to_numpy(), \\\n",
    "                                           optin['email'].to_numpy())):\n",
    "            if answer:\n",
    "                participants_data.loc[i, 'round'+str(round_widget.value)] = 'Yes'\n",
    "            else:\n",
    "                participants_data.loc[i, 'round'+str(round_widget.value)] = 'No'\n",
    "        \n",
    "        # replace field that's entirely space (or empty) with 'No'\n",
    "        participants_data.replace(r'^\\s*$', 'No', regex=True)\n",
    "                    \n",
    "        if np.any(participants_data['round'+str(round_widget.value)]) == 0:\n",
    "            # make sure they were each given 'Yes' or 'No'\n",
    "            print('ERROR')\n",
    "        else:\n",
    "            print('All done')"
   ]
  },
  {
   "cell_type": "code",
   "execution_count": 6,
   "id": "886b5a0d",
   "metadata": {},
   "outputs": [],
   "source": [
    "def create_download_link(df, title=\"Download CSV file\", filename=\"data.csv\"): \n",
    "    # turns the pandas DataFrame into a csv to download\n",
    "    csv = df.to_csv(index=True)\n",
    "    b64 = base64.b64encode(csv.encode())\n",
    "    payload = b64.decode()\n",
    "    html = '<a download=\"{filename}\" href=\"data:text/csv;base64,{payload}\" target=\"_blank\">{title}</a>'\n",
    "    html = html.format(payload=payload,title=title,filename=filename)\n",
    "    display(HTML(html))\n",
    "    \n",
    "def event_download_data(button):\n",
    "    # button to download the participants data\n",
    "    global master_data, participants_data, optin\n",
    "    clear_output()\n",
    "    display_widget()\n",
    "    return create_download_link(participants_data, \\\n",
    "                                title=\"download round %i participants\"%round_widget.value, \\\n",
    "                                filename=\"round_%i_participants.csv\"%round_widget.value)"
   ]
  },
  {
   "cell_type": "code",
   "execution_count": 7,
   "id": "3c9fb8e1",
   "metadata": {},
   "outputs": [],
   "source": [
    "# connecting the jupyter buttons to the actions for each button \n",
    "import_button.on_click(event_import)\n",
    "sync_button.on_click(event_sync)\n",
    "download_data_button.on_click(event_download_data)"
   ]
  },
  {
   "cell_type": "raw",
   "id": "89995162",
   "metadata": {},
   "source": [
    "Participants: Spring2023_program/round_1_master.xlsx\n",
    "Master: Spring2023_program/round_1_master.xlsx\n",
    "optin: Spring2023_program/round_1_optin.xlsx\n",
    "\n",
    "Participants: Spring2023_program/round_1_match.xlsx\n",
    "Master: Spring2023_program/round_2_master.xlsx\n",
    "optin: Spring2023_program/round_2_optin.xlsx\n",
    "\n",
    "Participants: Spring2023_program/round_2_match.xlsx\n",
    "Master: Spring2023_program/round_3_master.xlsx\n",
    "optin: Spring2023_program/round_3_optin.xlsx\n",
    "\n",
    "Participants: Spring2023_program/round_3_match.xlsx\n",
    "Master: Spring2023_program/round_4_master.xlsx\n",
    "optin: Spring2023_program/round_4_optin.xlsx"
   ]
  },
  {
   "cell_type": "code",
   "execution_count": 8,
   "id": "eae16b48",
   "metadata": {},
   "outputs": [
    {
     "data": {
      "application/vnd.jupyter.widget-view+json": {
       "model_id": "3a90b662c143449b86e5e221b589bf08",
       "version_major": 2,
       "version_minor": 0
      },
      "text/plain": [
       "Dropdown(description='Matching round:', index=3, options=(1, 2, 3, 4, 5, 6, 7, 8, 9), style=DescriptionStyle(d…"
      ]
     },
     "metadata": {},
     "output_type": "display_data"
    },
    {
     "data": {
      "application/vnd.jupyter.widget-view+json": {
       "model_id": "f07f9efa02764f189d10434e64ce4439",
       "version_major": 2,
       "version_minor": 0
      },
      "text/plain": [
       "Text(value='Spring2023_program/round_4_master.xlsx', description='Master file:', style=TextStyle(description_w…"
      ]
     },
     "metadata": {},
     "output_type": "display_data"
    },
    {
     "data": {
      "application/vnd.jupyter.widget-view+json": {
       "model_id": "0f2680bcefc44284a021250142279a82",
       "version_major": 2,
       "version_minor": 0
      },
      "text/plain": [
       "Text(value='Spring2023_program/round_3_match.xlsx', description='Participants file:', style=TextStyle(descript…"
      ]
     },
     "metadata": {},
     "output_type": "display_data"
    },
    {
     "data": {
      "application/vnd.jupyter.widget-view+json": {
       "model_id": "34c492e441504e1d8feba32304cd1800",
       "version_major": 2,
       "version_minor": 0
      },
      "text/plain": [
       "Text(value='Spring2023_program/round_4_optin.xlsx', description='Opt-in file:', style=TextStyle(description_wi…"
      ]
     },
     "metadata": {},
     "output_type": "display_data"
    },
    {
     "data": {
      "application/vnd.jupyter.widget-view+json": {
       "model_id": "0a3721f18ab0409faf4412ceb851ce68",
       "version_major": 2,
       "version_minor": 0
      },
      "text/plain": [
       "Button(description='Import', style=ButtonStyle())"
      ]
     },
     "metadata": {},
     "output_type": "display_data"
    },
    {
     "data": {
      "application/vnd.jupyter.widget-view+json": {
       "model_id": "8d3cebf65f764f8ebab0a27f3aabd243",
       "version_major": 2,
       "version_minor": 0
      },
      "text/plain": [
       "Button(description='Sync', style=ButtonStyle())"
      ]
     },
     "metadata": {},
     "output_type": "display_data"
    },
    {
     "data": {
      "application/vnd.jupyter.widget-view+json": {
       "model_id": "a32c693a14184600890781847e5bc075",
       "version_major": 2,
       "version_minor": 0
      },
      "text/plain": [
       "Button(description='Download Data', style=ButtonStyle())"
      ]
     },
     "metadata": {},
     "output_type": "display_data"
    },
    {
     "name": "stdout",
     "output_type": "stream",
     "text": [
      "Lengths match, good, proceeding\n"
     ]
    }
   ],
   "source": [
    "clear_output()\n",
    "display_widget()"
   ]
  },
  {
   "cell_type": "code",
   "execution_count": null,
   "id": "9d844e72",
   "metadata": {},
   "outputs": [],
   "source": []
  }
 ],
 "metadata": {
  "kernelspec": {
   "display_name": "Python 3 (ipykernel)",
   "language": "python",
   "name": "python3"
  },
  "language_info": {
   "codemirror_mode": {
    "name": "ipython",
    "version": 3
   },
   "file_extension": ".py",
   "mimetype": "text/x-python",
   "name": "python",
   "nbconvert_exporter": "python",
   "pygments_lexer": "ipython3",
   "version": "3.9.16"
  }
 },
 "nbformat": 4,
 "nbformat_minor": 5
}
