{
 "cells": [
  {
   "cell_type": "markdown",
   "id": "ae980dc9",
   "metadata": {},
   "source": [
    "Some notes on how this works:\n",
    "- The user who is set up as the developer always is in every group. So we need a BU Meetup phone number and GroupMe account. \n",
    "- You can use either emails or phone numbers. \n",
    "- If the recipient doesn't have a GroupMe account, he/she can just respond via SMS. "
   ]
  },
  {
   "cell_type": "code",
   "execution_count": 20,
   "id": "a983c080",
   "metadata": {},
   "outputs": [
    {
     "data": {
      "text/html": [
       "<style>.container { width:95% !important; }</style>"
      ],
      "text/plain": [
       "<IPython.core.display.HTML object>"
      ]
     },
     "metadata": {},
     "output_type": "display_data"
    }
   ],
   "source": [
    "from IPython.display import display, HTML\n",
    "display(HTML(\"<style>.container { width:95% !important; }</style>\"))\n",
    "\n",
    "from matplotlib_inline import backend_inline\n",
    "backend_inline.set_matplotlib_formats('retina')"
   ]
  },
  {
   "cell_type": "code",
   "execution_count": 21,
   "id": "89421263",
   "metadata": {},
   "outputs": [],
   "source": [
    "import numpy as np\n",
    "import matplotlib\n",
    "#matplotlib.use('Agg')\n",
    "import matplotlib.pyplot as plt\n",
    "import pandas as pd\n",
    "import matplotlib\n",
    "import pdb\n",
    "import requests\n",
    "plt.style.use('~/Desktop/saunders.mplstyle')\n",
    "\n",
    "import CE97 as ce\n",
    "\n",
    "def find_nearest(array, value):\n",
    "    array = np.asarray(array)\n",
    "    idx = (np.abs(array - value)).argmin()\n",
    "    return idx"
   ]
  },
  {
   "cell_type": "code",
   "execution_count": 22,
   "id": "8efe193a",
   "metadata": {},
   "outputs": [],
   "source": [
    "# GroupMe API endpoint for creating a group\n",
    "CREATE_GROUP_URL = 'https://api.groupme.com/v3/groups'\n",
    "\n",
    "# Your GroupMe access token\n",
    "ACCESS_TOKEN = 'geYTLbuxH8PsWSGs5U1VCOYpiYDADQusOUGav635'\n",
    "\n",
    "# GroupMe API endpoint for adding members to a group\n",
    "ADD_MEMBERS_URL = 'https://api.groupme.com/v3/groups/{group_id}/members/add'\n",
    "\n",
    "def create_group(group_name, members):\n",
    "    global payload, headers, response, group_id\n",
    "    # Create a payload with group name and members\n",
    "    payload = {\"name\": group_name}\n",
    "    response = requests.post(CREATE_GROUP_URL, json=payload, params={'token': ACCESS_TOKEN})\n",
    "    \n",
    "    # Check if request was successful\n",
    "    if response.status_code == 201:\n",
    "        group_id = response.json()['response']['id']\n",
    "        print(f\"Group '{group_name}' created successfully with ID: {group_id}\")\n",
    "        \n",
    "        # add members to the group\n",
    "        payload['id'] = group_id\n",
    "        payload[\"members\"] = []\n",
    "        for i in range(len(members[\"nicknames\"])):\n",
    "            payload[\"members\"].append({\"nickname\" : members[\"nicknames\"][i],\n",
    "                                       \"phone_number\" : members[\"phone_numbers\"][i],\n",
    "                                       'email' : members['email'][i]})\n",
    "        # Send POST request to add members to the group\n",
    "        response = requests.post(ADD_MEMBERS_URL.format(group_id=group_id), json=payload, params={'token': ACCESS_TOKEN})\n",
    "        \n",
    "        # Check if request was successful\n",
    "        if response.status_code == 202:\n",
    "            print(f\"Members added successfully to group with ID: {group_id}\")\n",
    "            return group_id\n",
    "        else:\n",
    "            print(\"Failed to add members to group. Error:\", response.json()['meta']['errors'])\n",
    "        \n",
    "        \n",
    "    else:\n",
    "        print(\"Failed to create group. Error:\", response.json()['meta']['errors'])\n",
    "        return None\n",
    "    \n",
    "    \n"
   ]
  },
  {
   "cell_type": "code",
   "execution_count": 23,
   "id": "ce9dd87c",
   "metadata": {},
   "outputs": [
    {
     "name": "stdout",
     "output_type": "stream",
     "text": [
      "Group 'Test Group 22' created successfully with ID: 103290098\n",
      "Members added successfully to group with ID: 103290098\n"
     ]
    }
   ],
   "source": [
    "group_name = 'Test Group 22'\n",
    "members = {'nicknames' : ['Will', 'Test'],\n",
    "           'phone_numbers' : ['+1 9144839676','+1 9142661828'],\n",
    "           'email' : ['william.saunders01@gmail.com', 'william.saunders01@gmail.com']}\n",
    "group_id = create_group(group_name, members)"
   ]
  },
  {
   "cell_type": "code",
   "execution_count": 46,
   "id": "3b3a8c16",
   "metadata": {},
   "outputs": [],
   "source": [
    "def send_message_to_group(group_id, message_text):\n",
    "    message_url = 'https://api.groupme.com/v3/groups/{group_id}/messages'\n",
    "    payload = {\n",
    "        \"message\": {\n",
    "            \"text\": message_text\n",
    "        }\n",
    "    }\n",
    "    response = requests.post(message_url.format(group_id=group_id), json=payload, params={'token': ACCESS_TOKEN})\n",
    "    print(response.status_code)\n",
    "    if (response.status_code == 201) or (response.status_code == 202):\n",
    "        print(\"Message sent successfully!\")\n",
    "    else:\n",
    "        print(\"Failed to send message.\")\n",
    "        print(response.json())"
   ]
  },
  {
   "cell_type": "code",
   "execution_count": 47,
   "id": "723eb5ee",
   "metadata": {},
   "outputs": [],
   "source": [
    "group_initial_message = 'Testing message, hello!'"
   ]
  },
  {
   "cell_type": "code",
   "execution_count": 48,
   "id": "5484b175",
   "metadata": {
    "scrolled": false
   },
   "outputs": [
    {
     "name": "stdout",
     "output_type": "stream",
     "text": [
      "201\n",
      "Message sent successfully!\n"
     ]
    }
   ],
   "source": [
    "send_message_to_group(group_id, group_initial_message)"
   ]
  },
  {
   "cell_type": "code",
   "execution_count": null,
   "id": "c1779948",
   "metadata": {},
   "outputs": [],
   "source": []
  },
  {
   "cell_type": "code",
   "execution_count": null,
   "id": "b42f7b4c",
   "metadata": {},
   "outputs": [],
   "source": []
  },
  {
   "cell_type": "code",
   "execution_count": null,
   "id": "bbdad831",
   "metadata": {},
   "outputs": [],
   "source": []
  },
  {
   "cell_type": "code",
   "execution_count": null,
   "id": "84974027",
   "metadata": {},
   "outputs": [],
   "source": []
  },
  {
   "cell_type": "markdown",
   "id": "18c81d30",
   "metadata": {},
   "source": [
    "Attempt at direct messaging: "
   ]
  },
  {
   "cell_type": "code",
   "execution_count": 14,
   "id": "1f51a306",
   "metadata": {},
   "outputs": [],
   "source": [
    "# GroupMe API endpoint for creating a group\n",
    "CREATE_GROUP_URL = 'https://api.groupme.com/v3/groups'\n",
    "\n",
    "# Your GroupMe access token\n",
    "ACCESS_TOKEN = 'geYTLbuxH8PsWSGs5U1VCOYpiYDADQusOUGav635'\n",
    "\n",
    "# GroupMe API endpoint for adding members to a group\n",
    "ADD_MEMBERS_URL = 'https://api.groupme.com/v3/groups/{group_id}/members/add'\n",
    "\n",
    "def create_direct(members):\n",
    "    global payload, headers, response, group_id\n",
    "    # Create a payload with group name and members\n",
    "    payload = {}\n",
    "    payload['direct_messages'] = [{'id' : members['phone_numbers'][1], \n",
    "                                   'text' : 'test'}]\n",
    "    response = requests.post(CREATE_GROUP_URL, json=payload, params={'token': ACCESS_TOKEN})"
   ]
  },
  {
   "cell_type": "code",
   "execution_count": 15,
   "id": "b4dd8b42",
   "metadata": {},
   "outputs": [],
   "source": [
    "members = {'nicknames' : ['Will', 'Eric', 'Test'],\n",
    "           'phone_numbers' : ['+1 9144839676', '+1 2035460558', '+1 9142661828'],\n",
    "           'email' : ['william.saunders01@gmail.com', 'ericwellers@gmail.com']}\n",
    "create_direct(members)"
   ]
  }
 ],
 "metadata": {
  "kernelspec": {
   "display_name": "Python 3 (ipykernel)",
   "language": "python",
   "name": "python3"
  },
  "language_info": {
   "codemirror_mode": {
    "name": "ipython",
    "version": 3
   },
   "file_extension": ".py",
   "mimetype": "text/x-python",
   "name": "python",
   "nbconvert_exporter": "python",
   "pygments_lexer": "ipython3",
   "version": "3.12.4"
  }
 },
 "nbformat": 4,
 "nbformat_minor": 5
}
