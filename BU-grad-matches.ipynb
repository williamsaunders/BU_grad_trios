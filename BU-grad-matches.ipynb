{
 "cells": [
  {
   "cell_type": "code",
   "execution_count": 1,
   "id": "7e34473b",
   "metadata": {
    "scrolled": true
   },
   "outputs": [
    {
     "data": {
      "text/html": [
       "<style>.container { width:95% !important; }</style>"
      ],
      "text/plain": [
       "<IPython.core.display.HTML object>"
      ]
     },
     "metadata": {},
     "output_type": "display_data"
    }
   ],
   "source": [
    "from functions import *"
   ]
  },
  {
   "cell_type": "code",
   "execution_count": 2,
   "id": "7052a436",
   "metadata": {},
   "outputs": [
    {
     "data": {
      "application/vnd.jupyter.widget-view+json": {
       "model_id": "5e236aacd17d411abb0d5fdfb020145e",
       "version_major": 2,
       "version_minor": 0
      },
      "text/plain": [
       "Text(value='example5.xlsx', description='Participants file:', style=DescriptionStyle(description_width='initia…"
      ]
     },
     "metadata": {},
     "output_type": "display_data"
    },
    {
     "data": {
      "application/vnd.jupyter.widget-view+json": {
       "model_id": "0cab92941f8b46c48b47af225c9ea895",
       "version_major": 2,
       "version_minor": 0
      },
      "text/plain": [
       "Button(description='Import', style=ButtonStyle())"
      ]
     },
     "metadata": {},
     "output_type": "display_data"
    },
    {
     "data": {
      "application/vnd.jupyter.widget-view+json": {
       "model_id": "50064cd740f74f5fb8e7c1e74e92609c",
       "version_major": 2,
       "version_minor": 0
      },
      "text/plain": [
       "Dropdown(description='Matching round:', options=(1, 2, 3, 4, 5, 6, 7, 8, 9), style=DescriptionStyle(descriptio…"
      ]
     },
     "metadata": {},
     "output_type": "display_data"
    },
    {
     "data": {
      "application/vnd.jupyter.widget-view+json": {
       "model_id": "181b832c797a4abe9630b29f3c322835",
       "version_major": 2,
       "version_minor": 0
      },
      "text/plain": [
       "Button(description='Create Match', style=ButtonStyle())"
      ]
     },
     "metadata": {},
     "output_type": "display_data"
    },
    {
     "data": {
      "application/vnd.jupyter.widget-view+json": {
       "model_id": "3bfa187d1545450a9d3613cbe210f8a6",
       "version_major": 2,
       "version_minor": 0
      },
      "text/plain": [
       "Button(description='Download Match', style=ButtonStyle())"
      ]
     },
     "metadata": {},
     "output_type": "display_data"
    },
    {
     "data": {
      "application/vnd.jupyter.widget-view+json": {
       "model_id": "a20d256a71ff4002b4f35912b74086dd",
       "version_major": 2,
       "version_minor": 0
      },
      "text/plain": [
       "Button(description='Complete Match', style=ButtonStyle())"
      ]
     },
     "metadata": {},
     "output_type": "display_data"
    },
    {
     "data": {
      "application/vnd.jupyter.widget-view+json": {
       "model_id": "f4feb57ae2714f78852bda9ebe3c0406",
       "version_major": 2,
       "version_minor": 0
      },
      "text/plain": [
       "Button(description='Download Data', style=ButtonStyle())"
      ]
     },
     "metadata": {},
     "output_type": "display_data"
    },
    {
     "data": {
      "text/html": [
       "<a download=\"round_1_match.csv\" href=\"data:text/csv;base64,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\" target=\"_blank\">download round 1 match</a>"
      ],
      "text/plain": [
       "<IPython.core.display.HTML object>"
      ]
     },
     "metadata": {},
     "output_type": "display_data"
    }
   ],
   "source": [
    "clear_output()\n",
    "display_widget()"
   ]
  },
  {
   "cell_type": "raw",
   "id": "296810c7",
   "metadata": {
    "scrolled": false
   },
   "source": [
    "data.sort_values(['size_prev_match', 'num_possible_matches', 'randint'])"
   ]
  },
  {
   "cell_type": "markdown",
   "id": "d855a236",
   "metadata": {},
   "source": [
    "Things to improve:\n",
    "    - Test what happens when I add someone or remove something\n",
    "    - Handle it if there's a failure in the matching --> create a flag column for failed pairings or perhaps just throw them into a large group\n",
    "    - Integrate with and send emails\n",
    "    - Handle storing the data between pairing rounds"
   ]
  },
  {
   "cell_type": "raw",
   "id": "763b4291",
   "metadata": {},
   "source": [
    "#FILE\n",
    "filename = \"round_%i_match.csv\"%round_widget.value\n",
    "csv = match_file.to_csv()\n",
    "b64 = base64.b64encode(csv.encode())\n",
    "payload = b64.decode()\n",
    "\n",
    "#BUTTONS\n",
    "html_buttons = '''<html>\n",
    "<head>\n",
    "<meta name=\"viewport\" content=\"width=device-width, initial-scale=1\">\n",
    "</head>\n",
    "<body>\n",
    "<a download=\"{filename}\" href=\"data:text/csv;base64,{payload}\" download>\n",
    "<button class=\"p-Widget jupyter-widgets jupyter-button widget-button mod-warning\">Download File</button>\n",
    "</a>\n",
    "</body>\n",
    "</html>\n",
    "'''\n",
    "\n",
    "html_button = html_buttons.format(payload=payload, filename=filename)\n",
    "display(HTML(html_button))"
   ]
  }
 ],
 "metadata": {
  "kernelspec": {
   "display_name": "Python 3 (ipykernel)",
   "language": "python",
   "name": "python3"
  },
  "language_info": {
   "codemirror_mode": {
    "name": "ipython",
    "version": 3
   },
   "file_extension": ".py",
   "mimetype": "text/x-python",
   "name": "python",
   "nbconvert_exporter": "python",
   "pygments_lexer": "ipython3",
   "version": "3.7.11"
  }
 },
 "nbformat": 4,
 "nbformat_minor": 5
}
