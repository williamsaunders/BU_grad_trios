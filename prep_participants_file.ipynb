{
 "cells": [
  {
   "cell_type": "markdown",
   "id": "26fa5064",
   "metadata": {},
   "source": [
    "This program takes in: \n",
    "1) a list of opted-in emails  \n",
    "2) the participants file from the previous round  \n",
    "3) the master list of participants\n",
    "\n",
    "and returns \n",
    "1) the participants file for the upcoming round  "
   ]
  },
  {
   "cell_type": "code",
   "execution_count": 1,
   "id": "c5ff3cc8",
   "metadata": {},
   "outputs": [
    {
     "data": {
      "text/html": [
       "<style>.container { width:95% !important; }</style>"
      ],
      "text/plain": [
       "<IPython.core.display.HTML object>"
      ]
     },
     "metadata": {},
     "output_type": "display_data"
    }
   ],
   "source": [
    "from IPython.display import display, HTML\n",
    "display(HTML(\"<style>.container { width:95% !important; }</style>\"))\n",
    "\n",
    "from matplotlib_inline import backend_inline\n",
    "backend_inline.set_matplotlib_formats('retina')"
   ]
  },
  {
   "cell_type": "code",
   "execution_count": 2,
   "id": "dee59fba",
   "metadata": {},
   "outputs": [],
   "source": [
    "import numpy as np\n",
    "import pandas as pd\n",
    "pd.set_option('display.max_rows', None)\n",
    "import ipywidgets as widgets\n",
    "from IPython.display import display, clear_output\n",
    "from ipywidgets import HBox, VBox\n",
    "from IPython.display import HTML\n",
    "import base64\n",
    "import time"
   ]
  },
  {
   "cell_type": "code",
   "execution_count": 3,
   "id": "73675222",
   "metadata": {},
   "outputs": [],
   "source": [
    "style = {'description_width': 'auto'}\n",
    "\n",
    "master_widget = widgets.Text(\n",
    "    description='Master file:', \n",
    "    disabled=False, \n",
    "    style=style)\n",
    "\n",
    "file_widget = widgets.Text(\n",
    "    description='Participants file:', \n",
    "    disabled=False, \n",
    "    style=style)\n",
    "\n",
    "optin_widget = widgets.Text(\n",
    "    description='Opt-in file:', \n",
    "    disabled=False, \n",
    "    style=style)\n",
    "\n",
    "datafile_widget = widgets.Text(\n",
    "    description='Data file:', \n",
    "    disabled=False, \n",
    "    style=style)\n",
    "\n",
    "round_widget = widgets.Dropdown(\n",
    "    options=np.arange(1, 10),\n",
    "    description='Matching round:', \n",
    "    disabled=False, \n",
    "    style=style)\n",
    "\n",
    "import_button = widgets.Button(description='Import', style=style)\n",
    "sync_button = widgets.Button(description='Sync', style=style)\n",
    "download_data_button = widgets.Button(description='Download Data', style=style)\n",
    "\n",
    "def display_widget():\n",
    "    display(round_widget), \\\n",
    "    display(master_widget), \\\n",
    "    display(file_widget), \\\n",
    "    display(optin_widget), \\\n",
    "    display(import_button), \\\n",
    "    display(sync_button), \\\n",
    "    display(download_data_button)"
   ]
  },
  {
   "cell_type": "code",
   "execution_count": 4,
   "id": "0b48cafc",
   "metadata": {},
   "outputs": [],
   "source": [
    "def event_import(button):\n",
    "    global master_data, participants_data, optin\n",
    "    # imports the participants data and opt-in email list\n",
    "    clear_output()\n",
    "    display_widget()\n",
    "        \n",
    "    master_data = pd.read_excel(master_widget.value, index_col=0)\n",
    "    participants_data = pd.read_excel(file_widget.value, index_col=0)\n",
    "    optin = pd.read_excel(optin_widget.value, names=['email'])\n",
    "    \n",
    "    # make lowercase and remove spaces\n",
    "    master_data['email'] = master_data['email'].str.lower()\n",
    "    master_data['email'] = master_data['email'].str.strip()\n",
    "    participants_data['email'] = participants_data['email'].str.lower()\n",
    "    participants_data['email'] = participants_data['email'].str.strip()\n",
    "    optin['email'] = optin['email'].str.lower()\n",
    "    optin['email'] = optin['email'].str.strip()\n",
    "    \n",
    "    print('Imported')"
   ]
  },
  {
   "cell_type": "code",
   "execution_count": 5,
   "id": "29cbf587",
   "metadata": {},
   "outputs": [],
   "source": [
    "def event_sync(button):\n",
    "    # match up the two datasets \n",
    "    global master_data, participants_data, optin\n",
    "    clear_output()\n",
    "    display_widget()\n",
    "    \n",
    "    # populate the participants list with recent additions to the master list\n",
    "    participants_data = pd.merge(master_data, participants_data, how='outer')\n",
    "    \n",
    "    # check if the length of the intersection between the two lists is the same as the length of optin\n",
    "    # if it isn't, then that means there is an error\n",
    "    if np.count_nonzero(np.in1d(participants_data['email'].to_numpy(), optin['email'].to_numpy())) != \\\n",
    "                len(optin):\n",
    "        if np.count_nonzero(np.in1d(participants_data['email'].to_numpy(), optin['email'].to_numpy())) < \\\n",
    "            len(optin):\n",
    "            print('Lengths don\\'t match, likely an opt-in participant didn\\'t fill out the intake form')\n",
    "            print('Fix the participants / opt-in lists and start again')\n",
    "    \n",
    "        elif np.count_nonzero(np.in1d(participants_data['email'].to_numpy(), optin['email'].to_numpy())) > \\\n",
    "            len(optin):\n",
    "            print('Lengths don\\'t match, likely there is a duplicate in the intake form')\n",
    "            print('Fix the participants / opt-in lists and start again')\n",
    "    \n",
    "    else:\n",
    "        print('Lengths match, good, proceeding')\n",
    "        time.sleep(2)\n",
    "        # populate the current round opt-in column from the opt-in list\n",
    "        participants_data['round'+str(round_widget.value)] = np.zeros(len(participants_data))\n",
    "        for i, answer in enumerate(np.in1d(participants_data['email'].to_numpy(), \\\n",
    "                                           optin['email'].to_numpy())):\n",
    "            if answer:\n",
    "                participants_data.loc[i, 'round'+str(round_widget.value)] = 'Yes'\n",
    "            else:\n",
    "                participants_data.loc[i, 'round'+str(round_widget.value)] = 'No'\n",
    "        \n",
    "        # replace field that's entirely space (or empty) with 'No'\n",
    "        participants_data.replace(r'^\\s*$', 'No', regex=True)\n",
    "                    \n",
    "        if np.any(participants_data['round'+str(round_widget.value)]) == 0:\n",
    "            # make sure they were each given 'Yes' or 'No'\n",
    "            print('ERROR')\n",
    "        else:\n",
    "            print('All done')"
   ]
  },
  {
   "cell_type": "code",
   "execution_count": 6,
   "id": "886b5a0d",
   "metadata": {},
   "outputs": [],
   "source": [
    "def create_download_link(df, title=\"Download CSV file\", filename=\"data.csv\"): \n",
    "    # turns the pandas DataFrame into a csv to download\n",
    "    csv = df.to_csv(index=True)\n",
    "    b64 = base64.b64encode(csv.encode())\n",
    "    payload = b64.decode()\n",
    "    html = '<a download=\"{filename}\" href=\"data:text/csv;base64,{payload}\" target=\"_blank\">{title}</a>'\n",
    "    html = html.format(payload=payload,title=title,filename=filename)\n",
    "    display(HTML(html))\n",
    "    \n",
    "def event_download_data(button):\n",
    "    # button to download the participants data\n",
    "    global master_data, participants_data, optin\n",
    "    clear_output()\n",
    "    display_widget()\n",
    "    return create_download_link(participants_data, \\\n",
    "                                title=\"download round %i participants\"%round_widget.value, \\\n",
    "                                filename=\"round_%i_participants.csv\"%round_widget.value)"
   ]
  },
  {
   "cell_type": "code",
   "execution_count": 7,
   "id": "3c9fb8e1",
   "metadata": {},
   "outputs": [],
   "source": [
    "# connecting the jupyter buttons to the actions for each button \n",
    "import_button.on_click(event_import)\n",
    "sync_button.on_click(event_sync)\n",
    "download_data_button.on_click(event_download_data)"
   ]
  },
  {
   "cell_type": "raw",
   "id": "89995162",
   "metadata": {},
   "source": [
    "Participants: Spring2023_program/round_1_master.xlsx\n",
    "Master: Spring2023_program/round_1_master.xlsx\n",
    "optin: Spring2023_program/round_1_optin.xlsx\n",
    "\n",
    "Participants: Spring2023_program/round_1_match.xlsx\n",
    "Master: Spring2023_program/round_2_master.xlsx\n",
    "optin: Spring2023_program/round_2_optin.xlsx"
   ]
  },
  {
   "cell_type": "code",
   "execution_count": 8,
   "id": "eae16b48",
   "metadata": {},
   "outputs": [
    {
     "data": {
      "application/vnd.jupyter.widget-view+json": {
       "model_id": "cb813661685b4de4bace4b839ebd8ea4",
       "version_major": 2,
       "version_minor": 0
      },
      "text/plain": [
       "Dropdown(description='Matching round:', index=1, options=(1, 2, 3, 4, 5, 6, 7, 8, 9), style=DescriptionStyle(d…"
      ]
     },
     "metadata": {},
     "output_type": "display_data"
    },
    {
     "data": {
      "application/vnd.jupyter.widget-view+json": {
       "model_id": "484877195e61410e9f3a36f650d31ecf",
       "version_major": 2,
       "version_minor": 0
      },
      "text/plain": [
       "Text(value='Spring2023_program/round_2_master.xlsx', description='Master file:', style=TextStyle(description_w…"
      ]
     },
     "metadata": {},
     "output_type": "display_data"
    },
    {
     "data": {
      "application/vnd.jupyter.widget-view+json": {
       "model_id": "a804da8c68324d04aab73cebce73127c",
       "version_major": 2,
       "version_minor": 0
      },
      "text/plain": [
       "Text(value='Spring2023_program/round_1_match.xlsx', description='Participants file:', style=TextStyle(descript…"
      ]
     },
     "metadata": {},
     "output_type": "display_data"
    },
    {
     "data": {
      "application/vnd.jupyter.widget-view+json": {
       "model_id": "ce7a78ed57344ce8bcf7a3260c85da74",
       "version_major": 2,
       "version_minor": 0
      },
      "text/plain": [
       "Text(value='Spring2023_program/round_2_optin.xlsx', description='Opt-in file:', style=TextStyle(description_wi…"
      ]
     },
     "metadata": {},
     "output_type": "display_data"
    },
    {
     "data": {
      "application/vnd.jupyter.widget-view+json": {
       "model_id": "3484320d33c64598b074677b6ca17726",
       "version_major": 2,
       "version_minor": 0
      },
      "text/plain": [
       "Button(description='Import', style=ButtonStyle())"
      ]
     },
     "metadata": {},
     "output_type": "display_data"
    },
    {
     "data": {
      "application/vnd.jupyter.widget-view+json": {
       "model_id": "f8232594c5ab47f4ad0858bc18e7990c",
       "version_major": 2,
       "version_minor": 0
      },
      "text/plain": [
       "Button(description='Sync', style=ButtonStyle())"
      ]
     },
     "metadata": {},
     "output_type": "display_data"
    },
    {
     "data": {
      "application/vnd.jupyter.widget-view+json": {
       "model_id": "a413f549e43a45a5af3c5cc9fe43a3d5",
       "version_major": 2,
       "version_minor": 0
      },
      "text/plain": [
       "Button(description='Download Data', style=ButtonStyle())"
      ]
     },
     "metadata": {},
     "output_type": "display_data"
    },
    {
     "data": {
      "text/html": [
       "<a download=\"round_2_participants.csv\" href=\"data:text/csv;base64,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\" target=\"_blank\">download round 2 participants</a>"
      ],
      "text/plain": [
       "<IPython.core.display.HTML object>"
      ]
     },
     "metadata": {},
     "output_type": "display_data"
    }
   ],
   "source": [
    "clear_output()\n",
    "display_widget()"
   ]
  },
  {
   "cell_type": "code",
   "execution_count": null,
   "id": "9e8c79eb",
   "metadata": {},
   "outputs": [],
   "source": []
  },
  {
   "cell_type": "code",
   "execution_count": null,
   "id": "6c924f36",
   "metadata": {},
   "outputs": [],
   "source": []
  }
 ],
 "metadata": {
  "kernelspec": {
   "display_name": "Python 3 (ipykernel)",
   "language": "python",
   "name": "python3"
  },
  "language_info": {
   "codemirror_mode": {
    "name": "ipython",
    "version": 3
   },
   "file_extension": ".py",
   "mimetype": "text/x-python",
   "name": "python",
   "nbconvert_exporter": "python",
   "pygments_lexer": "ipython3",
   "version": "3.9.13"
  }
 },
 "nbformat": 4,
 "nbformat_minor": 5
}
